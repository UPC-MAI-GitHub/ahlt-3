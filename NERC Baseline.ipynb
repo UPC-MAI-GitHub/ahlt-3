{
 "cells": [
  {
   "cell_type": "markdown",
   "metadata": {},
   "source": [
    "## NERC Project for Recognizing and Classifying Drugs"
   ]
  },
  {
   "cell_type": "code",
   "execution_count": 1,
   "metadata": {},
   "outputs": [],
   "source": [
    "import sys\n",
    "import string\n",
    "from os import listdir\n",
    "from xml.dom.minidom import parse\n",
    "import matplotlib.pyplot as plt"
   ]
  },
  {
   "cell_type": "code",
   "execution_count": 2,
   "metadata": {},
   "outputs": [],
   "source": [
    "plt.rcParams['figure.figsize'] = (20, 10)"
   ]
  },
  {
   "cell_type": "markdown",
   "metadata": {},
   "source": [
    "### Tokenize Sentence"
   ]
  },
  {
   "cell_type": "code",
   "execution_count": 3,
   "metadata": {},
   "outputs": [
    {
     "name": "stderr",
     "output_type": "stream",
     "text": [
      "[nltk_data] Downloading package punkt to /Users/mponsclo/nltk_data...\n",
      "[nltk_data]   Package punkt is already up-to-date!\n",
      "[nltk_data] Downloading package stopwords to\n",
      "[nltk_data]     /Users/mponsclo/nltk_data...\n",
      "[nltk_data]   Package stopwords is already up-to-date!\n"
     ]
    },
    {
     "data": {
      "text/plain": [
       "True"
      ]
     },
     "execution_count": 3,
     "metadata": {},
     "output_type": "execute_result"
    }
   ],
   "source": [
    "import nltk\n",
    "from nltk.tokenize import word_tokenize\n",
    "nltk.download('punkt')\n",
    "nltk.download('stopwords')"
   ]
  },
  {
   "cell_type": "code",
   "execution_count": 4,
   "metadata": {},
   "outputs": [],
   "source": [
    "# Sentence examples\n",
    "sent_1 = \"Activation of an effector immediate-early gene arc by methamphetamine\"\n",
    "sent_2 = \"In situations in which concurrent therapy is necessary, careful patient monitoring is essential.\"\n",
    "sent_3 = \"Phenothiazines and butyrophenones may reduce or reverse the depressor effect of epinephrine.\""
   ]
  },
  {
   "cell_type": "code",
   "execution_count": 5,
   "metadata": {},
   "outputs": [
    {
     "name": "stdout",
     "output_type": "stream",
     "text": [
      "['Phenothiazines', 'and', 'butyrophenones', 'may', 'reduce', 'or', 'reverse', 'the', 'depressor', 'effect', 'of', 'epinephrine', '.']\n"
     ]
    }
   ],
   "source": [
    "# Tokenize word\n",
    "tokenized_sent_1 = word_tokenize(sent_1)\n",
    "tokenized_sent_2 = word_tokenize(sent_2)\n",
    "tokenized_sent_3 = word_tokenize(sent_3)\n",
    "print(tokenized_sent_3)"
   ]
  },
  {
   "cell_type": "code",
   "execution_count": 6,
   "metadata": {},
   "outputs": [
    {
     "name": "stdout",
     "output_type": "stream",
     "text": [
      "OffsetFrom: 0\n",
      "OffsetTo: 13\n",
      "\n",
      "OffsetFrom: 3\n",
      "OffsetTo: 12\n"
     ]
    }
   ],
   "source": [
    "# Use the .find() method to find offset and end position\n",
    "print(\"OffsetFrom: \" + str(sent_3.find(tokenized_sent_3[0]))) # offset\n",
    "print(\"OffsetTo: \" + str(sent_3.find(tokenized_sent_3[0]) + len(tokenized_sent_3[0]) - 1)) # end\n",
    "print(\"\")\n",
    "print(\"OffsetFrom: \" + str(sent_2.find(tokenized_sent_2[1]))) # offset\n",
    "print(\"OffsetTo: \" + str(sent_2.find(tokenized_sent_2[1]) + len(tokenized_sent_2[1]) - 1)) # end\n",
    "\n",
    "# From this results generate desired output: list of tuples (word, offsetFrom, offsetTo)"
   ]
  },
  {
   "cell_type": "code",
   "execution_count": 7,
   "metadata": {},
   "outputs": [
    {
     "name": "stdout",
     "output_type": "stream",
     "text": [
      "Tokenized Sentence: ['Phenothiazines', 'and', 'butyrophenones', 'may', 'reduce', 'or', 'reverse', 'the', 'depressor', 'effect', 'of', 'epinephrine', '.']\n",
      "Filterd Sentence: ['Phenothiazines', 'butyrophenones', 'may', 'reduce', 'reverse', 'depressor', 'effect', 'epinephrine']\n"
     ]
    }
   ],
   "source": [
    "# Removing Stopwords and Punctuations to Reduce Workload\n",
    "from nltk.corpus import stopwords\n",
    "stop_words = set(stopwords.words(\"english\"))\n",
    "\n",
    "filtered_sent = []\n",
    "\n",
    "for w in tokenized_sent_3:\n",
    "    if (w not in stop_words) & (w.isalpha()):\n",
    "        filtered_sent.append(w)\n",
    "\n",
    "print(\"Tokenized Sentence:\",tokenized_sent_3)\n",
    "print(\"Filterd Sentence:\",filtered_sent)"
   ]
  },
  {
   "cell_type": "code",
   "execution_count": 8,
   "metadata": {},
   "outputs": [],
   "source": [
    "def tokenize(s):\n",
    "    '''\n",
    "    Given a sentence , calls nltk.tokenize to split it in tokens, and adds to each token its start / end offset \n",
    "    in the original sentence .\n",
    "    Input - s: string containing the text for one sentence\n",
    "    Output - Returns a list of tuples (word , offsetFrom , offsetTo )'''\n",
    "\n",
    "    token_list = []\n",
    "    tokens = word_tokenize(s)\n",
    "    stop_words = set(stopwords.words(\"english\"))\n",
    "    \n",
    "    for t in tokens:\n",
    "        if (t in stop_words) | (not t.isalpha()): # reduce workload\n",
    "            continue\n",
    "        else:\n",
    "            offsetFrom = s.find(t)\n",
    "            offsetTo = offsetFrom + len(t) - 1\n",
    "            token_list.append((t, offsetFrom, offsetTo))\n",
    "            \n",
    "    return token_list"
   ]
  },
  {
   "cell_type": "code",
   "execution_count": 9,
   "metadata": {},
   "outputs": [
    {
     "name": "stdout",
     "output_type": "stream",
     "text": [
      "[('Phenothiazines', 0, 13), ('butyrophenones', 19, 32), ('may', 34, 36), ('reduce', 38, 43), ('reverse', 48, 54), ('depressor', 60, 68), ('effect', 70, 75), ('epinephrine', 80, 90)]\n"
     ]
    }
   ],
   "source": [
    "# \"Activation of an effector immediate-early gene arc by methamphetamine\"\n",
    "sent = tokenize(sent_3)\n",
    "print(sent)"
   ]
  },
  {
   "cell_type": "markdown",
   "metadata": {},
   "source": [
    "### Classify Token"
   ]
  },
  {
   "cell_type": "markdown",
   "metadata": {},
   "source": [
    "Examine (by hand or collecting simple statistics) the train dataset and try to infer general rules that are right in most cases, even if they seldom apply (high precision, low recall)."
   ]
  },
  {
   "cell_type": "code",
   "execution_count": 11,
   "metadata": {},
   "outputs": [],
   "source": [
    "import xml.etree.ElementTree as ET\n",
    "import pandas as pd\n",
    "\n",
    "datadir = \"/Users/mponsclo/Documents/DataScience/ALHT_Project/train\"\n",
    "#datadir = \"../labAHLT/data/train\"\n",
    "df = pd.DataFrame() # initialize Data Frame\n",
    "\n",
    "for f in listdir(datadir):\n",
    "        try:\n",
    "            filename = datadir + \"/\" + f\n",
    "            tree = ET.parse(filename) # Some file rose an error when parsing\n",
    "            root = tree.getroot()\n",
    "        \n",
    "            for elem in root:\n",
    "                for subelem in elem.findall('entity'):\n",
    "                    aux_df = pd.DataFrame({'Name': subelem.get('text'), 'Type': subelem.get('type')}, index=[0])\n",
    "                    df = df.append(aux_df)\n",
    "        except:\n",
    "            continue"
   ]
  },
  {
   "cell_type": "code",
   "execution_count": 29,
   "metadata": {},
   "outputs": [
    {
     "name": "stdout",
     "output_type": "stream",
     "text": [
      "963\n",
      "1781\n"
     ]
    }
   ],
   "source": [
    "print(df['Name'].str.isupper().sum())\n",
    "print(df['Name'].str.istitle().sum())"
   ]
  },
  {
   "cell_type": "code",
   "execution_count": 78,
   "metadata": {},
   "outputs": [
    {
     "name": "stdout",
     "output_type": "stream",
     "text": [
      "219\n"
     ]
    },
    {
     "data": {
      "image/png": "[encoded data removed]",
      "text/plain": [
       "<Figure size 576x360 with 1 Axes>"
      ]
     },
     "metadata": {
      "needs_background": "light"
     },
     "output_type": "display_data"
    }
   ],
   "source": [
    "# Analysis of Types\n",
    "# Visual to cluttered, better from the data frames.\n",
    "\n",
    "group = df[df[\"Type\"] == \"group\"]\n",
    "brand = df[df[\"Type\"] == \"brand\"]\n",
    "drug = df[(df[\"Type\"]=='drug') | (df[\"Type\"]== \"drug_n\")]\n",
    "\n",
    "group_counts = pd.DataFrame({'Count' : group['Name'].value_counts()})\n",
    "brand_counts = pd.DataFrame({'Count' : brand['Name'].value_counts()})\n",
    "drug_counts = pd.DataFrame({'Count' : drug['Name'].value_counts()})\n",
    "\n",
    "drug_counts['Name'] = drug_counts.index\n",
    "drug_counts = drug_counts[[\"Name\", \"Count\"]]\n",
    "#drug_counts.head(10)\n",
    "\n",
    "# drug_counts.to_csv(r'/Users/mponsclo/Desktop/Drug_count.csv', index = False)\n",
    "print(drug['Name'].str.isupper().sum())\n",
    "\n",
    "df2 = pd.DataFrame({'lab' : ['Group', 'Brand', 'Drug'], 'Count' : [group['Name'].str.isupper().sum(),\n",
    "                                                                   brand['Name'].str.isupper().sum(),\n",
    "                                                                   drug['Name'].str.isupper().sum()]})\n",
    "\n",
    "ax = df2.plot.bar(x='lab', y = 'Count', figsize = (8,5), title = 'Number of Capitalized Words', rot=0,\n",
    "                 legend = False, xlabel = '')"
   ]
  },
  {
   "cell_type": "code",
   "execution_count": 52,
   "metadata": {
    "scrolled": false
   },
   "outputs": [
    {
     "data": {
      "image/png": "[encoded data removed]",
      "text/plain": [
       "<Figure size 1440x720 with 1 Axes>"
      ]
     },
     "metadata": {
      "needs_background": "light"
     },
     "output_type": "display_data"
    }
   ],
   "source": [
    "ax = drug_counts[(drug_counts[\"Count\"] > 35)].plot.bar()"
   ]
  },
  {
   "cell_type": "code",
   "execution_count": 57,
   "metadata": {},
   "outputs": [
    {
     "data": {
      "image/png": "[encoded data removed]",
      "text/plain": [
       "<Figure size 1440x720 with 1 Axes>"
      ]
     },
     "metadata": {
      "needs_background": "light"
     },
     "output_type": "display_data"
    }
   ],
   "source": [
    "ax = group_counts[(group_counts[\"Count\"] > 25)].plot.bar(rot = 45)"
   ]
  },
  {
   "cell_type": "code",
   "execution_count": 66,
   "metadata": {},
   "outputs": [
    {
     "data": {
      "image/png": "[encoded data removed]",
      "text/plain": [
       "<Figure size 1440x720 with 1 Axes>"
      ]
     },
     "metadata": {
      "needs_background": "light"
     },
     "output_type": "display_data"
    }
   ],
   "source": [
    "ax = brand_counts[(brand_counts[\"Count\"] > 13)].plot.bar(rot = 0)"
   ]
  },
  {
   "cell_type": "markdown",
   "metadata": {},
   "source": [
    "#### Reading drug db"
   ]
  },
  {
   "cell_type": "code",
   "execution_count": 15,
   "metadata": {},
   "outputs": [],
   "source": [
    "# Using drug database\n",
    "#resource_path = \"/Users/mponsclo/Documents/DataScience/ALHT_Project/resources/HSDB.txt\"\n",
    "resource_path =\"../labAHLT/resources/HSDB.txt\"\n",
    "drug_set = set()\n",
    "with open(resource_path, 'r') as resource_file:\n",
    "    drugs = resource_file.readlines()\n",
    "    drug_set = set([d[:-1].lower() for d in drugs])\n",
    "    #print(drug_set)\n"
   ]
  },
  {
   "cell_type": "code",
   "execution_count": 68,
   "metadata": {},
   "outputs": [],
   "source": [
    "def token_type_classifier(word):\n",
    "        \n",
    "    threes = [\"nol\", \"lol\", \"hol\", \"lam\", \"pam\"]\n",
    "    fours = [\"arin\", \"oxin\", \"toin\",\"pine\", \"tine\", \"bital\", \"inol\", \"pram\"]\n",
    "    fives = [\"azole\", \"idine\", \"orine\", \"mycin\", \"hrine\", \"exate\", \"amine\", \"emide\"]\n",
    "\n",
    "    groups = [\"depressants\", \"steroid\", \"ceptives\", \"urates\", \"amines\", \"azines\", \"phenones\", \n",
    "              \"inhib\", \"coagul\", \"block\", \"acids\", \"agent\"]\n",
    "    \n",
    "    if word.isupper() & (len(word) >= 4): \n",
    "        return True, \"brand\"  # add word[0].isupper ?\n",
    "    elif (word[-3:] in threes) | (word[-4:] in fours) | (word[-5:] in fives):\n",
    "        return True, \"drug\"\n",
    "    elif (True in [t in word for t in groups]) | ((word[-1:] == \"s\") & (word[-2].isupper())) | (word.isupper() & (len(word) < 4)): \n",
    "        return True, \"group\"\n",
    "    elif word in drug_set:        # Drug Database Checking\n",
    "        return True, \"drug\"\n",
    "    else: \n",
    "        return False, \"\""
   ]
  },
  {
   "cell_type": "code",
   "execution_count": 69,
   "metadata": {},
   "outputs": [
    {
     "name": "stdout",
     "output_type": "stream",
     "text": [
      "(True, 'group')\n",
      "(True, 'drug')\n",
      "(True, 'drug')\n",
      "(True, 'brand')\n",
      "(True, 'group')\n"
     ]
    }
   ],
   "source": [
    "print(token_type_classifier(\"NSAIDs\"))\n",
    "print(token_type_classifier(\"cimitidine\"))\n",
    "print(token_type_classifier(\"clozapine\"))\n",
    "print(token_type_classifier(\"TAXOL\"))\n",
    "print(token_type_classifier(\"antacids\"))"
   ]
  },
  {
   "cell_type": "markdown",
   "metadata": {},
   "source": [
    "### Entity Extractor"
   ]
  },
  {
   "cell_type": "code",
   "execution_count": 70,
   "metadata": {},
   "outputs": [],
   "source": [
    "def extract_entities(s):\n",
    "    ''' Given a tokenized sentence , identify which tokens (or groups of consecutive tokens) are drugs\n",
    "    Input - s: A tokenized sentence ( list of triples (word , offsetFrom , offsetTo ) )\n",
    "    Output - A list of entities. Each entity is a dictionary with the keys 'name ', ' offset ', and 'type '''\n",
    "\n",
    "\n",
    "    output = []\n",
    "    for t in s:\n",
    "        tokenText = t[0] # get the only the text from (text, offsetFrom, offsetTo)\n",
    "        (is_brand_drug_group, type_text) = token_type_classifier(tokenText)\n",
    "        \n",
    "        if is_brand_drug_group:\n",
    "            offsetFrom = t[1]\n",
    "            offsetTo = t[2]\n",
    "            entity = {\"name\" : tokenText,\n",
    "                     \"offset\" : str(offsetFrom) + \"-\" + str(offsetTo), \n",
    "                     \"type\" : type_text}\n",
    "            output.append(entity)\n",
    "    \n",
    "    return(output)"
   ]
  },
  {
   "cell_type": "code",
   "execution_count": 77,
   "metadata": {},
   "outputs": [],
   "source": [
    "entity = extract_entities(sent)\n",
    "for e in entity:\n",
    "    print(\"ID\" + \"|\" + e[\"offset\"] + \"|\" + e[\"name\"] + \"|\" + e[\"type\"])"
   ]
  },
  {
   "cell_type": "markdown",
   "metadata": {},
   "source": [
    "### Main Function"
   ]
  },
  {
   "cell_type": "code",
   "execution_count": 72,
   "metadata": {},
   "outputs": [],
   "source": [
    "datadir = \"/Users/mponsclo/Documents/DataScience/ALHT_Project/train\"\n",
    "datadir = \"../labAHLT/data/train\"\n",
    "def main(datadir): #, outfile):\n",
    "    '''datadir - directory with XML files\n",
    "       outfile - name for the outputfile'''\n",
    "    \n",
    "        # process each file in directory\n",
    "    for f in listdir(datadir):\n",
    "        try: \n",
    "            # parse XML file, obtaining a DOM tree\n",
    "            tree = parse(datadir + \"/\" + f)\n",
    "            # process each senetence in the file\n",
    "            sentences = tree.getElementsByTagName(\"sentence\")\n",
    "            for s in sentences:\n",
    "                    sid = s.attributes[\"id\"].value        # get sentence id\n",
    "                    stext = s.attributes[\"text\"].value    # get sentence text\n",
    "                    # tokenize text\n",
    "                    tokens = tokenize(stext)\n",
    "                    # extract entities from tokenized sentence text\n",
    "                    entities = extract_entities(tokens)\n",
    "\n",
    "                    # print sentence entities in format requested for evaluation\n",
    "                    for e in entities:\n",
    "                        print(sid + \" | \" + e[\"offset\"] + \" | \" + e[\"name\"] + \" |\" + e[\"type\"]) #, file = outfile)\n",
    "        except:\n",
    "            pass\n",
    "        # print performance score\n",
    "        #evaluator.evaluate(\"NER\", datadir, outfile)"
   ]
  },
  {
   "cell_type": "code",
   "execution_count": 74,
   "metadata": {},
   "outputs": [],
   "source": [
    "result = main(datadir)\n",
    "#print(result)"
   ]
  },
  {
   "cell_type": "markdown",
   "metadata": {},
   "source": [
    "### Others"
   ]
  },
  {
   "cell_type": "code",
   "execution_count": 22,
   "metadata": {},
   "outputs": [
    {
     "ename": "FileNotFoundError",
     "evalue": "[Errno 2] No such file or directory: '/Users/mponsclo/Documents/DataScience/ALHT_Project/train'",
     "output_type": "error",
     "traceback": [
      "\u001b[0;31m---------------------------------------------------------------------------\u001b[0m",
      "\u001b[0;31mFileNotFoundError\u001b[0m                         Traceback (most recent call last)",
      "\u001b[0;32m<ipython-input-22-0812ba3971f2>\u001b[0m in \u001b[0;36m<module>\u001b[0;34m\u001b[0m\n\u001b[1;32m      1\u001b[0m \u001b[0;31m# Check the process of iteration through XML files in the folder\u001b[0m\u001b[0;34m\u001b[0m\u001b[0;34m\u001b[0m\u001b[0;34m\u001b[0m\u001b[0m\n\u001b[1;32m      2\u001b[0m \u001b[0mdatadir\u001b[0m \u001b[0;34m=\u001b[0m \u001b[0;34m\"/Users/mponsclo/Documents/DataScience/ALHT_Project/train\"\u001b[0m\u001b[0;34m\u001b[0m\u001b[0;34m\u001b[0m\u001b[0m\n\u001b[0;32m----> 3\u001b[0;31m \u001b[0;32mfor\u001b[0m \u001b[0mf\u001b[0m \u001b[0;32min\u001b[0m \u001b[0mlistdir\u001b[0m\u001b[0;34m(\u001b[0m\u001b[0mdatadir\u001b[0m\u001b[0;34m)\u001b[0m\u001b[0;34m:\u001b[0m\u001b[0;34m\u001b[0m\u001b[0;34m\u001b[0m\u001b[0m\n\u001b[0m\u001b[1;32m      4\u001b[0m     \u001b[0mfilename\u001b[0m \u001b[0;34m=\u001b[0m \u001b[0mdatadir\u001b[0m \u001b[0;34m+\u001b[0m \u001b[0;34m\"/\"\u001b[0m \u001b[0;34m+\u001b[0m \u001b[0mf\u001b[0m\u001b[0;34m\u001b[0m\u001b[0;34m\u001b[0m\u001b[0m\n\u001b[1;32m      5\u001b[0m     \u001b[0;31m#print(filename)\u001b[0m\u001b[0;34m\u001b[0m\u001b[0;34m\u001b[0m\u001b[0;34m\u001b[0m\u001b[0m\n",
      "\u001b[0;31mFileNotFoundError\u001b[0m: [Errno 2] No such file or directory: '/Users/mponsclo/Documents/DataScience/ALHT_Project/train'"
     ]
    }
   ],
   "source": [
    "# Check the process of iteration through XML files in the folder\n",
    "datadir = \"/Users/mponsclo/Documents/DataScience/ALHT_Project/train\"\n",
    "for f in listdir(datadir):\n",
    "    filename = datadir + \"/\" + f\n",
    "    #print(filename)"
   ]
  },
  {
   "cell_type": "code",
   "execution_count": 23,
   "metadata": {},
   "outputs": [
    {
     "ename": "FileNotFoundError",
     "evalue": "[Errno 2] No such file or directory: '/Users/mponsclo/Documents/DataScience/ALHT_Project/train/Estramustine_ddi.xml'",
     "output_type": "error",
     "traceback": [
      "\u001b[0;31m---------------------------------------------------------------------------\u001b[0m",
      "\u001b[0;31mFileNotFoundError\u001b[0m                         Traceback (most recent call last)",
      "\u001b[0;32m<ipython-input-23-8b45781ed833>\u001b[0m in \u001b[0;36m<module>\u001b[0;34m\u001b[0m\n\u001b[1;32m      1\u001b[0m \u001b[0;31m# Construction of the dataframe\u001b[0m\u001b[0;34m\u001b[0m\u001b[0;34m\u001b[0m\u001b[0;34m\u001b[0m\u001b[0m\n\u001b[0;32m----> 2\u001b[0;31m \u001b[0mtree\u001b[0m \u001b[0;34m=\u001b[0m \u001b[0mET\u001b[0m\u001b[0;34m.\u001b[0m\u001b[0mparse\u001b[0m\u001b[0;34m(\u001b[0m\u001b[0;34m\"/Users/mponsclo/Documents/DataScience/ALHT_Project/train/Estramustine_ddi.xml\"\u001b[0m\u001b[0;34m)\u001b[0m\u001b[0;34m\u001b[0m\u001b[0;34m\u001b[0m\u001b[0m\n\u001b[0m\u001b[1;32m      3\u001b[0m \u001b[0mroot\u001b[0m \u001b[0;34m=\u001b[0m \u001b[0mtree\u001b[0m\u001b[0;34m.\u001b[0m\u001b[0mgetroot\u001b[0m\u001b[0;34m(\u001b[0m\u001b[0;34m)\u001b[0m\u001b[0;34m\u001b[0m\u001b[0;34m\u001b[0m\u001b[0m\n\u001b[1;32m      4\u001b[0m \u001b[0;34m\u001b[0m\u001b[0m\n\u001b[1;32m      5\u001b[0m \u001b[0;32mfor\u001b[0m \u001b[0melem\u001b[0m \u001b[0;32min\u001b[0m \u001b[0mroot\u001b[0m\u001b[0;34m:\u001b[0m\u001b[0;34m\u001b[0m\u001b[0;34m\u001b[0m\u001b[0m\n",
      "\u001b[0;32m/usr/lib/python3.8/xml/etree/ElementTree.py\u001b[0m in \u001b[0;36mparse\u001b[0;34m(source, parser)\u001b[0m\n\u001b[1;32m   1200\u001b[0m     \"\"\"\n\u001b[1;32m   1201\u001b[0m     \u001b[0mtree\u001b[0m \u001b[0;34m=\u001b[0m \u001b[0mElementTree\u001b[0m\u001b[0;34m(\u001b[0m\u001b[0;34m)\u001b[0m\u001b[0;34m\u001b[0m\u001b[0;34m\u001b[0m\u001b[0m\n\u001b[0;32m-> 1202\u001b[0;31m     \u001b[0mtree\u001b[0m\u001b[0;34m.\u001b[0m\u001b[0mparse\u001b[0m\u001b[0;34m(\u001b[0m\u001b[0msource\u001b[0m\u001b[0;34m,\u001b[0m \u001b[0mparser\u001b[0m\u001b[0;34m)\u001b[0m\u001b[0;34m\u001b[0m\u001b[0;34m\u001b[0m\u001b[0m\n\u001b[0m\u001b[1;32m   1203\u001b[0m     \u001b[0;32mreturn\u001b[0m \u001b[0mtree\u001b[0m\u001b[0;34m\u001b[0m\u001b[0;34m\u001b[0m\u001b[0m\n\u001b[1;32m   1204\u001b[0m \u001b[0;34m\u001b[0m\u001b[0m\n",
      "\u001b[0;32m/usr/lib/python3.8/xml/etree/ElementTree.py\u001b[0m in \u001b[0;36mparse\u001b[0;34m(self, source, parser)\u001b[0m\n\u001b[1;32m    582\u001b[0m         \u001b[0mclose_source\u001b[0m \u001b[0;34m=\u001b[0m \u001b[0;32mFalse\u001b[0m\u001b[0;34m\u001b[0m\u001b[0;34m\u001b[0m\u001b[0m\n\u001b[1;32m    583\u001b[0m         \u001b[0;32mif\u001b[0m \u001b[0;32mnot\u001b[0m \u001b[0mhasattr\u001b[0m\u001b[0;34m(\u001b[0m\u001b[0msource\u001b[0m\u001b[0;34m,\u001b[0m \u001b[0;34m\"read\"\u001b[0m\u001b[0;34m)\u001b[0m\u001b[0;34m:\u001b[0m\u001b[0;34m\u001b[0m\u001b[0;34m\u001b[0m\u001b[0m\n\u001b[0;32m--> 584\u001b[0;31m             \u001b[0msource\u001b[0m \u001b[0;34m=\u001b[0m \u001b[0mopen\u001b[0m\u001b[0;34m(\u001b[0m\u001b[0msource\u001b[0m\u001b[0;34m,\u001b[0m \u001b[0;34m\"rb\"\u001b[0m\u001b[0;34m)\u001b[0m\u001b[0;34m\u001b[0m\u001b[0;34m\u001b[0m\u001b[0m\n\u001b[0m\u001b[1;32m    585\u001b[0m             \u001b[0mclose_source\u001b[0m \u001b[0;34m=\u001b[0m \u001b[0;32mTrue\u001b[0m\u001b[0;34m\u001b[0m\u001b[0;34m\u001b[0m\u001b[0m\n\u001b[1;32m    586\u001b[0m         \u001b[0;32mtry\u001b[0m\u001b[0;34m:\u001b[0m\u001b[0;34m\u001b[0m\u001b[0;34m\u001b[0m\u001b[0m\n",
      "\u001b[0;31mFileNotFoundError\u001b[0m: [Errno 2] No such file or directory: '/Users/mponsclo/Documents/DataScience/ALHT_Project/train/Estramustine_ddi.xml'"
     ]
    }
   ],
   "source": [
    "# Construction of the dataframe\n",
    "tree = ET.parse(\"/Users/mponsclo/Documents/DataScience/ALHT_Project/train/Estramustine_ddi.xml\")\n",
    "root = tree.getroot()\n",
    "    \n",
    "for elem in root:\n",
    "    for subelem in elem.findall('entity'):    \n",
    "        # if we know the name of the attribute, access it directly\n",
    "        # aux_dict = {\"text\":subelem.get('text'), \"type\":subelem.get('type')} # as a dict\n",
    "        \n",
    "        aux_df = pd.DataFrame({'Name': subelem.get('text'), 'Type': subelem.get('type')}, index=[0])\n",
    "        df = df.append(aux_df)"
   ]
  },
  {
   "cell_type": "code",
   "execution_count": 24,
   "metadata": {},
   "outputs": [],
   "source": [
    "# -------- If-elif-else Tests ----------\n",
    "threes = [\"nol\", \"lol\", \"hol\", \"lam\", \"pam\"]\n",
    "fours = [\"arin\", \"oxin\", \"toin\",\"pine\", \"tine\", \"bital\", \"inol\", \"pram\"]\n",
    "fives = [\"azole\", \"idine\", \"orine\", \"mycin\", \"exate\", \"amine\", \"emide\"]\n",
    "\n",
    "groups = [\"depressants\", \"steroid\", \"ceptives\", \"urates\", \"amines\", \"azines\", \"inhib\", \"coagul\", \"block\", \"acids\"]\n",
    "\n",
    "prove_group = \"NSAIDs\"\n",
    "prove_group_2 = \"SSRIs\"\n",
    "prove_group_3 = \"antacids\"\n",
    "\n",
    "prove_drug = \"alcohol\"\n",
    "prove_drug_2 = \"cimitidine\"\n",
    "prove_drug_3 = \"clozapine\"\n",
    "\n",
    "prove_brand = \"TAXOL\"\n",
    "prove_brand_2 = \"VIOXX\"\n",
    "\n",
    "#if (prove_brand_2.isupper() | prove_brand_2[0].isupper()) & (len(prove_brand) >= 4): \n",
    "#    print(\"brand\")\n",
    "#else:\n",
    "#    print(\"No\")\n",
    "\n",
    "#if prove_drug_3[-4:] in fours: \n",
    "#    print(\"drug\")\n",
    "#else:\n",
    "#    print(\"False\")\n",
    "\n",
    "#if (True in [t in prove_group_3 for t in groups]) | (prove_group_3.isupper() & len(prove_group_3) < 4): print(\"group\")"
   ]
  },
  {
   "cell_type": "code",
   "execution_count": 25,
   "metadata": {},
   "outputs": [
    {
     "name": "stdout",
     "output_type": "stream",
     "text": [
      "('Phenothiazines', 0, 13) group\n",
      "('butyrophenones', 19, 32) group\n",
      "('epinephrine', 80, 90) drug\n"
     ]
    }
   ],
   "source": [
    "sent_1 = \"Activation of an effector immediate-early gene arc by methamphetamine\"\n",
    "for t in sent:\n",
    "    (is_brand_drug_group, type_text) = token_type_classifier(t[0])\n",
    "    #print(is_brand_drug_group, type_text)\n",
    "    \n",
    "    if is_brand_drug_group:\n",
    "        print(t, type_text)"
   ]
  },
  {
   "cell_type": "code",
   "execution_count": 26,
   "metadata": {},
   "outputs": [
    {
     "name": "stdout",
     "output_type": "stream",
     "text": [
      "4 8\n"
     ]
    }
   ],
   "source": [
    "# ------ Drug db tests -----------\n",
    "def old_token_type_classifier(word):\n",
    "    \n",
    "    threes = [\"nol\", \"lol\", \"hol\", \"lam\", \"pam\"]\n",
    "    fours = [\"arin\", \"oxin\", \"toin\",\"pine\", \"tine\", \"bital\", \"inol\", \"pram\"]\n",
    "    fives = [\"azole\", \"idine\", \"orine\", \"mycin\", \"exate\", \"amine\", \"emide\"]\n",
    "\n",
    "    groups = [\"depressants\", \"steroid\", \"ceptives\", \"urates\", \"amines\", \"azines\", \n",
    "              \"inhib\", \"coagul\", \"block\", \"acids\", \"agent\"]\n",
    "    \n",
    "    if word.isupper() & (len(word) >= 4): \n",
    "        return True, \"brand\"  # add word[0].isupper ?\n",
    "    elif (word[-3:] in threes) | (word[-4:] in fours) | (word[-5:] in fives):\n",
    "        return True, \"drug\"\n",
    "    elif (True in [t in word for t in groups]) | ((word[-1:] == \"s\") & (word[-2].isupper())) | (word.isupper() & (len(word) < 4)): \n",
    "        return True, \"group\"\n",
    "    else: \n",
    "        return False, \"\"\n",
    "    \n",
    "def with_db_type_classifier(word):\n",
    "    \n",
    "    threes = [\"nol\", \"lol\", \"hol\", \"lam\", \"pam\"]\n",
    "    fours = [\"arin\", \"oxin\", \"toin\",\"pine\", \"tine\", \"bital\", \"inol\", \"pram\"]\n",
    "    fives = [\"azole\", \"idine\", \"orine\", \"mycin\", \"exate\", \"amine\", \"emide\"]\n",
    "\n",
    "    groups = [\"depressants\", \"steroid\", \"ceptives\", \"urates\", \"amines\", \"azines\", \n",
    "              \"inhib\", \"coagul\", \"block\", \"acids\", \"agent\"]\n",
    "    \n",
    "    if word.isupper() & (len(word) >= 4): \n",
    "        return True, \"brand\"  # add word[0].isupper ?\n",
    "    elif (word[-3:] in threes) | (word[-4:] in fours) | (word[-5:] in fives):\n",
    "        return True, \"drug\"\n",
    "    elif (True in [t in word for t in groups]) | ((word[-1:] == \"s\") & (word[-2].isupper())) | (word.isupper() & (len(word) < 4)): \n",
    "        return True, \"group\"\n",
    "    # added \n",
    "    elif word in drug_set:\n",
    "        return True, \"drug\"\n",
    "    else: \n",
    "        return False, \"\"\n",
    "    \n",
    "sent = \"\"\"Activation of an effector immediate-early gene arc by methamphetamine.\n",
    "Interactions between treatments with coumaphos, bishydroxycoumarin (an anticoagulant),\n",
    "trichlorfon (an organophosphorous compound), and phenobarbital sodium (an inducer of microsomal enzymes)\n",
    "were investigated in sheep. Maximal exercise testing, a maneuver often applied to cardiac patients,\n",
    "does not significantly alter the serum digoxin level.\"\"\"\n",
    "no_db_checking_count = 0\n",
    "with_db_checking_count = 0\n",
    "sent_1 = tokenize(sent)\n",
    "# without checking db:\n",
    "for t in sent_1:\n",
    "    (is_brand_drug_group, type_text) = old_token_type_classifier(t[0])\n",
    "    (is_brand_drug_group_with_db, type_text) = with_db_type_classifier(t[0])\n",
    "    \n",
    "    if is_brand_drug_group:\n",
    "        no_db_checking_count += 1\n",
    "    if is_brand_drug_group_with_db:\n",
    "        with_db_checking_count += 1\n",
    "\n",
    "print(no_db_checking_count, with_db_checking_count)"
   ]
  },
  {
   "cell_type": "code",
   "execution_count": null,
   "metadata": {},
   "outputs": [],
   "source": [
    "# --- multi-token tests --\n"
   ]
  },
  {
   "cell_type": "code",
   "execution_count": null,
   "metadata": {},
   "outputs": [],
   "source": []
  }
 ],
 "metadata": {
  "kernelspec": {
   "display_name": "Python 3",
   "language": "python",
   "name": "python3"
  },
  "language_info": {
   "codemirror_mode": {
    "name": "ipython",
    "version": 3
   },
   "file_extension": ".py",
   "mimetype": "text/x-python",
   "name": "python",
   "nbconvert_exporter": "python",
   "pygments_lexer": "ipython3",
   "version": "3.8.5"
  }
 },
 "nbformat": 4,
 "nbformat_minor": 4
}
