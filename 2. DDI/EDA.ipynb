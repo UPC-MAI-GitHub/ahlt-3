{
 "cells": [
  {
   "cell_type": "code",
   "execution_count": 1,
   "metadata": {},
   "outputs": [],
   "source": [
    "from os import listdir\n",
    "from xml.dom.minidom import parse\n",
    "\n",
    "import pandas as pd\n",
    "import matplotlib.pyplot as plt\n",
    "\n",
    "from nltk.tokenize import word_tokenize\n",
    "from nltk.corpus import stopwords\n",
    "stopwords = set(stopwords.words(\"english\"))\n",
    "import string\n",
    "\n",
    "# import nltk CoreNLP module (just once)\n",
    "from nltk.parse.corenlp import CoreNLPDependencyParser\n",
    "# connect to your CoreNLP server (just once)\n",
    "corenlp_parser = CoreNLPDependencyParser(url=\"http://localhost:9000\")"
   ]
  },
  {
   "cell_type": "markdown",
   "metadata": {},
   "source": [
    "# Data analysis\n",
    "Examine (by hand or collecting simple statistics) the train\n",
    "dataset and try to infer general rules that are right in most\n",
    "cases, even if they seldom apply (high precision, low recall"
   ]
  },
  {
   "cell_type": "code",
   "execution_count": 2,
   "metadata": {},
   "outputs": [],
   "source": [
    "def get_offsets(word, s):\n",
    "    '''\n",
    "    Task:\n",
    "        Given a word and sentence, returns its starting end ending index in the sentence.\n",
    "    \n",
    "    Input:\n",
    "        word: word to find offsets for\n",
    "        s: sentence containing the word\n",
    "    \n",
    "    Output:\n",
    "        Returns a tuple containing the start and end offset.\n",
    "    '''\n",
    "    start = s.find(word)\n",
    "    end = start + len(word) - 1\n",
    "    return start, end\n",
    "\n",
    "def analyze(s):\n",
    "    '''\n",
    "    Task:\n",
    "        Given one sentence, sends it to CoreNLP to obtain the tokens, tags,\n",
    "        and dependency tree. It also adds the start/end offsets to each token.\n",
    "    \n",
    "    Input:\n",
    "        s: string containing the text for one sentence\n",
    "    \n",
    "    Output:\n",
    "        Returns the nltk DependencyGraph object produced by CoreNLP, enriched with token offsets.\n",
    "\n",
    "    '''\n",
    "    s = s.replace(\"%\", \"<percentage>\")\n",
    "    tree, = corenlp_parser.raw_parse(s)\n",
    "    for n in tree.nodes.items():\n",
    "        node = n[1]\n",
    "        if node['word']:\n",
    "            start, end = get_offsets(node['word'], s)\n",
    "            node['start'] = start\n",
    "            node['end'] = end\n",
    "            \n",
    "    return tree"
   ]
  },
  {
   "cell_type": "code",
   "execution_count": 3,
   "metadata": {
    "scrolled": true
   },
   "outputs": [
    {
     "name": "stdout",
     "output_type": "stream",
     "text": [
      "(Co-administration\n",
      "  (ketoconazole of oral)\n",
      "  (AUC\n",
      "    (mg 200)\n",
      "    (increased (daily twice))\n",
      "    retapamulin\n",
      "    geometric\n",
      "    mean\n",
      "    (24 ( 0 - ))\n",
      "    (Cmax and (81 by))\n",
      "    (<percentage>\n",
      "      (application\n",
      "        after\n",
      "        topical\n",
      "        (ointment of retapamulin)\n",
      "        ,\n",
      "        (<percentage>\n",
      "          1\n",
      "          (skin on the abraded (males of healthy adult))))))\n",
      "  .)\n"
     ]
    }
   ],
   "source": [
    "# tree = analyze(\"Interaction between oxytocin and antidiuretic hormone and its effect on the milk secretion by alveoli of the mammary gland of lactating rats.\")\n",
    "# print(tree.nodes.items())\n",
    "s2 = \"Co-administration of oral ketoconazole 200 mg twice daily increased retapamulin geometric mean AUC(0-24) and Cmax by 81% after topical application of retapamulin ointment, 1% on the abraded skin of healthy adult males. \"\n",
    "tree = analyze(s2)\n",
    "print(tree.tree())"
   ]
  },
  {
   "cell_type": "code",
   "execution_count": 4,
   "metadata": {},
   "outputs": [],
   "source": [
    "#for n in tree.nodes.items():\n",
    "#    node = n[1]\n",
    "#    print(node)"
   ]
  },
  {
   "cell_type": "markdown",
   "metadata": {},
   "source": [
    "***"
   ]
  },
  {
   "cell_type": "code",
   "execution_count": 3,
   "metadata": {},
   "outputs": [],
   "source": [
    "datadir = \"../../labAHLT/data/train\"\n",
    "entities = {}\n",
    "_pairs = []\n",
    "pairs = []\n",
    "analyses = []\n",
    "sentences = []\n",
    "\n",
    "\n",
    "for f in listdir(datadir):\n",
    "\n",
    "    tree = parse(datadir + \"/\" + f)\n",
    "\n",
    "    sents = tree.getElementsByTagName(\"sentence\")\n",
    "    for s in sents:\n",
    "\n",
    "        sid = s.attributes[\"id\"].value # get sentence id\n",
    "        stext = s.attributes[\"text\"].value # get sentence text\n",
    "        \n",
    "        \n",
    "        if len(stext) == 0:\n",
    "            continue\n",
    "            \n",
    "        sentences.append(s)\n",
    "        \n",
    "        ents = s.getElementsByTagName(\"entity\")\n",
    "        for e in ents:\n",
    "            eid = e.attributes[\"id\"].value\n",
    "            entities[eid] = e.attributes[\"text\"].value\n",
    "        \n",
    "        # Tokenize, tag, and parse sentence\n",
    "        analysis = analyze(stext)\n",
    "        analyses.append(analysis)\n",
    "\n",
    "        # for each pair in the sentence , decide whether it is DDI and its type\n",
    "        prs = s.getElementsByTagName(\"pair\")\n",
    "        temp_pairs = []\n",
    "        for p in prs:\n",
    "            id_e1 = p.attributes[\"e1\"].value\n",
    "            id_e2 = p.attributes[\"e2\"].value\n",
    "            interaction = p.attributes[\"type\"].value if p.attributes[\"ddi\"].value == \"true\" else None\n",
    "            temp_pairs.append({\"e1\": id_e1, \"e2\": id_e2, \"sid\": sid, \"interaction\": interaction})\n",
    "#             ddi_type = check_interaction(analysis, entities , id_e1 , id_e2)\n",
    "#            if ddi_type != None:\n",
    "#                print(sid +\"|\"+ id_e1 +\"|\"+ id_e2 +\"|\"+ ddi_type,file = outf)\n",
    "#            if p.attributes[\"ddi\"].value == \"true\":\n",
    "#                print(sid +\"|\"+ id_e1 +\"|\"+ id_e2 +\"|\"+ interaction)\n",
    "        pairs.append(temp_pairs)"
   ]
  },
  {
   "cell_type": "code",
   "execution_count": 4,
   "metadata": {},
   "outputs": [],
   "source": [
    "def find_entity_in_tree(entity, tree):\n",
    "    for n in tree.nodes.items():\n",
    "        node = n[1]\n",
    "        if node[\"word\"] and entity.find(node[\"word\"]) >= 0:\n",
    "            return node\n",
    "        \n",
    "    # PROBLEM: TWO_WORD ENTITIES!!! How to find the relevant nodes??? \n",
    "    return None\n",
    "\n",
    "def analyze_interactions_train(analysis, entities, e1, e2):\n",
    "    tree = analysis.tree()\n",
    "    \n",
    "    entity1 = entities[e1]\n",
    "    entity2 = entities[e2]\n",
    "    \n",
    "#     print(entity1)\n",
    "#     print(entity2)\n",
    "    \n",
    "    e1_node = find_entity_in_tree(entity1, analysis)\n",
    "    e2_node = find_entity_in_tree(entity2, analysis)\n",
    "           \n",
    "    e1_tag = e1_node['tag'] if e1_node else None\n",
    "    e2_tag = e2_node['tag'] if e2_node else None\n",
    "    \n",
    "    #TODO  -return more, such as the relationship between e1 and e2 in the tree\n",
    "    e1_addr =  e1_node['address'] if e1_node else 0\n",
    "    e2_addr = e2_node['address'] if e2_node else 0  \n",
    "    \n",
    "    # TODO - perhaps getting the Tag of the head would be useful too\n",
    "    # HEAD ANALYSIS\n",
    "    h_e1 = e1_node['head'] if e1_node else None      #position of the head\n",
    "    head_e1 = analysis.nodes[h_e1]['lemma'] if e1_node else None\n",
    "    tag_head_e1 = analysis.nodes[h_e1]['tag'][0].lower() if e1_node else None\n",
    "    \n",
    "    h_e2 = e2_node['head'] if e2_node else None      #position of the head\n",
    "    head_e2 = analysis.nodes[h_e2]['lemma'] if e2_node else None\n",
    "    tag_head_e2 = analysis.nodes[h_e2]['tag'][0].lower() if e2_node else None\n",
    "    \n",
    "    if head_e1 == head_e2 and tag_head_e1 == 'v' and tag_head_e2 == 'v':\n",
    "        under_same_verb = True\n",
    "    else:\n",
    "        under_same_verb = False\n",
    "        \n",
    "    if head_e1 == head_e2 and head_e1 != None and head_e2 != None:\n",
    "        under_same_word = True\n",
    "    else:\n",
    "        under_same_word = False\n",
    "    \n",
    "    if head_e1 == entity2 and head_e1 != None:\n",
    "        e1_under_e2 = True\n",
    "    else: \n",
    "        e1_under_e2 = False\n",
    "    \n",
    "    if head_e2 == entity1 and head_e2 != None:\n",
    "        e2_under_e1 = True\n",
    "    else:\n",
    "        e2_under_e1 = False\n",
    "\n",
    "\n",
    "    return  e1_tag, e2_tag, e2_addr - e1_addr, head_e1, head_e2, under_same_verb, under_same_word, e1_under_e2, e2_under_e1"
   ]
  },
  {
   "cell_type": "code",
   "execution_count": 5,
   "metadata": {},
   "outputs": [],
   "source": [
    "#print(pairs[0])\n",
    "#print(analyses[0])\n",
    "#print(entities)"
   ]
  },
  {
   "cell_type": "code",
   "execution_count": 6,
   "metadata": {},
   "outputs": [
    {
     "data": {
      "text/html": [
       "<div>\n",
       "<style scoped>\n",
       "    .dataframe tbody tr th:only-of-type {\n",
       "        vertical-align: middle;\n",
       "    }\n",
       "\n",
       "    .dataframe tbody tr th {\n",
       "        vertical-align: top;\n",
       "    }\n",
       "\n",
       "    .dataframe thead th {\n",
       "        text-align: right;\n",
       "    }\n",
       "</style>\n",
       "<table border=\"1\" class=\"dataframe\">\n",
       "  <thead>\n",
       "    <tr style=\"text-align: right;\">\n",
       "      <th></th>\n",
       "      <th>e1</th>\n",
       "      <th>e2</th>\n",
       "      <th>sid</th>\n",
       "      <th>interaction</th>\n",
       "      <th>e1_tag</th>\n",
       "      <th>e2_tag</th>\n",
       "      <th>address_difference</th>\n",
       "      <th>head_e1</th>\n",
       "      <th>head_e2</th>\n",
       "      <th>under_same_verb</th>\n",
       "      <th>under_same_word</th>\n",
       "      <th>e1_under_e2</th>\n",
       "      <th>e2_under_e1</th>\n",
       "    </tr>\n",
       "  </thead>\n",
       "  <tbody>\n",
       "    <tr>\n",
       "      <th>0</th>\n",
       "      <td>DDI-DrugBank.d481.s0.e0</td>\n",
       "      <td>DDI-DrugBank.d481.s0.e1</td>\n",
       "      <td>DDI-DrugBank.d481.s0</td>\n",
       "      <td>mechanism</td>\n",
       "      <td>NN</td>\n",
       "      <td>NNP</td>\n",
       "      <td>11</td>\n",
       "      <td>rich</td>\n",
       "      <td>absorption</td>\n",
       "      <td>False</td>\n",
       "      <td>False</td>\n",
       "      <td>False</td>\n",
       "      <td>False</td>\n",
       "    </tr>\n",
       "    <tr>\n",
       "      <th>1</th>\n",
       "      <td>DDI-DrugBank.d10.s1.e0</td>\n",
       "      <td>DDI-DrugBank.d10.s1.e1</td>\n",
       "      <td>DDI-DrugBank.d10.s1</td>\n",
       "      <td>None</td>\n",
       "      <td>NN</td>\n",
       "      <td>NN</td>\n",
       "      <td>2</td>\n",
       "      <td>treatment</td>\n",
       "      <td>corticosteroid</td>\n",
       "      <td>False</td>\n",
       "      <td>False</td>\n",
       "      <td>False</td>\n",
       "      <td>True</td>\n",
       "    </tr>\n",
       "    <tr>\n",
       "      <th>2</th>\n",
       "      <td>DDI-DrugBank.d10.s1.e0</td>\n",
       "      <td>DDI-DrugBank.d10.s1.e2</td>\n",
       "      <td>DDI-DrugBank.d10.s1</td>\n",
       "      <td>None</td>\n",
       "      <td>NN</td>\n",
       "      <td>NNP</td>\n",
       "      <td>24</td>\n",
       "      <td>treatment</td>\n",
       "      <td>receive</td>\n",
       "      <td>False</td>\n",
       "      <td>False</td>\n",
       "      <td>False</td>\n",
       "      <td>False</td>\n",
       "    </tr>\n",
       "    <tr>\n",
       "      <th>3</th>\n",
       "      <td>DDI-DrugBank.d10.s1.e1</td>\n",
       "      <td>DDI-DrugBank.d10.s1.e2</td>\n",
       "      <td>DDI-DrugBank.d10.s1</td>\n",
       "      <td>None</td>\n",
       "      <td>NN</td>\n",
       "      <td>NNP</td>\n",
       "      <td>22</td>\n",
       "      <td>corticosteroid</td>\n",
       "      <td>receive</td>\n",
       "      <td>False</td>\n",
       "      <td>False</td>\n",
       "      <td>False</td>\n",
       "      <td>False</td>\n",
       "    </tr>\n",
       "    <tr>\n",
       "      <th>4</th>\n",
       "      <td>DDI-DrugBank.d10.s2.e0</td>\n",
       "      <td>DDI-DrugBank.d10.s2.e1</td>\n",
       "      <td>DDI-DrugBank.d10.s2</td>\n",
       "      <td>mechanism</td>\n",
       "      <td>NNP</td>\n",
       "      <td>DT</td>\n",
       "      <td>7</td>\n",
       "      <td>administration</td>\n",
       "      <td>range</td>\n",
       "      <td>False</td>\n",
       "      <td>False</td>\n",
       "      <td>False</td>\n",
       "      <td>False</td>\n",
       "    </tr>\n",
       "  </tbody>\n",
       "</table>\n",
       "</div>"
      ],
      "text/plain": [
       "                        e1                       e2                   sid  \\\n",
       "0  DDI-DrugBank.d481.s0.e0  DDI-DrugBank.d481.s0.e1  DDI-DrugBank.d481.s0   \n",
       "1   DDI-DrugBank.d10.s1.e0   DDI-DrugBank.d10.s1.e1   DDI-DrugBank.d10.s1   \n",
       "2   DDI-DrugBank.d10.s1.e0   DDI-DrugBank.d10.s1.e2   DDI-DrugBank.d10.s1   \n",
       "3   DDI-DrugBank.d10.s1.e1   DDI-DrugBank.d10.s1.e2   DDI-DrugBank.d10.s1   \n",
       "4   DDI-DrugBank.d10.s2.e0   DDI-DrugBank.d10.s2.e1   DDI-DrugBank.d10.s2   \n",
       "\n",
       "  interaction e1_tag e2_tag  address_difference         head_e1  \\\n",
       "0   mechanism     NN    NNP                  11            rich   \n",
       "1        None     NN     NN                   2       treatment   \n",
       "2        None     NN    NNP                  24       treatment   \n",
       "3        None     NN    NNP                  22  corticosteroid   \n",
       "4   mechanism    NNP     DT                   7  administration   \n",
       "\n",
       "          head_e2  under_same_verb  under_same_word  e1_under_e2  e2_under_e1  \n",
       "0      absorption            False            False        False        False  \n",
       "1  corticosteroid            False            False        False         True  \n",
       "2         receive            False            False        False        False  \n",
       "3         receive            False            False        False        False  \n",
       "4           range            False            False        False        False  "
      ]
     },
     "execution_count": 6,
     "metadata": {},
     "output_type": "execute_result"
    }
   ],
   "source": [
    "for i, pair_list in enumerate(pairs):\n",
    "    analysis = analyses[i]\n",
    "    for pair in pair_list:\n",
    "        e1_tag, e2_tag, address_difference, e1_h, e2_h, u_s_v, u_s_w, e1_e2, e2_e1 = analyze_interactions_train(analysis, entities, pair['e1'], pair['e2'])\n",
    "        pair['e1_tag'] = e1_tag\n",
    "        pair['e2_tag'] = e2_tag\n",
    "        pair['address_difference'] = address_difference\n",
    "        pair['head_e1'] = e1_h\n",
    "        pair['head_e2'] = e2_h\n",
    "        pair['under_same_verb'] = u_s_v\n",
    "        pair['under_same_word'] = u_s_w\n",
    "        pair['e1_under_e2'] = e1_e2\n",
    "        pair['e2_under_e1'] = e2_e1\n",
    "        \n",
    "temp_pairs = [item for sublist in pairs for item in sublist]\n",
    "df = pd.DataFrame(temp_pairs)\n",
    "df.head()"
   ]
  },
  {
   "cell_type": "markdown",
   "metadata": {},
   "source": [
    "***"
   ]
  },
  {
   "cell_type": "markdown",
   "metadata": {},
   "source": [
    "**Example of rules:** \n",
    "- Check whether one entity is inside the subject of one verb, and the other is inside the direct object of the same verb. If that is the case, the lemma of the verb decides which is the type of interaction (checking lists of frequent verbs for each interaction type. The lists contain between 3 and 10 verbs, depending on the class).\n",
    "- If the previous rule is not satisfied, the first verb found between both entities that belongs to one of the lists decides the interaction type. \n",
    "- If no such verb is found, the type is None. "
   ]
  },
  {
   "cell_type": "code",
   "execution_count": 27,
   "metadata": {},
   "outputs": [
    {
     "data": {
      "text/plain": [
       "administer           81\n",
       "use                  70\n",
       "co-administration    40\n",
       "administration       39\n",
       "dose                 21\n",
       "                     ..\n",
       "prescribe             1\n",
       "releaser              1\n",
       "overdose              1\n",
       "midazolam             1\n",
       "interrupt             1\n",
       "Name: head_e1, Length: 157, dtype: int64"
      ]
     },
     "execution_count": 27,
     "metadata": {},
     "output_type": "execute_result"
    }
   ],
   "source": [
    "# Verb lists could be obtained from here\n",
    "df['head_e1'].loc[df['interaction'] == 'mechanism'].value_counts()\n",
    "df['head_e1'].loc[df['interaction'] == 'effect'].value_counts()\n",
    "df['head_e1'].loc[df['interaction'] == 'int'].value_counts()\n",
    "df['head_e1'].loc[df['interaction'] == 'advise'].value_counts()"
   ]
  },
  {
   "cell_type": "code",
   "execution_count": 8,
   "metadata": {},
   "outputs": [
    {
     "data": {
      "image/png": "[encoded data removed]",
      "text/plain": [
       "<Figure size 576x360 with 1 Axes>"
      ]
     },
     "metadata": {
      "needs_background": "light"
     },
     "output_type": "display_data"
    }
   ],
   "source": [
    "#df['interaction'].unique()\n",
    "df_advise = df.loc[df['interaction']=='advise']\n",
    "df_effect = df.loc[df['interaction']=='effect']\n",
    "df_int = df.loc[df['interaction']=='int']\n",
    "df_mechanism = df.loc[df['interaction']=='mechanism']\n",
    "\n",
    "advise_count = df_advise.shape[0]\n",
    "effect_count = df_effect.shape[0]\n",
    "int_count = df_int.shape[0]\n",
    "mechanism_count = df_mechanism.shape[0]\n",
    "\n",
    "interaction_counts = pd.DataFrame(df.groupby('interaction').count()['e1'])\n",
    "ax = interaction_counts.plot.bar(figsize = (8,5), rot=0, legend = False, color='darkgrey', edgecolor='dimgray')\n",
    "ax.set_xlabel(\"\")\n",
    "ax.yaxis.grid(color='darkgrey', linestyle=':', linewidth=0.4)"
   ]
  },
  {
   "cell_type": "code",
   "execution_count": 9,
   "metadata": {},
   "outputs": [
    {
     "data": {
      "text/html": [
       "<div>\n",
       "<style scoped>\n",
       "    .dataframe tbody tr th:only-of-type {\n",
       "        vertical-align: middle;\n",
       "    }\n",
       "\n",
       "    .dataframe tbody tr th {\n",
       "        vertical-align: top;\n",
       "    }\n",
       "\n",
       "    .dataframe thead th {\n",
       "        text-align: right;\n",
       "    }\n",
       "</style>\n",
       "<table border=\"1\" class=\"dataframe\">\n",
       "  <thead>\n",
       "    <tr style=\"text-align: right;\">\n",
       "      <th></th>\n",
       "      <th>e1</th>\n",
       "      <th>e2</th>\n",
       "      <th>sid</th>\n",
       "      <th>interaction</th>\n",
       "      <th>e1_tag</th>\n",
       "      <th>e2_tag</th>\n",
       "      <th>address_difference</th>\n",
       "      <th>head_e1</th>\n",
       "      <th>head_e2</th>\n",
       "      <th>under_same_verb</th>\n",
       "      <th>under_same_word</th>\n",
       "      <th>e1_under_e2</th>\n",
       "      <th>e2_under_e1</th>\n",
       "    </tr>\n",
       "  </thead>\n",
       "  <tbody>\n",
       "    <tr>\n",
       "      <th>201</th>\n",
       "      <td>DDI-DrugBank.d187.s8.e1</td>\n",
       "      <td>DDI-DrugBank.d187.s8.e2</td>\n",
       "      <td>DDI-DrugBank.d187.s8</td>\n",
       "      <td>int</td>\n",
       "      <td>NNP</td>\n",
       "      <td>NNP</td>\n",
       "      <td>7</td>\n",
       "      <td>None</td>\n",
       "      <td>Ketoconazole</td>\n",
       "      <td>False</td>\n",
       "      <td>False</td>\n",
       "      <td>False</td>\n",
       "      <td>True</td>\n",
       "    </tr>\n",
       "    <tr>\n",
       "      <th>349</th>\n",
       "      <td>DDI-DrugBank.d5.s3.e0</td>\n",
       "      <td>DDI-DrugBank.d5.s3.e1</td>\n",
       "      <td>DDI-DrugBank.d5.s3</td>\n",
       "      <td>int</td>\n",
       "      <td>NNP</td>\n",
       "      <td>DT</td>\n",
       "      <td>-4</td>\n",
       "      <td>interaction</td>\n",
       "      <td>interaction</td>\n",
       "      <td>False</td>\n",
       "      <td>True</td>\n",
       "      <td>False</td>\n",
       "      <td>False</td>\n",
       "    </tr>\n",
       "    <tr>\n",
       "      <th>350</th>\n",
       "      <td>DDI-DrugBank.d5.s3.e0</td>\n",
       "      <td>DDI-DrugBank.d5.s3.e2</td>\n",
       "      <td>DDI-DrugBank.d5.s3</td>\n",
       "      <td>int</td>\n",
       "      <td>NNP</td>\n",
       "      <td>DT</td>\n",
       "      <td>-4</td>\n",
       "      <td>interaction</td>\n",
       "      <td>interaction</td>\n",
       "      <td>False</td>\n",
       "      <td>True</td>\n",
       "      <td>False</td>\n",
       "      <td>False</td>\n",
       "    </tr>\n",
       "    <tr>\n",
       "      <th>1316</th>\n",
       "      <td>DDI-DrugBank.d13.s0.e0</td>\n",
       "      <td>DDI-DrugBank.d13.s0.e1</td>\n",
       "      <td>DDI-DrugBank.d13.s0</td>\n",
       "      <td>int</td>\n",
       "      <td>NNP</td>\n",
       "      <td>NNS</td>\n",
       "      <td>10</td>\n",
       "      <td>interact</td>\n",
       "      <td>interact</td>\n",
       "      <td>True</td>\n",
       "      <td>True</td>\n",
       "      <td>False</td>\n",
       "      <td>False</td>\n",
       "    </tr>\n",
       "    <tr>\n",
       "      <th>1317</th>\n",
       "      <td>DDI-DrugBank.d13.s0.e0</td>\n",
       "      <td>DDI-DrugBank.d13.s0.e2</td>\n",
       "      <td>DDI-DrugBank.d13.s0</td>\n",
       "      <td>int</td>\n",
       "      <td>NNP</td>\n",
       "      <td>NN</td>\n",
       "      <td>12</td>\n",
       "      <td>interact</td>\n",
       "      <td>inhibitor</td>\n",
       "      <td>False</td>\n",
       "      <td>False</td>\n",
       "      <td>False</td>\n",
       "      <td>False</td>\n",
       "    </tr>\n",
       "  </tbody>\n",
       "</table>\n",
       "</div>"
      ],
      "text/plain": [
       "                           e1                       e2                   sid  \\\n",
       "201   DDI-DrugBank.d187.s8.e1  DDI-DrugBank.d187.s8.e2  DDI-DrugBank.d187.s8   \n",
       "349     DDI-DrugBank.d5.s3.e0    DDI-DrugBank.d5.s3.e1    DDI-DrugBank.d5.s3   \n",
       "350     DDI-DrugBank.d5.s3.e0    DDI-DrugBank.d5.s3.e2    DDI-DrugBank.d5.s3   \n",
       "1316   DDI-DrugBank.d13.s0.e0   DDI-DrugBank.d13.s0.e1   DDI-DrugBank.d13.s0   \n",
       "1317   DDI-DrugBank.d13.s0.e0   DDI-DrugBank.d13.s0.e2   DDI-DrugBank.d13.s0   \n",
       "\n",
       "     interaction e1_tag e2_tag  address_difference      head_e1       head_e2  \\\n",
       "201          int    NNP    NNP                   7         None  Ketoconazole   \n",
       "349          int    NNP     DT                  -4  interaction   interaction   \n",
       "350          int    NNP     DT                  -4  interaction   interaction   \n",
       "1316         int    NNP    NNS                  10     interact      interact   \n",
       "1317         int    NNP     NN                  12     interact     inhibitor   \n",
       "\n",
       "      under_same_verb  under_same_word  e1_under_e2  e2_under_e1  \n",
       "201             False            False        False         True  \n",
       "349             False             True        False        False  \n",
       "350             False             True        False        False  \n",
       "1316             True             True        False        False  \n",
       "1317            False            False        False        False  "
      ]
     },
     "execution_count": 9,
     "metadata": {},
     "output_type": "execute_result"
    }
   ],
   "source": [
    "df_int.head()"
   ]
  },
  {
   "cell_type": "code",
   "execution_count": 10,
   "metadata": {},
   "outputs": [
    {
     "data": {
      "image/png": "[encoded data removed]",
      "text/plain": [
       "<Figure size 576x360 with 1 Axes>"
      ]
     },
     "metadata": {
      "needs_background": "light"
     },
     "output_type": "display_data"
    }
   ],
   "source": [
    "# e1 is an NNP\n",
    "df1 = pd.DataFrame({'lab' : ['int', 'effect', 'mechanism', 'advise'], 'Count' : [df_int.loc[df['e1_tag']=='NNP'].count()[0]/int_count,\n",
    "                                                                            df_effect.loc[df['e1_tag']=='NNP'].count()[0]/effect_count,\n",
    "                                                                            df_mechanism.loc[df['e1_tag']=='NNP'].count()[0]/mechanism_count,\n",
    "                                                                            df_advise.loc[df['e1_tag']=='NNP'].count()[0]/advise_count]})\n",
    "\n",
    "ax = df1.plot.bar(x='lab', y = 'Count', figsize = (8,5), rot=0, legend = False, color='darkgrey', edgecolor='dimgray')\n",
    "ax.set_xlabel(\"\")\n",
    "ax.yaxis.grid(color='darkgrey', linestyle=':', linewidth=0.4)"
   ]
  },
  {
   "cell_type": "code",
   "execution_count": 11,
   "metadata": {},
   "outputs": [
    {
     "data": {
      "image/png": "[encoded data removed]",
      "text/plain": [
       "<Figure size 576x360 with 1 Axes>"
      ]
     },
     "metadata": {
      "needs_background": "light"
     },
     "output_type": "display_data"
    }
   ],
   "source": [
    "# e2 is an NNP\n",
    "df2 = pd.DataFrame({'lab' : ['int', 'effect', 'mechanism', 'advise'], 'Count' : [df_int.loc[df['e2_tag']=='NNP'].count()[0]/int_count,\n",
    "                                                                            df_effect.loc[df['e2_tag']=='NNP'].count()[0]/effect_count,\n",
    "                                                                            df_mechanism.loc[df['e2_tag']=='NNP'].count()[0]/mechanism_count,\n",
    "                                                                            df_advise.loc[df['e2_tag']=='NNP'].count()[0]/advise_count]})\n",
    "\n",
    "ax = df2.plot.bar(x='lab', y = 'Count', figsize = (8,5), rot=0, legend = False, color='darkgrey', edgecolor='dimgray')\n",
    "ax.set_xlabel(\"\")\n",
    "ax.yaxis.grid(color='darkgrey', linestyle=':', linewidth=0.4)"
   ]
  },
  {
   "cell_type": "code",
   "execution_count": 12,
   "metadata": {},
   "outputs": [
    {
     "data": {
      "image/png": "[encoded data removed]",
      "text/plain": [
       "<Figure size 576x360 with 1 Axes>"
      ]
     },
     "metadata": {
      "needs_background": "light"
     },
     "output_type": "display_data"
    }
   ],
   "source": [
    "# e1 is an NN\n",
    "df1 = pd.DataFrame({'lab' : ['int', 'effect', 'mechanism', 'advise'], 'Count' : [df_int.loc[df['e1_tag']=='NN'].count()[0]/int_count,\n",
    "                                                                            df_effect.loc[df['e1_tag']=='NN'].count()[0]/effect_count,\n",
    "                                                                            df_mechanism.loc[df['e1_tag']=='NN'].count()[0]/mechanism_count,\n",
    "                                                                            df_advise.loc[df['e1_tag']=='NN'].count()[0]/advise_count]})\n",
    "\n",
    "ax = df1.plot.bar(x='lab', y = 'Count', figsize = (8,5), rot=0, legend = False, color='darkgrey', edgecolor='dimgray')\n",
    "ax.set_xlabel(\"\")\n",
    "ax.yaxis.grid(color='darkgrey', linestyle=':', linewidth=0.4)"
   ]
  },
  {
   "cell_type": "code",
   "execution_count": 13,
   "metadata": {},
   "outputs": [
    {
     "data": {
      "image/png": "[encoded data removed]",
      "text/plain": [
       "<Figure size 576x360 with 1 Axes>"
      ]
     },
     "metadata": {
      "needs_background": "light"
     },
     "output_type": "display_data"
    }
   ],
   "source": [
    "# e2 is an NN\n",
    "df2 = pd.DataFrame({'lab' : ['int', 'effect', 'mechanism', 'advise'], 'Count' : [df_int.loc[df['e2_tag']=='NN'].count()[0]/int_count,\n",
    "                                                                            df_effect.loc[df['e2_tag']=='NN'].count()[0]/effect_count,\n",
    "                                                                            df_mechanism.loc[df['e2_tag']=='NN'].count()[0]/mechanism_count,\n",
    "                                                                            df_advise.loc[df['e2_tag']=='NN'].count()[0]/advise_count]})\n",
    "\n",
    "ax = df2.plot.bar(x='lab', y = 'Count', figsize = (8,5), rot=0, legend = False, color='darkgrey', edgecolor='dimgray')\n",
    "ax.set_xlabel(\"\")\n",
    "ax.yaxis.grid(color='darkgrey', linestyle=':', linewidth=0.4)"
   ]
  },
  {
   "cell_type": "code",
   "execution_count": 14,
   "metadata": {},
   "outputs": [
    {
     "data": {
      "image/png": "[encoded data removed]",
      "text/plain": [
       "<Figure size 576x360 with 1 Axes>"
      ]
     },
     "metadata": {
      "needs_background": "light"
     },
     "output_type": "display_data"
    }
   ],
   "source": [
    "# e1 is a JJ\n",
    "df2 = pd.DataFrame({'lab' : ['int', 'effect', 'mechanism', 'advise'], 'Count' : [df_int.loc[df['e1_tag']=='JJ'].count()[0]/int_count,\n",
    "                                                                            df_effect.loc[df['e1_tag']=='JJ'].count()[0]/effect_count,\n",
    "                                                                            df_mechanism.loc[df['e1_tag']=='JJ'].count()[0]/mechanism_count,\n",
    "                                                                            df_advise.loc[df['e1_tag']=='JJ'].count()[0]/advise_count]})\n",
    "\n",
    "ax = df2.plot.bar(x='lab', y = 'Count', figsize = (8,5), rot=0, legend = False, color='darkgrey', edgecolor='dimgray')\n",
    "ax.set_xlabel(\"\")\n",
    "ax.yaxis.grid(color='darkgrey', linestyle=':', linewidth=0.4)\n",
    "\n",
    "####!!!! GOOD"
   ]
  },
  {
   "cell_type": "code",
   "execution_count": null,
   "metadata": {},
   "outputs": [],
   "source": [
    "## GOOD HEURISTIC!!!\n",
    "# if e1 is a JJ, there is an effect"
   ]
  },
  {
   "cell_type": "code",
   "execution_count": 15,
   "metadata": {},
   "outputs": [
    {
     "data": {
      "image/png": "[encoded data removed]",
      "text/plain": [
       "<Figure size 576x360 with 1 Axes>"
      ]
     },
     "metadata": {
      "needs_background": "light"
     },
     "output_type": "display_data"
    }
   ],
   "source": [
    "# e2 is a JJ\n",
    "df2 = pd.DataFrame({'lab' : ['int', 'effect', 'mechanism', 'advise'], 'Count' : [df_int.loc[df['e2_tag']=='JJ'].count()[0]/int_count,\n",
    "                                                                            df_effect.loc[df['e2_tag']=='JJ'].count()[0]/effect_count,\n",
    "                                                                            df_mechanism.loc[df['e2_tag']=='JJ'].count()[0]/mechanism_count,\n",
    "                                                                            df_advise.loc[df['e2_tag']=='JJ'].count()[0]/advise_count]})\n",
    "\n",
    "ax = df2.plot.bar(x='lab', y = 'Count', figsize = (8,5), rot=0, legend = False, color='darkgrey', edgecolor='dimgray')\n",
    "ax.set_xlabel(\"\")\n",
    "ax.yaxis.grid(color='darkgrey', linestyle=':', linewidth=0.4)"
   ]
  },
  {
   "cell_type": "code",
   "execution_count": 16,
   "metadata": {},
   "outputs": [
    {
     "data": {
      "image/png": "[encoded data removed]",
      "text/plain": [
       "<Figure size 576x360 with 1 Axes>"
      ]
     },
     "metadata": {
      "needs_background": "light"
     },
     "output_type": "display_data"
    }
   ],
   "source": [
    "# e1 is an NNS\n",
    "df1 = pd.DataFrame({'lab' : ['int', 'effect', 'mechanism', 'advise'], 'Count' : [df_int.loc[df['e1_tag']=='NNS'].count()[0]/int_count,\n",
    "                                                                            df_effect.loc[df['e1_tag']=='NNS'].count()[0]/effect_count,\n",
    "                                                                            df_mechanism.loc[df['e1_tag']=='NNS'].count()[0]/mechanism_count,\n",
    "                                                                            df_advise.loc[df['e1_tag']=='NNS'].count()[0]/advise_count]})\n",
    "\n",
    "ax = df1.plot.bar(x='lab', y = 'Count', figsize = (8,5), rot=0, legend = False, color='darkgrey', edgecolor='dimgray')\n",
    "ax.set_xlabel(\"\")\n",
    "ax.yaxis.grid(color='darkgrey', linestyle=':', linewidth=0.4)"
   ]
  },
  {
   "cell_type": "code",
   "execution_count": 17,
   "metadata": {},
   "outputs": [
    {
     "data": {
      "image/png": "[encoded data removed]",
      "text/plain": [
       "<Figure size 576x360 with 1 Axes>"
      ]
     },
     "metadata": {
      "needs_background": "light"
     },
     "output_type": "display_data"
    }
   ],
   "source": [
    "# e2 is an NNS\n",
    "df2 = pd.DataFrame({'lab' : ['int', 'effect', 'mechanism', 'advise'], 'Count' : [df_int.loc[df['e2_tag']=='NNS'].count()[0]/int_count,\n",
    "                                                                            df_effect.loc[df['e2_tag']=='NNS'].count()[0]/effect_count,\n",
    "                                                                            df_mechanism.loc[df['e2_tag']=='NNS'].count()[0]/mechanism_count,\n",
    "                                                                            df_advise.loc[df['e2_tag']=='NNS'].count()[0]/advise_count]})\n",
    "\n",
    "ax = df2.plot.bar(x='lab', y = 'Count', figsize = (8,5), rot=0, legend = False, color='darkgrey', edgecolor='dimgray')\n",
    "ax.set_xlabel(\"\")\n",
    "ax.yaxis.grid(color='darkgrey', linestyle=':', linewidth=0.4)"
   ]
  },
  {
   "cell_type": "code",
   "execution_count": 18,
   "metadata": {},
   "outputs": [
    {
     "name": "stdout",
     "output_type": "stream",
     "text": [
      "\n",
      "22.17748917748918\n"
     ]
    },
    {
     "data": {
      "image/png": "[encoded data removed]",
      "text/plain": [
       "<Figure size 576x360 with 1 Axes>"
      ]
     },
     "metadata": {
      "needs_background": "light"
     },
     "output_type": "display_data"
    }
   ],
   "source": [
    "print()\n",
    "print(df_int['address_difference'].mean())\n",
    "\n",
    "df['address_difference'] > 15\n",
    "\n",
    "df1 = pd.DataFrame({'lab' : ['int', 'effect', 'mechanism', 'advise'], 'Count' : [df_int.loc[df['address_difference'] > 25].count()[0]/int_count,\n",
    "                                                                            df_effect.loc[df['address_difference'] > 25].count()[0]/effect_count,\n",
    "                                                                            df_mechanism.loc[df['address_difference'] > 25].count()[0]/mechanism_count,\n",
    "                                                                            df_advise.loc[df['address_difference'] > 25].count()[0]/advise_count]})\n",
    "\n",
    "\n",
    "ax = df1.plot.bar(x='lab', y = 'Count', figsize = (8,5), rot=0, legend = False, color='darkgrey', edgecolor='dimgray')\n",
    "ax.set_xlabel(\"\")\n",
    "ax.yaxis.grid(color='darkgrey', linestyle=':', linewidth=0.4)"
   ]
  },
  {
   "cell_type": "code",
   "execution_count": null,
   "metadata": {},
   "outputs": [],
   "source": []
  },
  {
   "cell_type": "markdown",
   "metadata": {},
   "source": [
    "***\n",
    "### Sentence Analysis"
   ]
  },
  {
   "cell_type": "markdown",
   "metadata": {},
   "source": [
    "Instructor's example: \n",
    "- Pairs with an interaction of type _<font color=blue>effect</font>_ often have clue words like <font color=blue>administer, potentiate, prevent, </font> etc. between e1 and e2\n",
    "- Pairs with ann interaction of type _<font color=blue>mechanism</font>_ often have clue words like _<font color=blue>reduce, increase, decrease,</font>_ etc. between e1 and e2. \n",
    "- Pairs with ann interaction of type _<font color=blue>int</font>_ often have clue words like _<font color=blue>interact, interaction,</font>_ etc. between e1 and e2. \n",
    "Better results may be achieved if properties of the dependency tree are used (e.g. e1 is _<font color=red>under</font>_ e2, both e1 and e2 are _<font color=red>under</font>_ the same verb, e1 is _<font color=red>under</font>_ the subject of certain verbs (*enhance*, *reduce*, ...), etc.)"
   ]
  },
  {
   "cell_type": "code",
   "execution_count": 8,
   "metadata": {},
   "outputs": [],
   "source": [
    "# Get Words between entities e1 and e2 in sentence\n",
    "# Get Words outside subsentence delimited by e1-e2\n",
    "dict_sentences = {}\n",
    "lst = []\n",
    "for s in sentences:\n",
    "    sid = s.attributes[\"id\"].value\n",
    "    stext = s.attributes[\"text\"].value\n",
    "    dict_sentences[sid] = stext\n",
    "#print(dict_sentences)"
   ]
  },
  {
   "cell_type": "code",
   "execution_count": 11,
   "metadata": {},
   "outputs": [],
   "source": [
    "def get_positions(analysis, entities, e1, e2):\n",
    "    tree = analysis.tree()\n",
    "    \n",
    "    entity1 = entities[e1]\n",
    "    entity2 = entities[e2]\n",
    "    \n",
    "    e1_node = find_entity_in_tree(entity1, analysis)\n",
    "    e2_node = find_entity_in_tree(entity2, analysis)\n",
    "           \n",
    "    e1_start =  e1_node['start'] if e1_node else 0\n",
    "    e1_end = e1_node['end'] if e2_node else 0  \n",
    "    \n",
    "    e2_start =  e2_node['start'] if e1_node else 0\n",
    "    e2_end = e2_node['end'] if e2_node else 0  \n",
    "\n",
    "\n",
    "    return e1_start, e1_end, e2_start, e2_end\n",
    "\n",
    "def dict_add_one(dictionary, key):\n",
    "    if key in dictionary:\n",
    "        dictionary[key] += 1\n",
    "    else:\n",
    "        dictionary[key] = 1"
   ]
  },
  {
   "cell_type": "code",
   "execution_count": 45,
   "metadata": {},
   "outputs": [],
   "source": [
    "word_dict = {'effect': \n",
    "                    {'clue_words':{},\n",
    "                     'outside_words':{},\n",
    "                     'sentence_words':{}\n",
    "                    },\n",
    "                 'mechanism':\n",
    "                    {'clue_words':{},\n",
    "                     'outside_words':{},\n",
    "                     'sentence_words':{}\n",
    "                    },\n",
    "                 'int':\n",
    "                    {'clue_words':{},\n",
    "                     'outside_words':{},\n",
    "                     'sentence_words':{}\n",
    "                    },\n",
    "                 'advise':\n",
    "                    {'clue_words':{},\n",
    "                     'outside_words':{},\n",
    "                     'sentence_words':{}\n",
    "                    },\n",
    "                }\n",
    "\n",
    "# Code should need improvement, there are pairs that throw error \n",
    "# Filtering words by verb should be better\n",
    "for i, pair_list in enumerate(pairs):\n",
    "    analysis = analyses[i]\n",
    "    try:\n",
    "        for pair in pair_list:\n",
    "            start_e1, end_e1, start_e2, end_e2 = get_positions(analysis, entities, pair['e1'], pair['e2'])\n",
    "            sid = pair_list[0]['sid']\n",
    "        interaction = pair_list[0]['interaction']\n",
    "        sentence = dict_sentences[sid]\n",
    "    except:\n",
    "        continue\n",
    "    \n",
    "    if interaction in ['effect', 'mechanism','int','advise']:\n",
    "        between_entities = [word for word in word_tokenize(stext[end_e1+1:start_e2]) if word not in stopwords and word not in string.punctuation]\n",
    "        for word in between_entities:\n",
    "            dict_add_one(word_dict[interaction]['clue_words'], word) \n",
    "\n",
    "        not_between = [word for word in word_tokenize(stext[:start_e1] + ' ' + stext[end_e2+1:]) if word not in stopwords and word not in string.punctuation]\n",
    "        for word in not_between:\n",
    "            dict_add_one(word_dict[interaction]['outside_words'], word) \n",
    "\n",
    "        full_sentence = [word for word in word_tokenize(stext[::1]) if word not in stopwords and word not in string.punctuation]\n",
    "        for word in full_sentence:\n",
    "            dict_add_one(word_dict[interaction]['sentence_words'], word) \n",
    "    \n",
    "    #break"
   ]
  },
  {
   "cell_type": "code",
   "execution_count": 54,
   "metadata": {},
   "outputs": [
    {
     "name": "stdout",
     "output_type": "stream",
     "text": [
      "Interaction:  effect\n",
      "---Clue_words---\n",
      "[('CNS', 360), ('nervous', 351), ('central', 327), ('system', 315), ('especially', 303), ('medications', 276), ('depressants', 246), ('addictive', 222), ('habituating', 201), ('potential', 147), ('prolonged', 108), ('concurrent', 93), ('use', 90), ('may', 78), ('increase', 69), ('risk', 48), ('interact', 36), ('ct', 33), ('act', 33), ('habituation', 30)]\n",
      "\n",
      " ---Outside e1-e2 interval---\n",
      "[('CNS', 3522), ('medications', 3486), ('increase', 2556), ('may', 2553), ('use', 2544), ('concurrent', 2508), ('effects', 1317), ('either', 1317), ('depressant', 1314), ('ethinamate', 1314), ('depression', 1308), ('producing', 1308), ('alcohol', 1299), ('habituation', 1281), ('risk', 1278), ('prolonged', 1146), ('May', 1128), ('potential', 1080), ('interact', 1023), ('habituating', 987)]\n",
      "\n",
      " --Words in sentence--\n",
      "[('CNS', 3934), ('medications', 3894), ('use', 2638), ('may', 2637), ('increase', 2635), ('concurrent', 2627), ('depressant', 1324), ('risk', 1322), ('depression', 1322), ('alcohol', 1321), ('producing', 1321), ('effects', 1321), ('either', 1319), ('ethinamate', 1319), ('habituation', 1317), ('prolonged', 1298), ('potential', 1289), ('habituating', 1276), ('addictive', 1264), ('nervous', 1258)]\n",
      "---------------------------------------------------------------------------------------------\n",
      "Interaction:  mechanism\n",
      "---Clue_words---\n",
      "[('especially', 201), ('central', 195), ('medications', 183), ('nervous', 177), ('CNS', 165), ('system', 162), ('addictive', 150), ('depressants', 111), ('habituating', 96), ('potential', 90), ('prolonged', 63), ('concurrent', 57), ('use', 45), ('may', 45), ('increase', 39), ('risk', 30), ('ct', 27), ('ract', 24), ('h', 18), ('th', 18)]\n",
      "\n",
      " ---Outside e1-e2 interval---\n",
      "[('CNS', 2550), ('medications', 2439), ('increase', 1800), ('may', 1797), ('use', 1794), ('concurrent', 1761), ('depressant', 915), ('effects', 915), ('either', 915), ('ethinamate', 915), ('alcohol', 903), ('depression', 900), ('habituation', 897), ('producing', 897), ('risk', 891), ('prolonged', 834), ('potential', 786), ('habituating', 774), ('May', 759), ('interact', 735)]\n",
      "\n",
      " --Words in sentence--\n",
      "[('CNS', 2729), ('medications', 2698), ('may', 1830), ('use', 1829), ('increase', 1829), ('concurrent', 1822), ('risk', 915), ('alcohol', 914), ('depressant', 914), ('effects', 914), ('either', 914), ('ethinamate', 914), ('habituation', 912), ('depression', 912), ('producing', 911), ('prolonged', 907), ('potential', 900), ('habituating', 898), ('system', 887), ('depressants', 883)]\n",
      "---------------------------------------------------------------------------------------------\n",
      "Interaction:  int\n",
      "---Clue_words---\n",
      "[('CNS', 24), ('medications', 18), ('especially', 15), ('may', 15), ('central', 9), ('nervous', 9), ('system', 9), ('concurrent', 9), ('use', 9), ('increase', 9), ('addictive', 9), ('depressants', 6), ('habituating', 6), ('potential', 6), ('risk', 6), ('ract', 6), ('e', 6), ('centr', 6), ('ally', 6), ('depress', 6)]\n",
      "\n",
      " ---Outside e1-e2 interval---\n",
      "[('CNS', 279), ('medications', 252), ('concurrent', 189), ('use', 186), ('may', 186), ('increase', 183), ('alcohol', 99), ('depression', 99), ('producing', 99), ('potential', 96), ('prolonged', 96), ('depressant', 96), ('either', 96), ('ethinamate', 96), ('May', 93), ('habituating', 93), ('habituation', 93), ('effects', 93), ('risk', 90), ('interact', 87)]\n",
      "\n",
      " --Words in sentence--\n",
      "[('CNS', 305), ('medications', 294), ('may', 203), ('concurrent', 202), ('use', 201), ('increase', 200), ('potential', 102), ('alcohol', 102), ('depression', 102), ('producing', 102), ('habituating', 101), ('prolonged', 101), ('depressant', 101), ('either', 101), ('ethinamate', 101), ('risk', 100), ('habituation', 100), ('effects', 100), ('May', 99), ('depressants', 99)]\n",
      "---------------------------------------------------------------------------------------------\n",
      "Interaction:  advise\n",
      "---Clue_words---\n",
      "[('central', 174), ('CNS', 171), ('nervous', 159), ('system', 153), ('especially', 153), ('depressants', 135), ('medications', 117), ('addictive', 87), ('habituating', 78), ('potential', 45), ('prolonged', 36), ('use', 36), ('may', 33), ('concurrent', 33), ('e', 30), ('increase', 30), ('sy', 18), ('risk', 18), ('habituation', 18), ('especial', 15)]\n",
      "\n",
      " ---Outside e1-e2 interval---\n",
      "[('CNS', 2259), ('medications', 2142), ('use', 1578), ('may', 1569), ('increase', 1569), ('concurrent', 1548), ('producing', 807), ('depressant', 807), ('ethinamate', 807), ('alcohol', 804), ('depression', 804), ('effects', 804), ('either', 804), ('habituation', 792), ('risk', 783), ('May', 759), ('prolonged', 726), ('potential', 687), ('interact', 678), ('habituating', 651)]\n",
      "\n",
      " --Words in sentence--\n",
      "[('CNS', 2430), ('medications', 2373), ('use', 1618), ('may', 1614), ('increase', 1613), ('concurrent', 1607), ('alcohol', 813), ('depressant', 812), ('producing', 811), ('habituation', 810), ('depression', 809), ('effects', 809), ('either', 809), ('ethinamate', 809), ('risk', 807), ('system', 797), ('prolonged', 794), ('May', 793), ('nervous', 792), ('central', 791)]\n",
      "---------------------------------------------------------------------------------------------\n"
     ]
    }
   ],
   "source": [
    "for i in ['effect', 'mechanism', 'int', 'advise']:\n",
    "    print(\"Interaction: \", i)\n",
    "    print(\"---Clue_words---\")\n",
    "    print(sorted(word_dict[i]['clue_words'].items(), key=lambda item: item[1], reverse=True)[0:20])\n",
    "    print(\"\\n ---Outside e1-e2 interval---\")\n",
    "    print(sorted(word_dict[i]['outside_words'].items(), key=lambda item: item[1], reverse=True)[0:20])\n",
    "    print(\"\\n --Words in sentence--\")\n",
    "    print(sorted(word_dict[i]['sentence_words'].items(), key=lambda item: item[1], reverse=True)[0:20])\n",
    "    print('---------------------------------------------------------------------------------------------')"
   ]
  },
  {
   "cell_type": "markdown",
   "metadata": {},
   "source": [
    "# trying things"
   ]
  },
  {
   "cell_type": "code",
   "execution_count": 56,
   "metadata": {},
   "outputs": [
    {
     "data": {
      "text/html": [
       "<div>\n",
       "<style scoped>\n",
       "    .dataframe tbody tr th:only-of-type {\n",
       "        vertical-align: middle;\n",
       "    }\n",
       "\n",
       "    .dataframe tbody tr th {\n",
       "        vertical-align: top;\n",
       "    }\n",
       "\n",
       "    .dataframe thead th {\n",
       "        text-align: right;\n",
       "    }\n",
       "</style>\n",
       "<table border=\"1\" class=\"dataframe\">\n",
       "  <thead>\n",
       "    <tr style=\"text-align: right;\">\n",
       "      <th></th>\n",
       "    </tr>\n",
       "  </thead>\n",
       "  <tbody>\n",
       "  </tbody>\n",
       "</table>\n",
       "</div>"
      ],
      "text/plain": [
       "Empty DataFrame\n",
       "Columns: []\n",
       "Index: []"
      ]
     },
     "execution_count": 56,
     "metadata": {},
     "output_type": "execute_result"
    }
   ],
   "source": [
    "df = pd.DataFrame(_pairs)\n",
    "df.head(10)"
   ]
  },
  {
   "cell_type": "code",
   "execution_count": 8,
   "metadata": {},
   "outputs": [
    {
     "data": {
      "text/html": [
       "<div>\n",
       "<style scoped>\n",
       "    .dataframe tbody tr th:only-of-type {\n",
       "        vertical-align: middle;\n",
       "    }\n",
       "\n",
       "    .dataframe tbody tr th {\n",
       "        vertical-align: top;\n",
       "    }\n",
       "\n",
       "    .dataframe thead th {\n",
       "        text-align: right;\n",
       "    }\n",
       "</style>\n",
       "<table border=\"1\" class=\"dataframe\">\n",
       "  <thead>\n",
       "    <tr style=\"text-align: right;\">\n",
       "      <th></th>\n",
       "      <th>e1</th>\n",
       "    </tr>\n",
       "    <tr>\n",
       "      <th>interaction</th>\n",
       "      <th></th>\n",
       "    </tr>\n",
       "  </thead>\n",
       "  <tbody>\n",
       "    <tr>\n",
       "      <th>advise</th>\n",
       "      <td>697</td>\n",
       "    </tr>\n",
       "    <tr>\n",
       "      <th>effect</th>\n",
       "      <td>1450</td>\n",
       "    </tr>\n",
       "    <tr>\n",
       "      <th>int</th>\n",
       "      <td>231</td>\n",
       "    </tr>\n",
       "    <tr>\n",
       "      <th>mechanism</th>\n",
       "      <td>1020</td>\n",
       "    </tr>\n",
       "  </tbody>\n",
       "</table>\n",
       "</div>"
      ],
      "text/plain": [
       "               e1\n",
       "interaction      \n",
       "advise        697\n",
       "effect       1450\n",
       "int           231\n",
       "mechanism    1020"
      ]
     },
     "execution_count": 8,
     "metadata": {},
     "output_type": "execute_result"
    }
   ],
   "source": [
    "\n",
    "\n",
    "interaction_counts = pd.DataFrame(df.groupby('interaction').count()['e1'])\n",
    "interaction_counts"
   ]
  },
  {
   "cell_type": "code",
   "execution_count": 9,
   "metadata": {},
   "outputs": [
    {
     "data": {
      "text/plain": [
       "Text(0.5, 0, '')"
      ]
     },
     "execution_count": 9,
     "metadata": {},
     "output_type": "execute_result"
    },
    {
     "data": {
      "image/png": "[encoded data removed]",
      "text/plain": [
       "<Figure size 576x360 with 1 Axes>"
      ]
     },
     "metadata": {
      "needs_background": "light"
     },
     "output_type": "display_data"
    }
   ],
   "source": [
    "ax = interaction_counts.plot.bar(figsize = (8,5), rot=0, legend = False)\n",
    "ax.set_xlabel(\"\")"
   ]
  },
  {
   "cell_type": "code",
   "execution_count": 24,
   "metadata": {},
   "outputs": [],
   "source": [
    "df_advise = df.loc[df['interaction']=='advise']\n",
    "df_effect = df.loc[df['interaction']=='effect']\n",
    "df_int = df.loc[df['interaction']=='int']\n",
    "df_mechanism = df.loc[df['interaction']=='mechanism']\n",
    "\n"
   ]
  },
  {
   "cell_type": "code",
   "execution_count": 45,
   "metadata": {},
   "outputs": [
    {
     "name": "stdout",
     "output_type": "stream",
     "text": [
      "              Count\n",
      "bupropion        16\n",
      "TARCEVA          14\n",
      "glimepiride      12\n",
      "Duloxetine       11\n",
      "NSAIDs           11\n",
      "paricalcitol     11\n",
      "ZEBETA           10\n",
      "alosetron         9\n",
      "VISTIDE           9\n",
      "BREVIBLOC         8\n",
      "                           Count\n",
      "SPRYCEL                       18\n",
      "ketoconazole                  17\n",
      "warfarin                      13\n",
      "tricyclic antidepressants     12\n",
      "itraconazole                   9\n",
      "DETROL LA                      9\n",
      "FACTIVE                        9\n",
      "Aprepitant                     8\n",
      "Levo-Dromoran                  7\n",
      "lithium                        7\n",
      "                           Count\n",
      "ketoconazole                  23\n",
      "tricyclic antidepressants     20\n",
      "SPRYCEL                       19\n",
      "bupropion                     16\n",
      "Aprepitant                    16\n",
      "warfarin                      16\n",
      "NSAIDs                        14\n",
      "TARCEVA                       14\n",
      "glimepiride                   12\n",
      "sumatriptan                   12\n"
     ]
    }
   ],
   "source": [
    "advise_counts_e1 = pd.DataFrame({'Count': df_advise['e1'].value_counts()})\n",
    "print(advise_counts_e1.head(10))\n",
    "advise_counts_e2 = pd.DataFrame({'Count': df_advise['e2'].value_counts()})\n",
    "print(advise_counts_e2.head(10))\n",
    "\n",
    "advise_counts = pd.concat([advise_counts_e1, advise_counts_e2])\n",
    "advise_counts = advise_counts.groupby(advise_counts.index).sum().sort_values(by=\"Count\", ascending=False)\n",
    "print(advise_counts.head(10))"
   ]
  },
  {
   "cell_type": "code",
   "execution_count": 44,
   "metadata": {},
   "outputs": [
    {
     "name": "stdout",
     "output_type": "stream",
     "text": [
      "                           Count\n",
      "anticoagulant                 79\n",
      "benzodiazepines               24\n",
      "phenytoin                     20\n",
      "sulfonylureas                 18\n",
      "NIMBEX                        16\n",
      "NUROMAX                       16\n",
      "NSAIDs                        15\n",
      "nondepolarizing agents        15\n",
      "tricyclic antidepressants     14\n",
      "Levo-Dromoran                 12\n",
      "                              Count\n",
      "alcohol                          38\n",
      "warfarin                         28\n",
      "barbiturates                     21\n",
      "anticoagulants                   19\n",
      "insulin                          16\n",
      "antihistamines                   16\n",
      "tricyclic antidepressants        16\n",
      "morphine                         16\n",
      "monoamine oxidase inhibitors     15\n",
      "CNS depressants                  14\n",
      "                              Count\n",
      "anticoagulant                    80\n",
      "alcohol                          44\n",
      "warfarin                         32\n",
      "tricyclic antidepressants        30\n",
      "benzodiazepines                  30\n",
      "phenytoin                        30\n",
      "NIMBEX                           26\n",
      "barbiturates                     25\n",
      "antihistamines                   24\n",
      "monoamine oxidase inhibitors     24\n"
     ]
    }
   ],
   "source": [
    "effect_counts_e1 = pd.DataFrame({'Count': df_effect['e1'].value_counts()})\n",
    "effect_counts_e2 = pd.DataFrame({'Count': df_effect['e2'].value_counts()})\n",
    "print(effect_counts_e1.head(10))\n",
    "print(effect_counts_e2.head(10))\n",
    "effect_counts = pd.concat([effect_counts_e1, effect_counts_e2])\n",
    "effect_counts = effect_counts.groupby(effect_counts.index).sum().sort_values(by=\"Count\", ascending=False)\n",
    "print(effect_counts.head(10))"
   ]
  },
  {
   "cell_type": "code",
   "execution_count": 41,
   "metadata": {},
   "outputs": [
    {
     "name": "stdout",
     "output_type": "stream",
     "text": [
      "                Count\n",
      "EQUETROTM          83\n",
      "phenytoin          47\n",
      "ketoconazole       21\n",
      "Probenecid         19\n",
      "Cholestyramine     18\n",
      "rifampin           17\n",
      "Aprepitant         16\n",
      "cimetidine         16\n",
      "azithromycin       15\n",
      "phenobarbital      12\n",
      "                 Count\n",
      "phenytoin           31\n",
      "ketoconazole        22\n",
      "midazolam           19\n",
      "corticosteroids     19\n",
      "cimetidine          17\n",
      "digoxin             16\n",
      "warfarin            15\n",
      "theophylline        14\n",
      "methotrexate        13\n",
      "phenobarbital       12\n",
      "               Count\n",
      "EQUETROTM         83\n",
      "phenytoin         78\n",
      "ketoconazole      43\n",
      "cimetidine        33\n",
      "rifampin          25\n",
      "phenobarbital     24\n",
      "digoxin           23\n",
      "carbamazepine     22\n",
      "midazolam         22\n",
      "theophylline      19\n"
     ]
    }
   ],
   "source": [
    "mechanism_counts_e1 = pd.DataFrame({'Count': df_mechanism['e1'].value_counts()})\n",
    "mechanism_counts_e2 = pd.DataFrame({'Count': df_mechanism['e2'].value_counts()})\n",
    "print(mechanism_counts_e1.head(10))\n",
    "print(mechanism_counts_e2.head(10))\n",
    "mechanism_counts = pd.concat([mechanism_counts_e1, mechanism_counts_e2])\n",
    "mechanism_counts = mechanism_counts.groupby(mechanism_counts.index).sum().sort_values(by=\"Count\", ascending=False)\n",
    "print(mechanism_counts.head(10))"
   ]
  },
  {
   "cell_type": "code",
   "execution_count": 43,
   "metadata": {},
   "outputs": [
    {
     "name": "stdout",
     "output_type": "stream",
     "text": [
      "                        Count\n",
      "Etonogestrel               44\n",
      "Methscopolamine            21\n",
      "nondepolarizing agents     14\n",
      "MIVACRON                   14\n",
      "Bentiromide                14\n",
      "alprazolam                 12\n",
      "erythromycin               11\n",
      "Benzthiazide                8\n",
      "Melatonin                   8\n",
      "Barbiturates                7\n",
      "                Count\n",
      "cyclosporine        5\n",
      "MAO inhibitors      4\n",
      "TCA                 4\n",
      "antibiotics         4\n",
      "quinidine           4\n",
      "procainamide        3\n",
      "alcohol             3\n",
      "NSAIDs              3\n",
      "anesthetics         3\n",
      "lithium             3\n",
      "                        Count\n",
      "Etonogestrel               44\n",
      "Methscopolamine            21\n",
      "nondepolarizing agents     14\n",
      "Bentiromide                14\n",
      "MIVACRON                   14\n",
      "alprazolam                 13\n",
      "erythromycin               12\n",
      "Benzthiazide                8\n",
      "Melatonin                   8\n",
      "Barbiturates                7\n"
     ]
    }
   ],
   "source": [
    "int_counts_e1 = pd.DataFrame({'Count': df_int['e1'].value_counts()})\n",
    "int_counts_e2 = pd.DataFrame({'Count': df_int['e2'].value_counts()})\n",
    "\n",
    "print(int_counts_e1.head(10))\n",
    "print(int_counts_e2.head(10))\n",
    "\n",
    "int_counts = pd.concat([int_counts_e1, int_counts_e2])\n",
    "int_counts = int_counts.groupby(int_counts.index).sum().sort_values(by=\"Count\", ascending=False)\n",
    "print(int_counts.head(10))"
   ]
  },
  {
   "cell_type": "markdown",
   "metadata": {},
   "source": [
    "##  Checking both entities"
   ]
  },
  {
   "cell_type": "code",
   "execution_count": 50,
   "metadata": {},
   "outputs": [
    {
     "data": {
      "text/plain": [
       "Text(0.5, 0, '')"
      ]
     },
     "execution_count": 50,
     "metadata": {},
     "output_type": "execute_result"
    },
    {
     "data": {
      "image/png": "[encoded data removed]",
      "text/plain": [
       "<Figure size 576x360 with 1 Axes>"
      ]
     },
     "metadata": {
      "needs_background": "light"
     },
     "output_type": "display_data"
    }
   ],
   "source": [
    "# one of the entities is uppercase\n",
    "df1 = pd.DataFrame({'lab' : ['int', 'effect', 'mechanism', 'advise'], 'Count' : [int_counts.index.str.isupper().sum()/int_counts.shape[0],\n",
    "                                                                            effect_counts.index.str.isupper().sum()/effect_counts.shape[0],\n",
    "                                                                            mechanism_counts.index.str.isupper().sum()/mechanism_counts.shape[0],\n",
    "                                                                            advise_counts.index.str.isupper().sum()/advise_counts.shape[0]]})\n",
    "\n",
    "ax = df1.plot.bar(x='lab', y = 'Count', figsize = (8,5), rot=0, legend = False)\n",
    "ax.set_xlabel(\"\")"
   ]
  },
  {
   "cell_type": "code",
   "execution_count": 54,
   "metadata": {},
   "outputs": [
    {
     "data": {
      "text/plain": [
       "Text(0.5, 0, '')"
      ]
     },
     "execution_count": 54,
     "metadata": {},
     "output_type": "execute_result"
    },
    {
     "data": {
      "image/png": "[encoded data removed]",
      "text/plain": [
       "<Figure size 576x360 with 1 Axes>"
      ]
     },
     "metadata": {
      "needs_background": "light"
     },
     "output_type": "display_data"
    }
   ],
   "source": [
    "# one of the entities ends in s\n",
    "df2 = pd.DataFrame({'lab' : ['int', 'effect', 'mechanism', 'advise'], 'Count' : [(int_counts.index.str[-1]=='s').sum()/int_counts.shape[0],\n",
    "                                                                            (effect_counts.index.str[-1] == 's').sum()/effect_counts.shape[0],\n",
    "                                                                            (mechanism_counts.index.str[-1] == 's').sum()/mechanism_counts.shape[0],\n",
    "                                                                            (advise_counts.index.str[-1] == 's').sum()/advise_counts.shape[0]]})\n",
    "\n",
    "ax = df2.plot.bar(x='lab', y = 'Count', figsize = (8,5), rot=0, legend = False)\n",
    "ax.set_xlabel(\"\")"
   ]
  },
  {
   "cell_type": "markdown",
   "metadata": {},
   "source": [
    "## Checking e1"
   ]
  },
  {
   "cell_type": "code",
   "execution_count": 59,
   "metadata": {},
   "outputs": [
    {
     "data": {
      "text/plain": [
       "Text(0.5, 0, '')"
      ]
     },
     "execution_count": 59,
     "metadata": {},
     "output_type": "execute_result"
    },
    {
     "data": {
      "image/png": "[encoded data removed]",
      "text/plain": [
       "<Figure size 576x360 with 1 Axes>"
      ]
     },
     "metadata": {
      "needs_background": "light"
     },
     "output_type": "display_data"
    }
   ],
   "source": [
    "# e1 is uppercase\n",
    "df1 = pd.DataFrame({'lab' : ['int', 'effect', 'mechanism', 'advise'], 'Count' : [int_counts_e1.index.str.isupper().sum()/int_counts_e1.shape[0],\n",
    "                                                                            effect_counts_e1.index.str.isupper().sum()/effect_counts_e1.shape[0],\n",
    "                                                                            mechanism_counts_e1.index.str.isupper().sum()/mechanism_counts_e1.shape[0],\n",
    "                                                                            advise_counts_e1.index.str.isupper().sum()/advise_counts_e1.shape[0]]})\n",
    "\n",
    "ax = df1.plot.bar(x='lab', y = 'Count', figsize = (8,5), rot=0, legend = False)\n",
    "ax.set_xlabel(\"\")"
   ]
  },
  {
   "cell_type": "code",
   "execution_count": null,
   "metadata": {},
   "outputs": [],
   "source": []
  },
  {
   "cell_type": "markdown",
   "metadata": {},
   "source": [
    "## Checking e2"
   ]
  },
  {
   "cell_type": "code",
   "execution_count": 60,
   "metadata": {},
   "outputs": [
    {
     "data": {
      "text/plain": [
       "Text(0.5, 0, '')"
      ]
     },
     "execution_count": 60,
     "metadata": {},
     "output_type": "execute_result"
    },
    {
     "data": {
      "image/png": "[encoded data removed]",
      "text/plain": [
       "<Figure size 576x360 with 1 Axes>"
      ]
     },
     "metadata": {
      "needs_background": "light"
     },
     "output_type": "display_data"
    }
   ],
   "source": [
    "# e2 is uppercase\n",
    "df1 = pd.DataFrame({'lab' : ['int', 'effect', 'mechanism', 'advise'], 'Count' : [int_counts_e2.index.str.isupper().sum()/int_counts_e2.shape[0],\n",
    "                                                                            effect_counts_e2.index.str.isupper().sum()/effect_counts_e2.shape[0],\n",
    "                                                                            mechanism_counts_e2.index.str.isupper().sum()/mechanism_counts_e2.shape[0],\n",
    "                                                                            advise_counts_e2.index.str.isupper().sum()/advise_counts_e2.shape[0]]})\n",
    "\n",
    "ax = df1.plot.bar(x='lab', y = 'Count', figsize = (8,5), rot=0, legend = False)\n",
    "ax.set_xlabel(\"\")"
   ]
  }
 ],
 "metadata": {
  "kernelspec": {
   "display_name": "Python 3",
   "language": "python",
   "name": "python3"
  },
  "language_info": {
   "codemirror_mode": {
    "name": "ipython",
    "version": 3
   },
   "file_extension": ".py",
   "mimetype": "text/x-python",
   "name": "python",
   "nbconvert_exporter": "python",
   "pygments_lexer": "ipython3",
   "version": "3.8.3"
  }
 },
 "nbformat": 4,
 "nbformat_minor": 5
}
