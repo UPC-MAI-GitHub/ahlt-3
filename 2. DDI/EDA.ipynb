{
 "cells": [
  {
   "cell_type": "code",
   "execution_count": 1,
   "id": "f978c9ce",
   "metadata": {},
   "outputs": [],
   "source": [
    "from os import listdir\n",
    "from xml.dom.minidom import parse\n",
    "\n",
    "import pandas as pd\n",
    "import matplotlib.pyplot as plt\n",
    "from nltk.tokenize import word_tokenize\n",
    "from nltk.corpus import stopwords\n",
    "\n",
    "stopwords = set(stopwords.words(\"english\"))\n",
    "import string\n",
    "\n",
    "# import nltk CoreNLP module (just once)\n",
    "from nltk.parse.corenlp import CoreNLPDependencyParser\n",
    "# connect to your CoreNLP server (just once)\n",
    "corenlp_parser = CoreNLPDependencyParser(url=\"http://localhost:9000\")"
   ]
  },
  {
   "cell_type": "markdown",
   "id": "d1500626",
   "metadata": {},
   "source": [
    "# Data analysis\n",
    "Examine (by hand or collecting simple statistics) the train\n",
    "dataset and try to infer general rules that are right in most\n",
    "cases, even if they seldom apply (high precision, low recall"
   ]
  },
  {
   "cell_type": "code",
   "execution_count": 2,
   "id": "50b4a6c4",
   "metadata": {},
   "outputs": [],
   "source": [
    "def get_offsets(word, s):\n",
    "    '''\n",
    "    Task:\n",
    "        Given a word and sentence, returns its starting end ending index in the sentence.\n",
    "    \n",
    "    Input:\n",
    "        word: word to find offsets for\n",
    "        s: sentence containing the word\n",
    "    \n",
    "    Output:\n",
    "        Returns a tuple containing the start and end offset.\n",
    "    '''\n",
    "    start = s.find(word)\n",
    "    end = start + len(word) - 1\n",
    "    return start, end\n",
    "\n",
    "def analyze(s):\n",
    "    '''\n",
    "    Task:\n",
    "        Given one sentence, sends it to CoreNLP to obtain the tokens, tags,\n",
    "        and dependency tree. It also adds the start/end offsets to each token.\n",
    "    \n",
    "    Input:\n",
    "        s: string containing the text for one sentence\n",
    "    \n",
    "    Output:\n",
    "        Returns the nltk DependencyGraph object produced by CoreNLP, enriched with token offsets.\n",
    "\n",
    "    '''\n",
    "    s = s.replace(\"%\", \"<percentage>\")\n",
    "    tree, = corenlp_parser.raw_parse(s)\n",
    "    for n in tree.nodes.items():\n",
    "        node = n[1]\n",
    "        if node['word']:\n",
    "            start, end = get_offsets(node['word'], s)\n",
    "            node['start'] = start\n",
    "            node['end'] = end\n",
    "            \n",
    "    return tree"
   ]
  },
  {
   "cell_type": "code",
   "execution_count": 3,
   "id": "68249aae",
   "metadata": {
    "scrolled": true
   },
   "outputs": [
    {
     "name": "stdout",
     "output_type": "stream",
     "text": [
      "(Co-administration\n",
      "  (ketoconazole of oral)\n",
      "  (AUC\n",
      "    (mg 200)\n",
      "    (increased (daily twice))\n",
      "    retapamulin\n",
      "    geometric\n",
      "    mean\n",
      "    (24 ( 0 - ))\n",
      "    (Cmax and (81 by))\n",
      "    (<percentage>\n",
      "      (application\n",
      "        after\n",
      "        topical\n",
      "        (ointment of retapamulin)\n",
      "        ,\n",
      "        (<percentage>\n",
      "          1\n",
      "          (skin on the abraded (males of healthy adult))))))\n",
      "  .)\n"
     ]
    }
   ],
   "source": [
    "# tree = analyze(\"Interaction between oxytocin and antidiuretic hormone and its effect on the milk secretion by alveoli of the mammary gland of lactating rats.\")\n",
    "# print(tree.nodes.items())\n",
    "s2 = \"Co-administration of oral ketoconazole 200 mg twice daily increased retapamulin geometric mean AUC(0-24) and Cmax by 81% after topical application of retapamulin ointment, 1% on the abraded skin of healthy adult males. \"\n",
    "tree = analyze(s2)\n",
    "print(tree.tree())"
   ]
  },
  {
   "cell_type": "code",
   "execution_count": null,
   "id": "87700e6c",
   "metadata": {},
   "outputs": [],
   "source": []
  },
  {
   "cell_type": "markdown",
   "id": "5c2fed2b",
   "metadata": {},
   "source": [
    "***"
   ]
  },
  {
   "cell_type": "code",
   "execution_count": 4,
   "id": "0d1a953e",
   "metadata": {},
   "outputs": [],
   "source": [
    "datadir = \"../../labAHLT/data/train\"\n",
    "entities = {}\n",
    "pairs = []\n",
    "analyses = []\n",
    "sentences = []\n",
    "\n",
    "\n",
    "for f in listdir(datadir):\n",
    "\n",
    "    tree = parse(datadir + \"/\" + f)\n",
    "\n",
    "    sents = tree.getElementsByTagName(\"sentence\")\n",
    "    for s in sents:\n",
    "\n",
    "        sid = s.attributes[\"id\"].value # get sentence id\n",
    "        stext = s.attributes[\"text\"].value # get sentence text\n",
    "        \n",
    "        \n",
    "        if len(stext) == 0:\n",
    "            continue\n",
    "            \n",
    "        sentences.append(s)\n",
    "        \n",
    "        ents = s.getElementsByTagName(\"entity\")\n",
    "        for e in ents:\n",
    "            eid = e.attributes[\"id\"].value\n",
    "            entities[eid] = e.attributes[\"text\"].value\n",
    "        \n",
    "        # Tokenize, tag, and parse sentence\n",
    "        analysis = analyze(stext)\n",
    "        analyses.append(analysis)\n",
    "\n",
    "        # for each pair in the sentence , decide whether it is DDI and its type\n",
    "        prs = s.getElementsByTagName(\"pair\")\n",
    "        temp_pairs = []\n",
    "        for p in prs:\n",
    "            id_e1 = p.attributes[\"e1\"].value\n",
    "            id_e2 = p.attributes[\"e2\"].value\n",
    "            interaction = p.attributes[\"type\"].value if p.attributes[\"ddi\"].value == \"true\" else None\n",
    "            temp_pairs.append({\"e1\": id_e1, \"e2\": id_e2, \"sid\": sid, \"interaction\": interaction})\n",
    "#             ddi_type = check_interaction(analysis, entities , id_e1 , id_e2)\n",
    "#            if ddi_type != None:\n",
    "#                print(sid +\"|\"+ id_e1 +\"|\"+ id_e2 +\"|\"+ ddi_type,file = outf)\n",
    "#            if p.attributes[\"ddi\"].value == \"true\":\n",
    "#                print(sid +\"|\"+ id_e1 +\"|\"+ id_e2 +\"|\"+ interaction)\n",
    "        pairs.append(temp_pairs)"
   ]
  },
  {
   "cell_type": "code",
   "execution_count": 5,
   "id": "c7f0cebc",
   "metadata": {},
   "outputs": [],
   "source": [
    "def find_entity_in_tree(entity, tree):\n",
    "    for n in tree.nodes.items():\n",
    "        node = n[1]\n",
    "        if node[\"word\"] and entity.find(node[\"word\"]) >= 0:\n",
    "            return node\n",
    "        \n",
    "    # PROBLEM: TWO_WORD ENTITIES!!! How to find the relevant nodes??? \n",
    "    return None\n",
    "\n",
    "def analyze_interactions_train(analysis, entities, e1, e2):\n",
    "    tree = analysis.tree()\n",
    "    \n",
    "    entity1 = entities[e1]\n",
    "    entity2 = entities[e2]\n",
    "    \n",
    "#     print(entity1)\n",
    "#     print(entity2)\n",
    "    \n",
    "    e1_node = find_entity_in_tree(entity1, analysis)\n",
    "    e2_node = find_entity_in_tree(entity2, analysis)\n",
    "           \n",
    "    e1_tag = e1_node['tag'] if e1_node else None\n",
    "    e2_tag = e2_node['tag'] if e2_node else None\n",
    "    \n",
    "    #TODO  -return more, such as the relationship between e1 and e2 in the tree\n",
    "    e1_addr =  e1_node['address'] if e1_node else 0\n",
    "    e2_addr = e2_node['address'] if e2_node else 0  \n",
    "    \n",
    "    # TODO - perhaps getting the Tag of the head would be useful too\n",
    "    # HEAD ANALYSIS\n",
    "    h_e1 = e1_node['head'] if e1_node else None      #position of the head\n",
    "    head_e1 = analysis.nodes[h_e1]['lemma'] if e1_node else None\n",
    "    tag_head_e1 = analysis.nodes[h_e1]['tag'][0].lower() if e1_node else None\n",
    "    \n",
    "    h_e2 = e2_node['head'] if e2_node else None      #position of the head\n",
    "    head_e2 = analysis.nodes[h_e2]['lemma'] if e2_node else None\n",
    "    tag_head_e2 = analysis.nodes[h_e2]['tag'][0].lower() if e2_node else None\n",
    "    \n",
    "    if head_e1 == head_e2 and tag_head_e1 == 'v' and tag_head_e2 == 'v':\n",
    "        under_same_verb = True\n",
    "    else:\n",
    "        under_same_verb = False\n",
    "        \n",
    "    if head_e1 == head_e2 and head_e1 != None and head_e2 != None:\n",
    "        under_same_word = True\n",
    "    else:\n",
    "        under_same_word = False\n",
    "    \n",
    "    if head_e1 == entity2 and head_e1 != None:\n",
    "        e1_under_e2 = True\n",
    "    else: \n",
    "        e1_under_e2 = False\n",
    "    \n",
    "    if head_e2 == entity1 and head_e2 != None:\n",
    "        e2_under_e1 = True\n",
    "    else:\n",
    "        e2_under_e1 = False\n",
    "\n",
    "\n",
    "    return  e1_tag, e2_tag, e2_addr - e1_addr, head_e1, head_e2, under_same_verb, under_same_word, e1_under_e2, e2_under_e1"
   ]
  },
  {
   "cell_type": "code",
   "execution_count": 6,
   "id": "1701bf0d",
   "metadata": {},
   "outputs": [],
   "source": [
    "#print(pairs[0])\n",
    "#print(analyses[0])\n",
    "#print(entities)"
   ]
  },
  {
   "cell_type": "code",
   "execution_count": 7,
   "id": "8d4cc5c2",
   "metadata": {},
   "outputs": [
    {
     "data": {
      "text/html": [
       "<div>\n",
       "<style scoped>\n",
       "    .dataframe tbody tr th:only-of-type {\n",
       "        vertical-align: middle;\n",
       "    }\n",
       "\n",
       "    .dataframe tbody tr th {\n",
       "        vertical-align: top;\n",
       "    }\n",
       "\n",
       "    .dataframe thead th {\n",
       "        text-align: right;\n",
       "    }\n",
       "</style>\n",
       "<table border=\"1\" class=\"dataframe\">\n",
       "  <thead>\n",
       "    <tr style=\"text-align: right;\">\n",
       "      <th></th>\n",
       "      <th>e1</th>\n",
       "      <th>e2</th>\n",
       "      <th>sid</th>\n",
       "      <th>interaction</th>\n",
       "      <th>e1_tag</th>\n",
       "      <th>e2_tag</th>\n",
       "      <th>address_difference</th>\n",
       "      <th>head_e1</th>\n",
       "      <th>head_e2</th>\n",
       "      <th>under_same_verb</th>\n",
       "      <th>under_same_word</th>\n",
       "      <th>e1_under_e2</th>\n",
       "      <th>e2_under_e1</th>\n",
       "    </tr>\n",
       "  </thead>\n",
       "  <tbody>\n",
       "    <tr>\n",
       "      <th>0</th>\n",
       "      <td>DDI-DrugBank.d59.s0.e0</td>\n",
       "      <td>DDI-DrugBank.d59.s0.e1</td>\n",
       "      <td>DDI-DrugBank.d59.s0</td>\n",
       "      <td>mechanism</td>\n",
       "      <td>NNP</td>\n",
       "      <td>NN</td>\n",
       "      <td>5</td>\n",
       "      <td>effect</td>\n",
       "      <td>potentiate</td>\n",
       "      <td>False</td>\n",
       "      <td>False</td>\n",
       "      <td>False</td>\n",
       "      <td>False</td>\n",
       "    </tr>\n",
       "    <tr>\n",
       "      <th>1</th>\n",
       "      <td>DDI-DrugBank.d59.s0.e0</td>\n",
       "      <td>DDI-DrugBank.d59.s0.e2</td>\n",
       "      <td>DDI-DrugBank.d59.s0</td>\n",
       "      <td>None</td>\n",
       "      <td>NNP</td>\n",
       "      <td>NN</td>\n",
       "      <td>11</td>\n",
       "      <td>effect</td>\n",
       "      <td>metabolism</td>\n",
       "      <td>False</td>\n",
       "      <td>False</td>\n",
       "      <td>False</td>\n",
       "      <td>False</td>\n",
       "    </tr>\n",
       "    <tr>\n",
       "      <th>2</th>\n",
       "      <td>DDI-DrugBank.d59.s0.e1</td>\n",
       "      <td>DDI-DrugBank.d59.s0.e2</td>\n",
       "      <td>DDI-DrugBank.d59.s0</td>\n",
       "      <td>mechanism</td>\n",
       "      <td>NN</td>\n",
       "      <td>NN</td>\n",
       "      <td>6</td>\n",
       "      <td>potentiate</td>\n",
       "      <td>metabolism</td>\n",
       "      <td>False</td>\n",
       "      <td>False</td>\n",
       "      <td>False</td>\n",
       "      <td>False</td>\n",
       "    </tr>\n",
       "    <tr>\n",
       "      <th>3</th>\n",
       "      <td>DDI-DrugBank.d59.s1.e0</td>\n",
       "      <td>DDI-DrugBank.d59.s1.e1</td>\n",
       "      <td>DDI-DrugBank.d59.s1</td>\n",
       "      <td>effect</td>\n",
       "      <td>NNP</td>\n",
       "      <td>NNS</td>\n",
       "      <td>4</td>\n",
       "      <td>effect</td>\n",
       "      <td>ERGOMAR</td>\n",
       "      <td>False</td>\n",
       "      <td>False</td>\n",
       "      <td>False</td>\n",
       "      <td>True</td>\n",
       "    </tr>\n",
       "    <tr>\n",
       "      <th>4</th>\n",
       "      <td>DDI-DrugBank.d335.s1.e0</td>\n",
       "      <td>DDI-DrugBank.d335.s1.e1</td>\n",
       "      <td>DDI-DrugBank.d335.s1</td>\n",
       "      <td>effect</td>\n",
       "      <td>NN</td>\n",
       "      <td>JJ</td>\n",
       "      <td>7</td>\n",
       "      <td>dipotassium</td>\n",
       "      <td>increase</td>\n",
       "      <td>False</td>\n",
       "      <td>False</td>\n",
       "      <td>False</td>\n",
       "      <td>False</td>\n",
       "    </tr>\n",
       "  </tbody>\n",
       "</table>\n",
       "</div>"
      ],
      "text/plain": [
       "                        e1                       e2                   sid  \\\n",
       "0   DDI-DrugBank.d59.s0.e0   DDI-DrugBank.d59.s0.e1   DDI-DrugBank.d59.s0   \n",
       "1   DDI-DrugBank.d59.s0.e0   DDI-DrugBank.d59.s0.e2   DDI-DrugBank.d59.s0   \n",
       "2   DDI-DrugBank.d59.s0.e1   DDI-DrugBank.d59.s0.e2   DDI-DrugBank.d59.s0   \n",
       "3   DDI-DrugBank.d59.s1.e0   DDI-DrugBank.d59.s1.e1   DDI-DrugBank.d59.s1   \n",
       "4  DDI-DrugBank.d335.s1.e0  DDI-DrugBank.d335.s1.e1  DDI-DrugBank.d335.s1   \n",
       "\n",
       "  interaction e1_tag e2_tag  address_difference      head_e1     head_e2  \\\n",
       "0   mechanism    NNP     NN                   5       effect  potentiate   \n",
       "1        None    NNP     NN                  11       effect  metabolism   \n",
       "2   mechanism     NN     NN                   6   potentiate  metabolism   \n",
       "3      effect    NNP    NNS                   4       effect     ERGOMAR   \n",
       "4      effect     NN     JJ                   7  dipotassium    increase   \n",
       "\n",
       "   under_same_verb  under_same_word  e1_under_e2  e2_under_e1  \n",
       "0            False            False        False        False  \n",
       "1            False            False        False        False  \n",
       "2            False            False        False        False  \n",
       "3            False            False        False         True  \n",
       "4            False            False        False        False  "
      ]
     },
     "execution_count": 7,
     "metadata": {},
     "output_type": "execute_result"
    }
   ],
   "source": [
    "for i, pair_list in enumerate(pairs):\n",
    "    analysis = analyses[i]\n",
    "    for pair in pair_list:\n",
    "        e1_tag, e2_tag, address_difference, e1_h, e2_h, u_s_v, u_s_w, e1_e2, e2_e1 = analyze_interactions_train(analysis, entities, pair['e1'], pair['e2'])\n",
    "        pair['e1_tag'] = e1_tag\n",
    "        pair['e2_tag'] = e2_tag\n",
    "        pair['address_difference'] = address_difference\n",
    "        pair['head_e1'] = e1_h\n",
    "        pair['head_e2'] = e2_h\n",
    "        pair['under_same_verb'] = u_s_v\n",
    "        pair['under_same_word'] = u_s_w\n",
    "        pair['e1_under_e2'] = e1_e2\n",
    "        pair['e2_under_e1'] = e2_e1\n",
    "        \n",
    "temp_pairs = [item for sublist in pairs for item in sublist]\n",
    "df = pd.DataFrame(temp_pairs)\n",
    "df.head()"
   ]
  },
  {
   "cell_type": "markdown",
   "id": "07a6422a",
   "metadata": {},
   "source": [
    "***"
   ]
  },
  {
   "cell_type": "markdown",
   "id": "099b715c",
   "metadata": {},
   "source": [
    "**Example of rules:** \n",
    "- Check whether one entity is inside the subject of one verb, and the other is inside the direct object of the same verb. If that is the case, the lemma of the verb decides which is the type of interaction (checking lists of frequent verbs for each interaction type. The lists contain between 3 and 10 verbs, depending on the class).\n",
    "- If the previous rule is not satisfied, the first verb found between both entities that belongs to one of the lists decides the interaction type. \n",
    "- If no such verb is found, the type is None. "
   ]
  },
  {
   "cell_type": "code",
   "execution_count": 8,
   "id": "dabd06f1",
   "metadata": {},
   "outputs": [
    {
     "data": {
      "text/plain": [
       "administer           81\n",
       "use                  70\n",
       "co-administration    40\n",
       "administration       39\n",
       "dose                 21\n",
       "                     ..\n",
       "continue              1\n",
       "formation             1\n",
       "ALIMTA                1\n",
       "anticoagulant         1\n",
       "mechanism             1\n",
       "Name: head_e1, Length: 157, dtype: int64"
      ]
     },
     "execution_count": 8,
     "metadata": {},
     "output_type": "execute_result"
    }
   ],
   "source": [
    "# Verb lists could be obtained from here\n",
    "df['head_e1'].loc[df['interaction'] == 'mechanism'].value_counts()\n",
    "df['head_e1'].loc[df['interaction'] == 'effect'].value_counts()\n",
    "df['head_e1'].loc[df['interaction'] == 'int'].value_counts()\n",
    "df['head_e1'].loc[df['interaction'] == 'advise'].value_counts()"
   ]
  },
  {
   "cell_type": "code",
   "execution_count": 9,
   "id": "b21c6c2e",
   "metadata": {},
   "outputs": [
    {
     "data": {
      "image/png": "[encoded data removed]",
      "text/plain": [
       "<Figure size 576x360 with 1 Axes>"
      ]
     },
     "metadata": {
      "needs_background": "light"
     },
     "output_type": "display_data"
    }
   ],
   "source": [
    "#df['interaction'].unique()\n",
    "df_advise = df.loc[df['interaction']=='advise']\n",
    "df_effect = df.loc[df['interaction']=='effect']\n",
    "df_int = df.loc[df['interaction']=='int']\n",
    "df_mechanism = df.loc[df['interaction']=='mechanism']\n",
    "\n",
    "advise_count = df_advise.shape[0]\n",
    "effect_count = df_effect.shape[0]\n",
    "int_count = df_int.shape[0]\n",
    "mechanism_count = df_mechanism.shape[0]\n",
    "\n",
    "interaction_counts = pd.DataFrame(df.groupby('interaction').count()['e1'])\n",
    "ax = interaction_counts.plot.bar(figsize = (8,5), rot=0, legend = False, color='darkgrey', edgecolor='dimgray')\n",
    "ax.set_xlabel(\"\")\n",
    "ax.yaxis.grid(color='darkgrey', linestyle=':', linewidth=0.4)"
   ]
  },
  {
   "cell_type": "code",
   "execution_count": 10,
   "id": "68c597d0",
   "metadata": {},
   "outputs": [
    {
     "data": {
      "text/html": [
       "<div>\n",
       "<style scoped>\n",
       "    .dataframe tbody tr th:only-of-type {\n",
       "        vertical-align: middle;\n",
       "    }\n",
       "\n",
       "    .dataframe tbody tr th {\n",
       "        vertical-align: top;\n",
       "    }\n",
       "\n",
       "    .dataframe thead th {\n",
       "        text-align: right;\n",
       "    }\n",
       "</style>\n",
       "<table border=\"1\" class=\"dataframe\">\n",
       "  <thead>\n",
       "    <tr style=\"text-align: right;\">\n",
       "      <th></th>\n",
       "      <th>e1</th>\n",
       "      <th>e2</th>\n",
       "      <th>sid</th>\n",
       "      <th>interaction</th>\n",
       "      <th>e1_tag</th>\n",
       "      <th>e2_tag</th>\n",
       "      <th>address_difference</th>\n",
       "      <th>head_e1</th>\n",
       "      <th>head_e2</th>\n",
       "      <th>under_same_verb</th>\n",
       "      <th>under_same_word</th>\n",
       "      <th>e1_under_e2</th>\n",
       "      <th>e2_under_e1</th>\n",
       "    </tr>\n",
       "  </thead>\n",
       "  <tbody>\n",
       "    <tr>\n",
       "      <th>26</th>\n",
       "      <td>DDI-DrugBank.d150.s0.e0</td>\n",
       "      <td>DDI-DrugBank.d150.s0.e1</td>\n",
       "      <td>DDI-DrugBank.d150.s0</td>\n",
       "      <td>int</td>\n",
       "      <td>NNP</td>\n",
       "      <td>NNS</td>\n",
       "      <td>9</td>\n",
       "      <td>have</td>\n",
       "      <td>interaction</td>\n",
       "      <td>False</td>\n",
       "      <td>False</td>\n",
       "      <td>False</td>\n",
       "      <td>False</td>\n",
       "    </tr>\n",
       "    <tr>\n",
       "      <th>452</th>\n",
       "      <td>DDI-DrugBank.d13.s0.e0</td>\n",
       "      <td>DDI-DrugBank.d13.s0.e1</td>\n",
       "      <td>DDI-DrugBank.d13.s0</td>\n",
       "      <td>int</td>\n",
       "      <td>NNP</td>\n",
       "      <td>NNS</td>\n",
       "      <td>10</td>\n",
       "      <td>interact</td>\n",
       "      <td>interact</td>\n",
       "      <td>True</td>\n",
       "      <td>True</td>\n",
       "      <td>False</td>\n",
       "      <td>False</td>\n",
       "    </tr>\n",
       "    <tr>\n",
       "      <th>453</th>\n",
       "      <td>DDI-DrugBank.d13.s0.e0</td>\n",
       "      <td>DDI-DrugBank.d13.s0.e2</td>\n",
       "      <td>DDI-DrugBank.d13.s0</td>\n",
       "      <td>int</td>\n",
       "      <td>NNP</td>\n",
       "      <td>NN</td>\n",
       "      <td>12</td>\n",
       "      <td>interact</td>\n",
       "      <td>inhibitor</td>\n",
       "      <td>False</td>\n",
       "      <td>False</td>\n",
       "      <td>False</td>\n",
       "      <td>False</td>\n",
       "    </tr>\n",
       "    <tr>\n",
       "      <th>803</th>\n",
       "      <td>DDI-DrugBank.d208.s0.e0</td>\n",
       "      <td>DDI-DrugBank.d208.s0.e1</td>\n",
       "      <td>DDI-DrugBank.d208.s0</td>\n",
       "      <td>int</td>\n",
       "      <td>NNP</td>\n",
       "      <td>NN</td>\n",
       "      <td>4</td>\n",
       "      <td>interact</td>\n",
       "      <td>interact</td>\n",
       "      <td>True</td>\n",
       "      <td>True</td>\n",
       "      <td>False</td>\n",
       "      <td>False</td>\n",
       "    </tr>\n",
       "    <tr>\n",
       "      <th>804</th>\n",
       "      <td>DDI-DrugBank.d208.s0.e0</td>\n",
       "      <td>DDI-DrugBank.d208.s0.e2</td>\n",
       "      <td>DDI-DrugBank.d208.s0</td>\n",
       "      <td>int</td>\n",
       "      <td>NNP</td>\n",
       "      <td>NN</td>\n",
       "      <td>6</td>\n",
       "      <td>interact</td>\n",
       "      <td>thinner</td>\n",
       "      <td>False</td>\n",
       "      <td>False</td>\n",
       "      <td>False</td>\n",
       "      <td>False</td>\n",
       "    </tr>\n",
       "  </tbody>\n",
       "</table>\n",
       "</div>"
      ],
      "text/plain": [
       "                          e1                       e2                   sid  \\\n",
       "26   DDI-DrugBank.d150.s0.e0  DDI-DrugBank.d150.s0.e1  DDI-DrugBank.d150.s0   \n",
       "452   DDI-DrugBank.d13.s0.e0   DDI-DrugBank.d13.s0.e1   DDI-DrugBank.d13.s0   \n",
       "453   DDI-DrugBank.d13.s0.e0   DDI-DrugBank.d13.s0.e2   DDI-DrugBank.d13.s0   \n",
       "803  DDI-DrugBank.d208.s0.e0  DDI-DrugBank.d208.s0.e1  DDI-DrugBank.d208.s0   \n",
       "804  DDI-DrugBank.d208.s0.e0  DDI-DrugBank.d208.s0.e2  DDI-DrugBank.d208.s0   \n",
       "\n",
       "    interaction e1_tag e2_tag  address_difference   head_e1      head_e2  \\\n",
       "26          int    NNP    NNS                   9      have  interaction   \n",
       "452         int    NNP    NNS                  10  interact     interact   \n",
       "453         int    NNP     NN                  12  interact    inhibitor   \n",
       "803         int    NNP     NN                   4  interact     interact   \n",
       "804         int    NNP     NN                   6  interact      thinner   \n",
       "\n",
       "     under_same_verb  under_same_word  e1_under_e2  e2_under_e1  \n",
       "26             False            False        False        False  \n",
       "452             True             True        False        False  \n",
       "453            False            False        False        False  \n",
       "803             True             True        False        False  \n",
       "804            False            False        False        False  "
      ]
     },
     "execution_count": 10,
     "metadata": {},
     "output_type": "execute_result"
    }
   ],
   "source": [
    "df_int.head()"
   ]
  },
  {
   "cell_type": "code",
   "execution_count": 11,
   "id": "6eb9031f",
   "metadata": {},
   "outputs": [
    {
     "data": {
      "image/png": "[encoded data removed]",
      "text/plain": [
       "<Figure size 576x360 with 1 Axes>"
      ]
     },
     "metadata": {
      "needs_background": "light"
     },
     "output_type": "display_data"
    }
   ],
   "source": [
    "# e1 is an NNP\n",
    "df1 = pd.DataFrame({'lab' : ['int', 'effect', 'mechanism', 'advise'], 'Count' : [df_int.loc[df['e1_tag']=='NNP'].count()[0]/int_count,\n",
    "                                                                            df_effect.loc[df['e1_tag']=='NNP'].count()[0]/effect_count,\n",
    "                                                                            df_mechanism.loc[df['e1_tag']=='NNP'].count()[0]/mechanism_count,\n",
    "                                                                            df_advise.loc[df['e1_tag']=='NNP'].count()[0]/advise_count]})\n",
    "\n",
    "ax = df1.plot.bar(x='lab', y = 'Count', figsize = (8,5), rot=0, legend = False, color='darkgrey', edgecolor='dimgray')\n",
    "ax.set_xlabel(\"\")\n",
    "ax.yaxis.grid(color='darkgrey', linestyle=':', linewidth=0.4)"
   ]
  },
  {
   "cell_type": "code",
   "execution_count": 12,
   "id": "069d03b0",
   "metadata": {},
   "outputs": [
    {
     "data": {
      "image/png": "[encoded data removed]",
      "text/plain": [
       "<Figure size 576x360 with 1 Axes>"
      ]
     },
     "metadata": {
      "needs_background": "light"
     },
     "output_type": "display_data"
    }
   ],
   "source": [
    "# e2 is an NNP\n",
    "df2 = pd.DataFrame({'lab' : ['int', 'effect', 'mechanism', 'advise'], 'Count' : [df_int.loc[df['e2_tag']=='NNP'].count()[0]/int_count,\n",
    "                                                                            df_effect.loc[df['e2_tag']=='NNP'].count()[0]/effect_count,\n",
    "                                                                            df_mechanism.loc[df['e2_tag']=='NNP'].count()[0]/mechanism_count,\n",
    "                                                                            df_advise.loc[df['e2_tag']=='NNP'].count()[0]/advise_count]})\n",
    "\n",
    "ax = df2.plot.bar(x='lab', y = 'Count', figsize = (8,5), rot=0, legend = False, color='darkgrey', edgecolor='dimgray')\n",
    "ax.set_xlabel(\"\")\n",
    "ax.yaxis.grid(color='darkgrey', linestyle=':', linewidth=0.4)"
   ]
  },
  {
   "cell_type": "code",
   "execution_count": 13,
   "id": "937d2bec",
   "metadata": {},
   "outputs": [
    {
     "data": {
      "image/png": "[encoded data removed]",
      "text/plain": [
       "<Figure size 576x360 with 1 Axes>"
      ]
     },
     "metadata": {
      "needs_background": "light"
     },
     "output_type": "display_data"
    }
   ],
   "source": [
    "# e1 is a JJ\n",
    "df2 = pd.DataFrame({'lab' : ['int', 'effect', 'mechanism', 'advise'], 'Count' : [df_int.loc[df['e1_tag']=='JJ'].count()[0]/int_count,\n",
    "                                                                            df_effect.loc[df['e1_tag']=='JJ'].count()[0]/effect_count,\n",
    "                                                                            df_mechanism.loc[df['e1_tag']=='JJ'].count()[0]/mechanism_count,\n",
    "                                                                            df_advise.loc[df['e1_tag']=='JJ'].count()[0]/advise_count]})\n",
    "\n",
    "ax = df2.plot.bar(x='lab', y = 'Count', figsize = (8,5), rot=0, legend = False, color='darkgrey', edgecolor='dimgray')\n",
    "ax.set_xlabel(\"\")\n",
    "ax.yaxis.grid(color='darkgrey', linestyle=':', linewidth=0.4)\n",
    "\n"
   ]
  },
  {
   "cell_type": "code",
   "execution_count": null,
   "id": "7189d9b9",
   "metadata": {},
   "outputs": [],
   "source": []
  },
  {
   "cell_type": "code",
   "execution_count": null,
   "id": "3b899b11",
   "metadata": {},
   "outputs": [],
   "source": []
  },
  {
   "cell_type": "markdown",
   "id": "f5e21cab",
   "metadata": {},
   "source": [
    "***\n",
    "### Sentence Analysis"
   ]
  },
  {
   "cell_type": "markdown",
   "id": "2b8ee246",
   "metadata": {},
   "source": [
    "Instructor's example: \n",
    "- Pairs with an interaction of type _<font color=blue>effect</font>_ often have clue words like <font color=blue>administer, potentiate, prevent, </font> etc. between e1 and e2\n",
    "- Pairs with ann interaction of type _<font color=blue>mechanism</font>_ often have clue words like _<font color=blue>reduce, increase, decrease,</font>_ etc. between e1 and e2. \n",
    "- Pairs with ann interaction of type _<font color=blue>int</font>_ often have clue words like _<font color=blue>interact, interaction,</font>_ etc. between e1 and e2. \n",
    "Better results may be achieved if properties of the dependency tree are used (e.g. e1 is _<font color=red>under</font>_ e2, both e1 and e2 are _<font color=red>under</font>_ the same verb, e1 is _<font color=red>under</font>_ the subject of certain verbs (*enhance*, *reduce*, ...), etc.)"
   ]
  },
  {
   "cell_type": "code",
   "execution_count": 14,
   "id": "0c94f890",
   "metadata": {},
   "outputs": [],
   "source": [
    "# Get Words between entities e1 and e2 in sentence\n",
    "# Get Words outside subsentence delimited by e1-e2\n",
    "dict_sentences = {}\n",
    "lst = []\n",
    "for s in sentences:\n",
    "    sid = s.attributes[\"id\"].value\n",
    "    stext = s.attributes[\"text\"].value\n",
    "    dict_sentences[sid] = stext\n",
    "# print(dict_sentences)"
   ]
  },
  {
   "cell_type": "code",
   "execution_count": 15,
   "id": "53732c98",
   "metadata": {},
   "outputs": [],
   "source": [
    "def get_positions(analysis, entities, e1, e2):\n",
    "    tree = analysis.tree()\n",
    "    \n",
    "    entity1 = entities[e1]\n",
    "    entity2 = entities[e2]\n",
    "    \n",
    "    e1_node = find_entity_in_tree(entity1, analysis)\n",
    "    e2_node = find_entity_in_tree(entity2, analysis)\n",
    "           \n",
    "    e1_start =  e1_node['start'] if e1_node else 0\n",
    "    e1_end = e1_node['end'] if e1_node else 0  \n",
    "    \n",
    "    e2_start =  e2_node['start'] if e2_node else 0\n",
    "    e2_end = e2_node['end'] if e2_node else 0  \n",
    "\n",
    "\n",
    "    return e1_start, e1_end, e2_start, e2_end\n",
    "\n",
    "def dict_add_one(dictionary, key):\n",
    "    if key in dictionary:\n",
    "        dictionary[key] += 1\n",
    "    else:\n",
    "        dictionary[key] = 1"
   ]
  },
  {
   "cell_type": "code",
   "execution_count": 89,
   "id": "481d3eb8",
   "metadata": {},
   "outputs": [],
   "source": [
    "word_dict = {'effect': \n",
    "                    {'clue_words':{},\n",
    "                     'outside_words':{},\n",
    "                     'sentence_words':{},\n",
    "                     'num_interactions': 0\n",
    "                    },\n",
    "                 'mechanism':\n",
    "                    {'clue_words':{},\n",
    "                     'outside_words':{},\n",
    "                     'sentence_words':{},\n",
    "                     'num_interactions': 0\n",
    "                    },\n",
    "                 'int':\n",
    "                    {'clue_words':{},\n",
    "                     'outside_words':{},\n",
    "                     'sentence_words':{},\n",
    "                     'num_interactions': 0\n",
    "                    },\n",
    "                 'advise':\n",
    "                    {'clue_words':{},\n",
    "                     'outside_words':{},\n",
    "                     'sentence_words':{},\n",
    "                     'num_interactions': 0\n",
    "                    },\n",
    "                }\n",
    "import nltk\n",
    "# verb_tags = ['VB', 'VBD', 'VBG','VBN', 'VBP', 'VBZ', 'MD', 'RB', 'RBR', 'RBS', 'WRB'] #verbs and adverbs\n",
    "def get_verb_tokens(sentence_text):\n",
    "    #filters tokens by verb\n",
    "    tokens = word_tokenize(sentence_text)\n",
    "    return [word for word, tag in nltk.pos_tag(tokens) if tag in verb_tags]\n",
    "\n",
    "# Code should need improvement, there are pairs that throw error \n",
    "# Filtering words by verb should be better\n",
    "for i, pair_list in enumerate(pairs):\n",
    "    analysis = analyses[i]\n",
    "    for pair in pair_list:\n",
    "        start_e1, end_e1, start_e2, end_e2 = get_positions(analysis, entities, pair['e1'], pair['e2'])\n",
    "        sid = pair['sid']\n",
    "        interaction = pair['interaction']\n",
    "        sentence = dict_sentences[sid]\n",
    "    \n",
    "        if interaction in ['effect', 'mechanism','int','advise']:\n",
    "            dict_add_one(word_dict[interaction], 'num_interactions')\n",
    "            between_entities = [word for word in get_verb_tokens(sentence[end_e1+1:start_e2]) if word not in stopwords and word not in string.punctuation]\n",
    "            for word in between_entities:\n",
    "                dict_add_one(word_dict[interaction]['clue_words'], word) \n",
    "\n",
    "\n",
    "            not_between = [word for word in get_verb_tokens(sentence[:start_e1] + ' ' + sentence[end_e2+1:]) if word not in stopwords and word not in string.punctuation]\n",
    "            for word in not_between:\n",
    "                dict_add_one(word_dict[interaction]['outside_words'], word) \n",
    "\n",
    "            full_sentence = [word for word in word_tokenize(sentence[::1]) if word not in stopwords and word not in string.punctuation]\n",
    "            for word in full_sentence:\n",
    "                dict_add_one(word_dict[interaction]['sentence_words'], word) \n",
    "    \n",
    "    #break"
   ]
  },
  {
   "cell_type": "markdown",
   "id": "383f374a",
   "metadata": {},
   "source": [
    "suggested rules:\n",
    "\n",
    "    if 'enhance', 'administered', 'cause', 'affecting' between e1 and e2, then 'effect'\n",
    "    \n",
    "    if 'decreased', 'reported', 'ethosuximide', 'siginicantly', 'interfere', 'inhibit' between e1 and e2, then 'mechanism'\n",
    "    \n",
    "    if 'interact', 'following', 'lower' between e1 and e2 then 'int'\n",
    "    \n",
    "    if 'administered', 'concomitantly', 'metabolized', 'coadministered', 'recommended then 'advise'\n",
    "    \n",
    "   We could also try stemming the words i guess"
   ]
  },
  {
   "cell_type": "code",
   "execution_count": 91,
   "id": "55f29abb",
   "metadata": {},
   "outputs": [
    {
     "name": "stdout",
     "output_type": "stream",
     "text": [
      "Interaction:  effect\n",
      "---Clue_words---\n",
      "[('may', 323), ('include', 90), ('including', 72), ('enhance', 66), ('concomitantly', 66), ('administered', 65), ('reduce', 49), ('increased', 46), ('potentiated', 45), ('increase', 41), ('reported', 35), ('decrease', 23), ('potentiate', 23), ('decreased', 23), ('given', 20), ('used', 20), ('affecting', 20), ('taking', 19), ('cause', 19), ('enhanced', 19)]\n",
      "\n",
      " ---Outside e1-e2 interval---\n",
      "[('may', 431), ('reported', 128), ('receiving', 115), ('increase', 108), ('blocking', 96), ('including', 94), ('increased', 84), ('result', 75), ('associated', 57), ('salicylates', 55), ('reportedly', 55), ('cause', 54), ('prolonged', 53), ('enhance', 51), ('acting', 50), ('long', 50), ('administered', 47), ('concomitantly', 47), ('used', 43), ('nondepolarizing', 42)]\n",
      "\n",
      " --Words in sentence--\n",
      "[('may', 749), ('drugs', 535), ('effects', 362), ('agents', 325), ('acid', 303), ('alcohol', 272), ('inhibitors', 260), ('The', 245), ('patients', 220), ('oral', 194), ('sodium', 193), ('CNS', 192), ('response', 185), ('effect', 184), ('anesthetics', 179), ('use', 169), ('increase', 167), ('oxidase', 165), ('prothrombin', 163), ('e.g.', 162)]\n",
      "---------------------------------------------------------------------------------------------\n",
      "\n",
      "Interaction:  mechanism\n",
      "---Clue_words---\n",
      "[('may', 141), ('increased', 53), ('increase', 51), ('reduce', 42), ('decreased', 38), ('inhibit', 37), ('reported', 35), ('administered', 34), ('containing', 29), ('include', 25), ('ethosuximide', 24), ('significantly', 23), ('interfere', 22), ('known', 20), ('given', 19), ('reduced', 17), ('interact', 17), ('concomitantly', 16), ('shown', 15), ('decrease', 15)]\n",
      "\n",
      " ---Outside e1-e2 interval---\n",
      "[('may', 197), ('decreased', 111), ('expected', 102), ('increase', 90), ('found', 86), ('increased', 85), ('approximately', 63), ('administered', 48), ('resulted', 47), ('ethosuximide', 41), ('When', 39), ('reported', 35), ('shown', 34), ('decrease', 33), ('resulting', 31), ('result', 31), ('respectively', 29), ('induce', 29), ('significantly', 26), ('given', 25)]\n",
      "\n",
      " --Words in sentence--\n",
      "[('plasma', 350), ('may', 331), ('increase', 270), ('levels', 246), ('concentrations', 189), ('inhibitors', 172), ('phenytoin', 152), ('increased', 152), ('decreased', 147), ('AUC', 145), ('mg', 141), ('oral', 139), ('drugs', 137), ('metabolism', 129), ('administration', 126), ('decrease', 121), ('itraconazole', 116), ('CYP3A4', 114), ('ketoconazole', 112), ('cimetidine', 109)]\n",
      "---------------------------------------------------------------------------------------------\n",
      "\n",
      "Interaction:  int\n",
      "---Clue_words---\n",
      "[('may', 127), ('interact', 117), ('include', 25), ('classified', 14), ('decrease', 11), ('including', 10), ('following', 8), ('lower', 6), ('increased', 5), ('-containing', 5), ('administered', 4), ('cause', 4), ('coadministered', 3), ('procainamide', 3), ('inhibit', 2), ('concurrently', 2), ('interfere', 2), ('pharmacologically', 2), ('orally', 2), ('blocking', 1)]\n",
      "\n",
      " ---Outside e1-e2 interval---\n",
      "[('may', 110), ('enhance', 30), ('blocking', 30), ('classified', 30), ('nondepolarizing', 19), ('affect', 18), ('cause', 18), ('suggest', 17), ('reported', 14), ('decrease', 14), ('give', 14), ('involving', 11), ('demonstrated', 10), ('metabolized', 10), ('similarly', 10), ('procainamide', 10), ('increase', 9), ('interfere', 9), ('-containing', 9), ('result', 8)]\n",
      "\n",
      " --Words in sentence--\n",
      "[('may', 235), ('e.g.', 184), ('drugs', 133), ('interact', 123), ('antibiotics', 84), ('inhibitors', 80), ('medications', 80), ('following', 73), ('cyclosporine', 65), ('acetaminophen', 58), ('Tylenol', 58), ('medicines', 57), ('quinidine', 56), ('supplements', 53), ('theophylline', 51), ('vitamin', 46), ('anticonvulsants', 45), ('rifampin', 45), ('Etonogestrel', 44), ('ampicillin', 44)]\n",
      "---------------------------------------------------------------------------------------------\n",
      "\n",
      "Interaction:  advise\n",
      "---Clue_words---\n",
      "[('administered', 82), ('used', 52), ('concomitantly', 34), ('receiving', 34), ('metabolized', 31), ('including', 31), ('coadministered', 26), ('may', 24), ('taken', 23), ('concurrently', 21), ('taking', 18), ('recommended', 15), ('known', 13), ('monitored', 13), ('tell', 12), ('containing', 11), ('given', 10), ('reduced', 9), ('must', 8), ('chewable/buffered', 8)]\n",
      "\n",
      " ---Outside e1-e2 interval---\n",
      "[('may', 85), ('Therefore', 76), ('used', 72), ('recommended', 61), ('receiving', 52), ('taking', 50), ('monitored', 43), ('approached', 43), ('administered', 41), ('concomitantly', 36), ('considered', 31), ('avoided', 30), ('advised', 29), ('known', 28), ('administering', 27), ('taken', 26), ('concurrently', 26), ('metabolized', 25), ('including', 25), ('observed', 25)]\n",
      "\n",
      " --Words in sentence--\n",
      "[('patients', 156), ('e.g.', 148), ('drugs', 145), ('inhibitors', 128), ('used', 124), ('administered', 121), ('caution', 119), ('dose', 115), ('may', 106), ('ketoconazole', 104), ('receiving', 85), ('CYP3A4', 84), ('agents', 80), ('antidepressants', 77), ('Therefore', 76), ('recommended', 75), ('therapy', 73), ('concomitantly', 70), ('concomitant', 68), ('itraconazole', 66)]\n",
      "---------------------------------------------------------------------------------------------\n",
      "\n"
     ]
    }
   ],
   "source": [
    "for i in ['effect', 'mechanism', 'int', 'advise']:\n",
    "    print(\"Interaction: \", i)\n",
    "    print(\"---Clue_words---\")\n",
    "    print(sorted(word_dict[i]['clue_words'].items(), key=lambda item: item[1], reverse=True)[0:20])\n",
    "    print(\"\\n ---Outside e1-e2 interval---\")\n",
    "    print(sorted(word_dict[i]['outside_words'].items(), key=lambda item: item[1], reverse=True)[0:20])\n",
    "    print(\"\\n --Words in sentence--\")\n",
    "    print(sorted(word_dict[i]['sentence_words'].items(), key=lambda item: item[1], reverse=True)[0:20])\n",
    "    print('---------------------------------------------------------------------------------------------\\n')"
   ]
  },
  {
   "cell_type": "code",
   "execution_count": 92,
   "id": "517c598c",
   "metadata": {},
   "outputs": [
    {
     "name": "stdout",
     "output_type": "stream",
     "text": [
      "1450\n",
      "Interaction:  effect\n",
      "---Clue_words---\n",
      "[('may', 0.22275862068965518), ('include', 0.06206896551724138), ('including', 0.0496551724137931), ('enhance', 0.04551724137931035), ('concomitantly', 0.04551724137931035), ('administered', 0.04482758620689655), ('reduce', 0.03379310344827586), ('increased', 0.031724137931034485), ('potentiated', 0.03103448275862069), ('increase', 0.028275862068965516), ('reported', 0.02413793103448276), ('decrease', 0.015862068965517243), ('potentiate', 0.015862068965517243), ('decreased', 0.015862068965517243), ('given', 0.013793103448275862), ('used', 0.013793103448275862), ('affecting', 0.013793103448275862), ('taking', 0.01310344827586207), ('cause', 0.01310344827586207), ('enhanced', 0.01310344827586207)]\n",
      "\n",
      " ---Outside e1-e2 interval---\n",
      "[('may', 0.29724137931034483), ('reported', 0.08827586206896551), ('receiving', 0.07931034482758621), ('increase', 0.07448275862068965), ('blocking', 0.06620689655172414), ('including', 0.06482758620689655), ('increased', 0.057931034482758624), ('result', 0.05172413793103448), ('associated', 0.039310344827586205), ('salicylates', 0.03793103448275862), ('reportedly', 0.03793103448275862), ('cause', 0.037241379310344824), ('prolonged', 0.036551724137931035), ('enhance', 0.03517241379310345), ('acting', 0.034482758620689655), ('long', 0.034482758620689655), ('administered', 0.032413793103448274), ('concomitantly', 0.032413793103448274), ('used', 0.029655172413793104), ('nondepolarizing', 0.028965517241379312)]\n",
      "\n",
      " --Words in sentence--\n",
      "[('may', 0.516551724137931), ('drugs', 0.3689655172413793), ('effects', 0.2496551724137931), ('agents', 0.22413793103448276), ('acid', 0.20896551724137932), ('alcohol', 0.18758620689655173), ('inhibitors', 0.1793103448275862), ('The', 0.16896551724137931), ('patients', 0.15172413793103448), ('oral', 0.13379310344827586), ('sodium', 0.13310344827586207), ('CNS', 0.13241379310344828), ('response', 0.12758620689655173), ('effect', 0.12689655172413794), ('anesthetics', 0.12344827586206897), ('use', 0.11655172413793104), ('increase', 0.11517241379310345), ('oxidase', 0.11379310344827587), ('prothrombin', 0.11241379310344828), ('e.g.', 0.11172413793103449)]\n",
      "---------------------------------------------------------------------------------------------\n",
      "\n",
      "1020\n",
      "Interaction:  mechanism\n",
      "---Clue_words---\n",
      "[('may', 0.13823529411764707), ('increased', 0.05196078431372549), ('increase', 0.05), ('reduce', 0.041176470588235294), ('decreased', 0.03725490196078431), ('inhibit', 0.03627450980392157), ('reported', 0.03431372549019608), ('administered', 0.03333333333333333), ('containing', 0.028431372549019607), ('include', 0.024509803921568627), ('ethosuximide', 0.023529411764705882), ('significantly', 0.022549019607843137), ('interfere', 0.021568627450980392), ('known', 0.0196078431372549), ('given', 0.018627450980392157), ('reduced', 0.016666666666666666), ('interact', 0.016666666666666666), ('concomitantly', 0.01568627450980392), ('shown', 0.014705882352941176), ('decrease', 0.014705882352941176)]\n",
      "\n",
      " ---Outside e1-e2 interval---\n",
      "[('may', 0.1931372549019608), ('decreased', 0.10882352941176471), ('expected', 0.1), ('increase', 0.08823529411764706), ('found', 0.08431372549019608), ('increased', 0.08333333333333333), ('approximately', 0.061764705882352944), ('administered', 0.047058823529411764), ('resulted', 0.04607843137254902), ('ethosuximide', 0.04019607843137255), ('When', 0.03823529411764706), ('reported', 0.03431372549019608), ('shown', 0.03333333333333333), ('decrease', 0.03235294117647059), ('resulting', 0.030392156862745098), ('result', 0.030392156862745098), ('respectively', 0.028431372549019607), ('induce', 0.028431372549019607), ('significantly', 0.025490196078431372), ('given', 0.024509803921568627)]\n",
      "\n",
      " --Words in sentence--\n",
      "[('plasma', 0.3431372549019608), ('may', 0.32450980392156864), ('increase', 0.2647058823529412), ('levels', 0.2411764705882353), ('concentrations', 0.18529411764705883), ('inhibitors', 0.16862745098039217), ('phenytoin', 0.14901960784313725), ('increased', 0.14901960784313725), ('decreased', 0.14411764705882352), ('AUC', 0.14215686274509803), ('mg', 0.13823529411764707), ('oral', 0.13627450980392156), ('drugs', 0.13431372549019607), ('metabolism', 0.1264705882352941), ('administration', 0.12352941176470589), ('decrease', 0.11862745098039215), ('itraconazole', 0.11372549019607843), ('CYP3A4', 0.11176470588235295), ('ketoconazole', 0.10980392156862745), ('cimetidine', 0.10686274509803921)]\n",
      "---------------------------------------------------------------------------------------------\n",
      "\n",
      "231\n",
      "Interaction:  int\n",
      "---Clue_words---\n",
      "[('may', 0.5497835497835498), ('interact', 0.5064935064935064), ('include', 0.10822510822510822), ('classified', 0.06060606060606061), ('decrease', 0.047619047619047616), ('including', 0.04329004329004329), ('following', 0.03463203463203463), ('lower', 0.025974025974025976), ('increased', 0.021645021645021644), ('-containing', 0.021645021645021644), ('administered', 0.017316017316017316), ('cause', 0.017316017316017316), ('coadministered', 0.012987012987012988), ('procainamide', 0.012987012987012988), ('inhibit', 0.008658008658008658), ('concurrently', 0.008658008658008658), ('interfere', 0.008658008658008658), ('pharmacologically', 0.008658008658008658), ('orally', 0.008658008658008658), ('blocking', 0.004329004329004329)]\n",
      "\n",
      " ---Outside e1-e2 interval---\n",
      "[('may', 0.47619047619047616), ('enhance', 0.12987012987012986), ('blocking', 0.12987012987012986), ('classified', 0.12987012987012986), ('nondepolarizing', 0.08225108225108226), ('affect', 0.07792207792207792), ('cause', 0.07792207792207792), ('suggest', 0.0735930735930736), ('reported', 0.06060606060606061), ('decrease', 0.06060606060606061), ('give', 0.06060606060606061), ('involving', 0.047619047619047616), ('demonstrated', 0.04329004329004329), ('metabolized', 0.04329004329004329), ('similarly', 0.04329004329004329), ('procainamide', 0.04329004329004329), ('increase', 0.03896103896103896), ('interfere', 0.03896103896103896), ('-containing', 0.03896103896103896), ('result', 0.03463203463203463)]\n",
      "\n",
      " --Words in sentence--\n",
      "[('may', 1.0173160173160174), ('e.g.', 0.7965367965367965), ('drugs', 0.5757575757575758), ('interact', 0.5324675324675324), ('antibiotics', 0.36363636363636365), ('inhibitors', 0.3463203463203463), ('medications', 0.3463203463203463), ('following', 0.31601731601731603), ('cyclosporine', 0.2813852813852814), ('acetaminophen', 0.2510822510822511), ('Tylenol', 0.2510822510822511), ('medicines', 0.24675324675324675), ('quinidine', 0.24242424242424243), ('supplements', 0.22943722943722944), ('theophylline', 0.22077922077922077), ('vitamin', 0.19913419913419914), ('anticonvulsants', 0.19480519480519481), ('rifampin', 0.19480519480519481), ('Etonogestrel', 0.19047619047619047), ('ampicillin', 0.19047619047619047)]\n",
      "---------------------------------------------------------------------------------------------\n",
      "\n",
      "697\n",
      "Interaction:  advise\n",
      "---Clue_words---\n",
      "[('administered', 0.11764705882352941), ('used', 0.0746054519368723), ('concomitantly', 0.04878048780487805), ('receiving', 0.04878048780487805), ('metabolized', 0.04447632711621234), ('including', 0.04447632711621234), ('coadministered', 0.03730272596843615), ('may', 0.03443328550932568), ('taken', 0.03299856527977044), ('concurrently', 0.03012912482065997), ('taking', 0.02582496413199426), ('recommended', 0.021520803443328552), ('known', 0.018651362984218076), ('monitored', 0.018651362984218076), ('tell', 0.01721664275466284), ('containing', 0.015781922525107604), ('given', 0.014347202295552367), ('reduced', 0.01291248206599713), ('must', 0.011477761836441894), ('chewable/buffered', 0.011477761836441894)]\n",
      "\n",
      " ---Outside e1-e2 interval---\n",
      "[('may', 0.12195121951219512), ('Therefore', 0.10903873744619799), ('used', 0.10329985652797705), ('recommended', 0.08751793400286945), ('receiving', 0.0746054519368723), ('taking', 0.07173601147776183), ('monitored', 0.06169296987087518), ('approached', 0.06169296987087518), ('administered', 0.058823529411764705), ('concomitantly', 0.05164992826398852), ('considered', 0.04447632711621234), ('avoided', 0.043041606886657105), ('advised', 0.04160688665710186), ('known', 0.040172166427546625), ('administering', 0.03873744619799139), ('taken', 0.03730272596843615), ('concurrently', 0.03730272596843615), ('metabolized', 0.035868005738880916), ('including', 0.035868005738880916), ('observed', 0.035868005738880916)]\n",
      "\n",
      " --Words in sentence--\n",
      "[('patients', 0.22381635581061693), ('e.g.', 0.21233859397417504), ('drugs', 0.20803443328550933), ('inhibitors', 0.1836441893830703), ('used', 0.17790530846484937), ('administered', 0.17360114777618366), ('caution', 0.17073170731707318), ('dose', 0.1649928263988522), ('may', 0.15208034433285508), ('ketoconazole', 0.1492109038737446), ('receiving', 0.12195121951219512), ('CYP3A4', 0.12051649928263988), ('agents', 0.11477761836441894), ('antidepressants', 0.11047345767575323), ('Therefore', 0.10903873744619799), ('recommended', 0.10760401721664276), ('therapy', 0.10473457675753228), ('concomitantly', 0.10043041606886657), ('concomitant', 0.0975609756097561), ('itraconazole', 0.09469153515064563)]\n",
      "---------------------------------------------------------------------------------------------\n",
      "\n"
     ]
    }
   ],
   "source": [
    "for i in ['effect', 'mechanism', 'int', 'advise']:\n",
    "    print(word_dict[i]['num_interactions'])\n",
    "    word_dict[i]['clue_words'] = [(word, c/word_dict[i]['num_interactions']) for word, c in word_dict[i]['clue_words'].items()]\n",
    "    word_dict[i]['outside_words']= [(word, c/word_dict[i]['num_interactions']) for word, c in word_dict[i]['outside_words'].items()]\n",
    "    word_dict[i]['sentence_words'] = [(word, c/word_dict[i]['num_interactions']) for word, c in word_dict[i]['sentence_words'].items()]\n",
    "\n",
    "    print(\"Interaction: \", i)\n",
    "    print(\"---Clue_words---\")\n",
    "    print(sorted(word_dict[i]['clue_words'], key=lambda item: item[1], reverse=True)[0:20])\n",
    "    print(\"\\n ---Outside e1-e2 interval---\")\n",
    "    print(sorted(word_dict[i]['outside_words'], key=lambda item: item[1], reverse=True)[0:20])\n",
    "    print(\"\\n --Words in sentence--\")\n",
    "    print(sorted(word_dict[i]['sentence_words'], key=lambda item: item[1], reverse=True)[0:20])\n",
    "    print('---------------------------------------------------------------------------------------------\\n')\n",
    "    \n"
   ]
  },
  {
   "cell_type": "markdown",
   "id": "0d3d894a",
   "metadata": {},
   "source": [
    "# position in tree"
   ]
  },
  {
   "cell_type": "code",
   "execution_count": 16,
   "id": "bafa1c7f",
   "metadata": {},
   "outputs": [],
   "source": [
    "positions_word_dict = {'effect': \n",
    "                    {'e1_under_e2':0,\n",
    "                     'e2_under_e1':0,\n",
    "                     'under_same_word':0,\n",
    "                     'under_same_verb': 0,\n",
    "                     'num_interactions': 0\n",
    "                    },\n",
    "                 'mechanism':\n",
    "                    {'e1_under_e2':0,\n",
    "                     'e2_under_e1':0,\n",
    "                     'under_same_word':0,\n",
    "                     'under_same_verb': 0,\n",
    "                     'num_interactions': 0\n",
    "                    },\n",
    "                 'int':\n",
    "                    {'e1_under_e2':0,\n",
    "                     'e2_under_e1':0,\n",
    "                     'under_same_word':0,\n",
    "                     'under_same_verb': 0,\n",
    "                     'num_interactions': 0\n",
    "                    },\n",
    "                 'advise':\n",
    "                    {'e1_under_e2':0,\n",
    "                     'e2_under_e1':0,\n",
    "                     'under_same_word':0,\n",
    "                     'under_same_verb': 0,\n",
    "                     'num_interactions': 0\n",
    "                    },\n",
    "                }\n",
    "\n",
    "for i, pair_list in enumerate(pairs):\n",
    "    analysis = analyses[i]\n",
    "    for pair in pair_list:\n",
    "        interaction = pair['interaction']      \n",
    "    \n",
    "        if interaction in ['effect', 'mechanism','int','advise']:\n",
    "            dict_add_one(positions_word_dict[interaction], 'num_interactions')\n",
    "            if pair['e1_under_e2']:\n",
    "                dict_add_one(positions_word_dict[interaction], 'e1_under_e2')\n",
    "            if pair['e2_under_e1']:\n",
    "                dict_add_one(positions_word_dict[interaction], 'e2_under_e1')  \n",
    "            if pair['under_same_word']:\n",
    "                dict_add_one(positions_word_dict[interaction], 'under_same_word')  \n",
    "            if pair['under_same_verb']:\n",
    "                dict_add_one(positions_word_dict[interaction], 'under_same_verb')  \n",
    "            \n",
    "        \n",
    "    \n",
    "    #break"
   ]
  },
  {
   "cell_type": "code",
   "execution_count": 17,
   "id": "f8bcc6bf",
   "metadata": {},
   "outputs": [
    {
     "name": "stdout",
     "output_type": "stream",
     "text": [
      "Interaction:  effect\n",
      "e1_under_e2\t5\t0.0034482758620689655\n",
      "e2_under_e1\t72\t0.0496551724137931\n",
      "under_same_word\t123\t0.08482758620689655\n",
      "under_same_verb\t33\t0.022758620689655173\n",
      "--------------------------\n",
      "\n",
      "Interaction:  mechanism\n",
      "e1_under_e2\t1\t0.000980392156862745\n",
      "e2_under_e1\t36\t0.03529411764705882\n",
      "under_same_word\t139\t0.13627450980392156\n",
      "under_same_verb\t24\t0.023529411764705882\n",
      "--------------------------\n",
      "\n",
      "Interaction:  int\n",
      "e1_under_e2\t0\t0.0\n",
      "e2_under_e1\t12\t0.05194805194805195\n",
      "under_same_word\t28\t0.12121212121212122\n",
      "under_same_verb\t10\t0.04329004329004329\n",
      "--------------------------\n",
      "\n",
      "Interaction:  advise\n",
      "e1_under_e2\t3\t0.00430416068866571\n",
      "e2_under_e1\t54\t0.07747489239598278\n",
      "under_same_word\t89\t0.12769010043041606\n",
      "under_same_verb\t45\t0.06456241032998565\n",
      "--------------------------\n",
      "\n"
     ]
    }
   ],
   "source": [
    "for i in ['effect', 'mechanism','int','advise']:\n",
    "    print(\"Interaction: \", i)\n",
    "    for key, value in positions_word_dict[i].items():\n",
    "        if key != 'num_interactions':\n",
    "            print(f'{key}\\t{value}\\t{value/positions_word_dict[i][\"num_interactions\"]}')\n",
    "    print('--------------------------\\n')"
   ]
  },
  {
   "cell_type": "markdown",
   "id": "aca6fb7d",
   "metadata": {},
   "source": [
    "suggested rules:\n",
    "\n",
    "if under_same_word then mechanism or int?\n",
    "\n",
    "if e1 under e2 then effect?"
   ]
  },
  {
   "cell_type": "code",
   "execution_count": 22,
   "id": "0b74427c",
   "metadata": {},
   "outputs": [],
   "source": [
    "word_dict = {'effect': \n",
    "                    {'head_e1':{},\n",
    "                     'head_e2':{},\n",
    "                     'heads_e1_e2': {},\n",
    "                     'num_interactions': 0\n",
    "                    },\n",
    "                 'mechanism':\n",
    "                    {'head_e1':{},\n",
    "                     'head_e2':{},\n",
    "                     'heads_e1_e2': {},\n",
    "                     'num_interactions': 0\n",
    "                    },\n",
    "                 'int':\n",
    "                    {'head_e1':{},\n",
    "                     'head_e2':{},\n",
    "                     'heads_e1_e2': {},\n",
    "                     'num_interactions': 0\n",
    "                    },\n",
    "                 'advise':\n",
    "                    {'head_e1':{},\n",
    "                     'head_e2':{},\n",
    "                     'heads_e1_e2': {},\n",
    "                     'num_interactions': 0\n",
    "                    },\n",
    "                }\n",
    "import nltk\n",
    "# verb_tags = ['VB', 'VBD', 'VBG','VBN', 'VBP', 'VBZ', 'MD', 'RB', 'RBR', 'RBS', 'WRB'] #verbs and adverbs\n",
    "def get_verb_tokens(sentence_text):\n",
    "    #filters tokens by verb\n",
    "    tokens = word_tokenize(sentence_text)\n",
    "    return [word for word, tag in nltk.pos_tag(tokens) if tag in verb_tags]\n",
    "\n",
    "    \n",
    "\n",
    "# Code should need improvement, there are pairs that throw error \n",
    "# Filtering words by verb should be better\n",
    "for i, pair_list in enumerate(pairs):\n",
    "    analysis = analyses[i]\n",
    "    for pair in pair_list:\n",
    "        start_e1, end_e1, start_e2, end_e2 = get_positions(analysis, entities, pair['e1'], pair['e2'])\n",
    "        sid = pair['sid']\n",
    "        interaction = pair['interaction']\n",
    "        sentence = dict_sentences[sid]\n",
    "    \n",
    "        if interaction in ['effect', 'mechanism','int','advise']:\n",
    "            dict_add_one(word_dict[interaction], 'num_interactions')\n",
    "            dict_add_one(word_dict[interaction]['head_e1'], pair['head_e1'])\n",
    "            dict_add_one(word_dict[interaction]['head_e2'], pair['head_e2'])\n",
    "            dict_add_one(word_dict[interaction]['heads_e1_e2'], (pair['head_e1'], pair['head_e2']))\n",
    "    \n",
    "    #break"
   ]
  },
  {
   "cell_type": "code",
   "execution_count": 23,
   "id": "a1fd9db4",
   "metadata": {},
   "outputs": [
    {
     "name": "stdout",
     "output_type": "stream",
     "text": [
      "Interaction:  effect\n",
      "---head e1---\n",
      "[('use', 110), ('response', 83), ('effect', 80), ('action', 65), ('administration', 60), ('agent', 46), ('enhance', 41), ('patient', 38), ('inhibitor', 30), (None, 23), ('increase', 23), ('decrease', 21), ('receive', 21), ('drug', 20), ('injection', 17), ('reduce', 17), ('report', 15), ('administer', 15), ('hydrochloride', 14), ('study', 14)]\n",
      "\n",
      " ---head e2 ---\n",
      "[('effect', 150), ('alcohol', 61), ('patient', 51), ('action', 30), ('use', 30), ('man', 28), ('drug', 25), ('combination', 25), ('inhibitor', 24), ('g.', 24), ('agent', 23), ('activity', 21), ('analgesic', 20), ('potentiate', 19), ('antibiotic', 17), ('antidepressant', 16), ('hypnotic', 16), ('induce', 15), ('administration', 15), ('steroid', 15)]\n",
      "\n",
      " ---both heads ---\n",
      "[(('response', 'man'), 28), (('response', 'alcohol'), 28), (('agent', 'g.'), 16), (('use', 'use'), 15), (('response', 'steroid'), 15), (('enhance', 'effect'), 14), (('patient', 'patient'), 12), (('impair', 'anticoagulant'), 10), (('action', 'potentiate'), 9), (('action', 'bind'), 8), (('action', 'g.'), 8), (('enhance', 'alcohol'), 7), (('decrease', 'effect'), 7), (('reduce', 'effect'), 7), (('give', 'give'), 6), (('inhibitor', 'effect'), 6), (('administration', 'administration'), 6), (('use', 'hypnotic'), 6), (('fluoxetine', 'coadminister'), 6), (('Butalbital', 'analgesic'), 6)]\n",
      "---------------------------------------------------------------------------------------------\n",
      "\n",
      "Interaction:  mechanism\n",
      "---head e1---\n",
      "[('administration', 62), ('level', 59), ('concentration', 53), ('presence', 46), ('increase', 40), ('dose', 34), (None, 34), ('use', 31), ('inhibit', 28), ('study', 23), ('Coadministration', 23), ('decrease', 22), ('absorption', 17), ('co-administration', 17), ('interfere', 16), ('administer', 15), ('resin', 13), ('phenytoin', 13), ('report', 12), ('agent', 12)]\n",
      "\n",
      " ---head e2 ---\n",
      "[('metabolism', 46), ('concentration', 40), ('clearance', 37), ('level', 30), ('absorption', 25), ('administration', 25), ('dose', 24), ('increase', 24), ('Acetaminophen', 22), ('effect', 21), ('decrease', 20), ('study', 20), ('intake', 20), ('presence', 19), ('Acetazolamide', 19), ('auc', 13), ('eg', 13), ('co-administration', 12), ('excretion', 11), ('administer', 11)]\n",
      "\n",
      " ---both heads ---\n",
      "[(('presence', 'Acetaminophen'), 22), (('concentration', 'intake'), 20), (('level', 'Acetazolamide'), 19), (('dose', 'dose'), 16), (('presence', 'presence'), 15), (('use', 'eg'), 11), (('study', 'study'), 10), (('Coadministration', 'Coadministration'), 9), (('administration', 'administration'), 9), (('inhibit', 'metabolism'), 8), ((None, 'acetaminophen'), 8), (('decrease', 'clearance'), 7), (('increase', 'auc'), 6), (('increase', 'concentration'), 6), (('dose', 'effect'), 6), (('level', 'cisplatin'), 6), (('interaction', 'digoxin'), 5), (('level', 'level'), 5), (('level', 'increase'), 5), ((None, 'metabolism'), 5)]\n",
      "---------------------------------------------------------------------------------------------\n",
      "\n",
      "Interaction:  int\n",
      "---head e1---\n",
      "[('interact', 114), ('interaction', 16), ('action', 14), ('agent', 14), ('administration', 11), ('study', 8), ('decrease', 7), ('similarly', 5), ('other', 5), ('supplement', 4), ('b1', 4), ('have', 3), ('tca', 2), ('Interaction', 2), ('inhibitor', 2), (None, 2), ('mesylate', 2), ('hydrate', 2), ('hcl', 2), ('function', 1)]\n",
      "\n",
      " ---head e2 ---\n",
      "[('interact', 17), ('aminoglycoside', 14), ('interaction', 13), ('antibiotic', 13), ('study', 12), ('cyclosporine', 10), ('ampicillin', 10), ('antidepressant', 9), ('such', 6), ('acetaminophen', 6), ('Diuretics', 6), ('depressant', 5), ('Dilantin', 5), ('phenelzine', 5), ('inhibitor', 4), ('alcohol', 4), ('PEG', 4), ('agenerase', 4), ('aspirin', 3), ('include', 2)]\n",
      "\n",
      " ---both heads ---\n",
      "[(('interact', 'ampicillin'), 10), (('interact', 'interact'), 9), (('administration', 'cyclosporine'), 9), (('action', 'aminoglycoside'), 7), (('agent', 'aminoglycoside'), 7), (('interact', 'antidepressant'), 7), (('interact', 'acetaminophen'), 6), (('study', 'study'), 6), (('interact', 'depressant'), 5), (('interact', 'Dilantin'), 5), (('interact', 'such'), 5), (('interaction', 'interaction'), 5), (('interact', 'phenelzine'), 5), (('interact', 'alcohol'), 4), (('action', 'antibiotic'), 4), (('agent', 'antibiotic'), 4), (('decrease', 'antibiotic'), 4), (('interact', 'PEG'), 4), (('interact', 'agenerase'), 4), (('other', 'study'), 4)]\n",
      "---------------------------------------------------------------------------------------------\n",
      "\n",
      "Interaction:  advise\n",
      "---head e1---\n",
      "[('administer', 81), ('use', 70), ('co-administration', 40), ('administration', 39), ('dose', 21), ('take', 17), ('coadminister', 16), ('treatment', 13), ('tell', 12), ('therapy', 12), ('auc0', 11), ('patient', 10), ('inhibitor', 10), ('Coadministration', 10), ('receive', 9), (None, 9), ('index', 9), ('basis', 9), ('avoid', 8), ('tablet', 8)]\n",
      "\n",
      " ---head e2 ---\n",
      "[('patient', 40), ('administer', 35), ('dose', 26), ('use', 24), ('receive', 21), ('ketoconazole', 19), ('inhibitor', 16), ('antidepressant', 16), ('therapy', 16), ('drug', 15), ('combination', 13), ('administration', 12), ('take', 10), ('treatment', 10), ('effect', 9), ('medication', 9), ('hour', 9), (',', 8), ('give', 8), ('basis', 8)]\n",
      "\n",
      " ---both heads ---\n",
      "[(('administer', 'administer'), 24), (('use', 'use'), 11), (('index', 'receive'), 9), (('administer', ','), 8), (('co-administration', 'antidepressant'), 8), (('co-administration', 'index'), 8), (('auc0', 'inhibitor'), 7), (('use', 'patient'), 6), (('ketoconazole', 'dose'), 6), (('basis', 'basis'), 6), (('administration', 'ketoconazole'), 6), (('tell', 'aspirin'), 5), (('use', 'combination'), 5), (('treatment', 'fluoxetine'), 5), (('dose', 'dose'), 5), (('coadminister', 'clofibrate'), 5), (('eg', 'patient'), 5), (('co-administration', 'nortriptyline'), 5), (('patient', 'patient'), 4), (('titrate', 'study'), 4)]\n",
      "---------------------------------------------------------------------------------------------\n",
      "\n"
     ]
    }
   ],
   "source": [
    "for i in ['effect', 'mechanism', 'int', 'advise']:\n",
    "    print(\"Interaction: \", i)\n",
    "    print(\"---head e1---\")\n",
    "    print(sorted(word_dict[i]['head_e1'].items(), key=lambda item: item[1], reverse=True)[0:20])\n",
    "    print(\"\\n ---head e2 ---\")\n",
    "    print(sorted(word_dict[i]['head_e2'].items(), key=lambda item: item[1], reverse=True)[0:20])\n",
    "    print(\"\\n ---both heads ---\")\n",
    "    print(sorted(word_dict[i]['heads_e1_e2'].items(), key=lambda item: item[1], reverse=True)[0:20])\n",
    "    print('---------------------------------------------------------------------------------------------\\n')"
   ]
  },
  {
   "cell_type": "code",
   "execution_count": null,
   "id": "635a204b",
   "metadata": {},
   "outputs": [],
   "source": []
  },
  {
   "cell_type": "markdown",
   "id": "859b9831",
   "metadata": {},
   "source": [
    "### Suggested rules:\n",
    "\n",
    "if (head_e1 == 'response' and head_e2 in ('man', 'alcohol', 'steroid)) then effect\n",
    "\n",
    "id head_e1 == 'administer' and head_e2 == administer then advise\n",
    "\n",
    "if head_e1 is None, then 'effect' or 'mechanism'?\n",
    "\n",
    "if head_e1 in 'response', 'effect', 'enhance', then 'effect'\n",
    "\n",
    "if head_e1 in 'concentration', 'presence', 'dose', 'absorption', 'interfere' then 'mechanism'\n",
    "\n",
    "if head_e1 in 'interact', 'interaction', 'action', 'agent', then 'int'\n",
    "    \n",
    "if head_e1 in co-administration, take, 'coadminister', 'treatment', 'tell', 'therapy' then advise\n",
    "\n",
    "if head_e2 in 'effect',  'alcohol', 'action', 'use', 'combination', 'inhibitor' then 'effect'\n",
    "\n",
    "if head_e2 in 'metabolism', 'concentration', 'clearance;, 'level', 'absorption', 'dose', then 'mechanism'\n",
    "\n",
    "if head_e2 in 'interact', 'interaction', then 'int'\n",
    "\n",
    "if head_e2 in 'administer' then advise"
   ]
  },
  {
   "cell_type": "markdown",
   "id": "fc6af282",
   "metadata": {},
   "source": [
    "# trying things"
   ]
  },
  {
   "cell_type": "code",
   "execution_count": 56,
   "id": "5dc04c95",
   "metadata": {},
   "outputs": [
    {
     "data": {
      "text/html": [
       "<div>\n",
       "<style scoped>\n",
       "    .dataframe tbody tr th:only-of-type {\n",
       "        vertical-align: middle;\n",
       "    }\n",
       "\n",
       "    .dataframe tbody tr th {\n",
       "        vertical-align: top;\n",
       "    }\n",
       "\n",
       "    .dataframe thead th {\n",
       "        text-align: right;\n",
       "    }\n",
       "</style>\n",
       "<table border=\"1\" class=\"dataframe\">\n",
       "  <thead>\n",
       "    <tr style=\"text-align: right;\">\n",
       "      <th></th>\n",
       "    </tr>\n",
       "  </thead>\n",
       "  <tbody>\n",
       "  </tbody>\n",
       "</table>\n",
       "</div>"
      ],
      "text/plain": [
       "Empty DataFrame\n",
       "Columns: []\n",
       "Index: []"
      ]
     },
     "execution_count": 56,
     "metadata": {},
     "output_type": "execute_result"
    }
   ],
   "source": [
    "df = pd.DataFrame(_pairs)\n",
    "df.head(10)"
   ]
  },
  {
   "cell_type": "code",
   "execution_count": 8,
   "id": "6cc73370",
   "metadata": {},
   "outputs": [
    {
     "data": {
      "text/html": [
       "<div>\n",
       "<style scoped>\n",
       "    .dataframe tbody tr th:only-of-type {\n",
       "        vertical-align: middle;\n",
       "    }\n",
       "\n",
       "    .dataframe tbody tr th {\n",
       "        vertical-align: top;\n",
       "    }\n",
       "\n",
       "    .dataframe thead th {\n",
       "        text-align: right;\n",
       "    }\n",
       "</style>\n",
       "<table border=\"1\" class=\"dataframe\">\n",
       "  <thead>\n",
       "    <tr style=\"text-align: right;\">\n",
       "      <th></th>\n",
       "      <th>e1</th>\n",
       "    </tr>\n",
       "    <tr>\n",
       "      <th>interaction</th>\n",
       "      <th></th>\n",
       "    </tr>\n",
       "  </thead>\n",
       "  <tbody>\n",
       "    <tr>\n",
       "      <th>advise</th>\n",
       "      <td>697</td>\n",
       "    </tr>\n",
       "    <tr>\n",
       "      <th>effect</th>\n",
       "      <td>1450</td>\n",
       "    </tr>\n",
       "    <tr>\n",
       "      <th>int</th>\n",
       "      <td>231</td>\n",
       "    </tr>\n",
       "    <tr>\n",
       "      <th>mechanism</th>\n",
       "      <td>1020</td>\n",
       "    </tr>\n",
       "  </tbody>\n",
       "</table>\n",
       "</div>"
      ],
      "text/plain": [
       "               e1\n",
       "interaction      \n",
       "advise        697\n",
       "effect       1450\n",
       "int           231\n",
       "mechanism    1020"
      ]
     },
     "execution_count": 8,
     "metadata": {},
     "output_type": "execute_result"
    }
   ],
   "source": [
    "\n",
    "\n",
    "interaction_counts = pd.DataFrame(df.groupby('interaction').count()['e1'])\n",
    "interaction_counts"
   ]
  },
  {
   "cell_type": "code",
   "execution_count": 9,
   "id": "24001410",
   "metadata": {},
   "outputs": [
    {
     "data": {
      "text/plain": [
       "Text(0.5, 0, '')"
      ]
     },
     "execution_count": 9,
     "metadata": {},
     "output_type": "execute_result"
    },
    {
     "data": {
      "image/png": "[encoded data removed]",
      "text/plain": [
       "<Figure size 576x360 with 1 Axes>"
      ]
     },
     "metadata": {
      "needs_background": "light"
     },
     "output_type": "display_data"
    }
   ],
   "source": [
    "ax = interaction_counts.plot.bar(figsize = (8,5), rot=0, legend = False)\n",
    "ax.set_xlabel(\"\")"
   ]
  },
  {
   "cell_type": "code",
   "execution_count": 24,
   "id": "b660300a",
   "metadata": {},
   "outputs": [],
   "source": [
    "df_advise = df.loc[df['interaction']=='advise']\n",
    "df_effect = df.loc[df['interaction']=='effect']\n",
    "df_int = df.loc[df['interaction']=='int']\n",
    "df_mechanism = df.loc[df['interaction']=='mechanism']\n",
    "\n"
   ]
  },
  {
   "cell_type": "code",
   "execution_count": 45,
   "id": "bf0f2022",
   "metadata": {},
   "outputs": [
    {
     "name": "stdout",
     "output_type": "stream",
     "text": [
      "              Count\n",
      "bupropion        16\n",
      "TARCEVA          14\n",
      "glimepiride      12\n",
      "Duloxetine       11\n",
      "NSAIDs           11\n",
      "paricalcitol     11\n",
      "ZEBETA           10\n",
      "alosetron         9\n",
      "VISTIDE           9\n",
      "BREVIBLOC         8\n",
      "                           Count\n",
      "SPRYCEL                       18\n",
      "ketoconazole                  17\n",
      "warfarin                      13\n",
      "tricyclic antidepressants     12\n",
      "itraconazole                   9\n",
      "DETROL LA                      9\n",
      "FACTIVE                        9\n",
      "Aprepitant                     8\n",
      "Levo-Dromoran                  7\n",
      "lithium                        7\n",
      "                           Count\n",
      "ketoconazole                  23\n",
      "tricyclic antidepressants     20\n",
      "SPRYCEL                       19\n",
      "bupropion                     16\n",
      "Aprepitant                    16\n",
      "warfarin                      16\n",
      "NSAIDs                        14\n",
      "TARCEVA                       14\n",
      "glimepiride                   12\n",
      "sumatriptan                   12\n"
     ]
    }
   ],
   "source": [
    "advise_counts_e1 = pd.DataFrame({'Count': df_advise['e1'].value_counts()})\n",
    "print(advise_counts_e1.head(10))\n",
    "advise_counts_e2 = pd.DataFrame({'Count': df_advise['e2'].value_counts()})\n",
    "print(advise_counts_e2.head(10))\n",
    "\n",
    "advise_counts = pd.concat([advise_counts_e1, advise_counts_e2])\n",
    "advise_counts = advise_counts.groupby(advise_counts.index).sum().sort_values(by=\"Count\", ascending=False)\n",
    "print(advise_counts.head(10))"
   ]
  },
  {
   "cell_type": "code",
   "execution_count": 44,
   "id": "bc13d55d",
   "metadata": {},
   "outputs": [
    {
     "name": "stdout",
     "output_type": "stream",
     "text": [
      "                           Count\n",
      "anticoagulant                 79\n",
      "benzodiazepines               24\n",
      "phenytoin                     20\n",
      "sulfonylureas                 18\n",
      "NIMBEX                        16\n",
      "NUROMAX                       16\n",
      "NSAIDs                        15\n",
      "nondepolarizing agents        15\n",
      "tricyclic antidepressants     14\n",
      "Levo-Dromoran                 12\n",
      "                              Count\n",
      "alcohol                          38\n",
      "warfarin                         28\n",
      "barbiturates                     21\n",
      "anticoagulants                   19\n",
      "insulin                          16\n",
      "antihistamines                   16\n",
      "tricyclic antidepressants        16\n",
      "morphine                         16\n",
      "monoamine oxidase inhibitors     15\n",
      "CNS depressants                  14\n",
      "                              Count\n",
      "anticoagulant                    80\n",
      "alcohol                          44\n",
      "warfarin                         32\n",
      "tricyclic antidepressants        30\n",
      "benzodiazepines                  30\n",
      "phenytoin                        30\n",
      "NIMBEX                           26\n",
      "barbiturates                     25\n",
      "antihistamines                   24\n",
      "monoamine oxidase inhibitors     24\n"
     ]
    }
   ],
   "source": [
    "effect_counts_e1 = pd.DataFrame({'Count': df_effect['e1'].value_counts()})\n",
    "effect_counts_e2 = pd.DataFrame({'Count': df_effect['e2'].value_counts()})\n",
    "print(effect_counts_e1.head(10))\n",
    "print(effect_counts_e2.head(10))\n",
    "effect_counts = pd.concat([effect_counts_e1, effect_counts_e2])\n",
    "effect_counts = effect_counts.groupby(effect_counts.index).sum().sort_values(by=\"Count\", ascending=False)\n",
    "print(effect_counts.head(10))"
   ]
  },
  {
   "cell_type": "code",
   "execution_count": 41,
   "id": "4188615d",
   "metadata": {},
   "outputs": [
    {
     "name": "stdout",
     "output_type": "stream",
     "text": [
      "                Count\n",
      "EQUETROTM          83\n",
      "phenytoin          47\n",
      "ketoconazole       21\n",
      "Probenecid         19\n",
      "Cholestyramine     18\n",
      "rifampin           17\n",
      "Aprepitant         16\n",
      "cimetidine         16\n",
      "azithromycin       15\n",
      "phenobarbital      12\n",
      "                 Count\n",
      "phenytoin           31\n",
      "ketoconazole        22\n",
      "midazolam           19\n",
      "corticosteroids     19\n",
      "cimetidine          17\n",
      "digoxin             16\n",
      "warfarin            15\n",
      "theophylline        14\n",
      "methotrexate        13\n",
      "phenobarbital       12\n",
      "               Count\n",
      "EQUETROTM         83\n",
      "phenytoin         78\n",
      "ketoconazole      43\n",
      "cimetidine        33\n",
      "rifampin          25\n",
      "phenobarbital     24\n",
      "digoxin           23\n",
      "carbamazepine     22\n",
      "midazolam         22\n",
      "theophylline      19\n"
     ]
    }
   ],
   "source": [
    "mechanism_counts_e1 = pd.DataFrame({'Count': df_mechanism['e1'].value_counts()})\n",
    "mechanism_counts_e2 = pd.DataFrame({'Count': df_mechanism['e2'].value_counts()})\n",
    "print(mechanism_counts_e1.head(10))\n",
    "print(mechanism_counts_e2.head(10))\n",
    "mechanism_counts = pd.concat([mechanism_counts_e1, mechanism_counts_e2])\n",
    "mechanism_counts = mechanism_counts.groupby(mechanism_counts.index).sum().sort_values(by=\"Count\", ascending=False)\n",
    "print(mechanism_counts.head(10))"
   ]
  },
  {
   "cell_type": "code",
   "execution_count": 43,
   "id": "ce81c156",
   "metadata": {},
   "outputs": [
    {
     "name": "stdout",
     "output_type": "stream",
     "text": [
      "                        Count\n",
      "Etonogestrel               44\n",
      "Methscopolamine            21\n",
      "nondepolarizing agents     14\n",
      "MIVACRON                   14\n",
      "Bentiromide                14\n",
      "alprazolam                 12\n",
      "erythromycin               11\n",
      "Benzthiazide                8\n",
      "Melatonin                   8\n",
      "Barbiturates                7\n",
      "                Count\n",
      "cyclosporine        5\n",
      "MAO inhibitors      4\n",
      "TCA                 4\n",
      "antibiotics         4\n",
      "quinidine           4\n",
      "procainamide        3\n",
      "alcohol             3\n",
      "NSAIDs              3\n",
      "anesthetics         3\n",
      "lithium             3\n",
      "                        Count\n",
      "Etonogestrel               44\n",
      "Methscopolamine            21\n",
      "nondepolarizing agents     14\n",
      "Bentiromide                14\n",
      "MIVACRON                   14\n",
      "alprazolam                 13\n",
      "erythromycin               12\n",
      "Benzthiazide                8\n",
      "Melatonin                   8\n",
      "Barbiturates                7\n"
     ]
    }
   ],
   "source": [
    "int_counts_e1 = pd.DataFrame({'Count': df_int['e1'].value_counts()})\n",
    "int_counts_e2 = pd.DataFrame({'Count': df_int['e2'].value_counts()})\n",
    "\n",
    "print(int_counts_e1.head(10))\n",
    "print(int_counts_e2.head(10))\n",
    "\n",
    "int_counts = pd.concat([int_counts_e1, int_counts_e2])\n",
    "int_counts = int_counts.groupby(int_counts.index).sum().sort_values(by=\"Count\", ascending=False)\n",
    "print(int_counts.head(10))"
   ]
  },
  {
   "cell_type": "markdown",
   "id": "de368e3d",
   "metadata": {},
   "source": [
    "##  Checking both entities"
   ]
  },
  {
   "cell_type": "code",
   "execution_count": 50,
   "id": "9fb05e3f",
   "metadata": {},
   "outputs": [
    {
     "data": {
      "text/plain": [
       "Text(0.5, 0, '')"
      ]
     },
     "execution_count": 50,
     "metadata": {},
     "output_type": "execute_result"
    },
    {
     "data": {
      "image/png": "[encoded data removed]",
      "text/plain": [
       "<Figure size 576x360 with 1 Axes>"
      ]
     },
     "metadata": {
      "needs_background": "light"
     },
     "output_type": "display_data"
    }
   ],
   "source": [
    "# one of the entities is uppercase\n",
    "df1 = pd.DataFrame({'lab' : ['int', 'effect', 'mechanism', 'advise'], 'Count' : [int_counts.index.str.isupper().sum()/int_counts.shape[0],\n",
    "                                                                            effect_counts.index.str.isupper().sum()/effect_counts.shape[0],\n",
    "                                                                            mechanism_counts.index.str.isupper().sum()/mechanism_counts.shape[0],\n",
    "                                                                            advise_counts.index.str.isupper().sum()/advise_counts.shape[0]]})\n",
    "\n",
    "ax = df1.plot.bar(x='lab', y = 'Count', figsize = (8,5), rot=0, legend = False)\n",
    "ax.set_xlabel(\"\")"
   ]
  },
  {
   "cell_type": "code",
   "execution_count": 54,
   "id": "6bdcccac",
   "metadata": {},
   "outputs": [
    {
     "data": {
      "text/plain": [
       "Text(0.5, 0, '')"
      ]
     },
     "execution_count": 54,
     "metadata": {},
     "output_type": "execute_result"
    },
    {
     "data": {
      "image/png": "[encoded data removed]",
      "text/plain": [
       "<Figure size 576x360 with 1 Axes>"
      ]
     },
     "metadata": {
      "needs_background": "light"
     },
     "output_type": "display_data"
    }
   ],
   "source": [
    "# one of the entities ends in s\n",
    "df2 = pd.DataFrame({'lab' : ['int', 'effect', 'mechanism', 'advise'], 'Count' : [(int_counts.index.str[-1]=='s').sum()/int_counts.shape[0],\n",
    "                                                                            (effect_counts.index.str[-1] == 's').sum()/effect_counts.shape[0],\n",
    "                                                                            (mechanism_counts.index.str[-1] == 's').sum()/mechanism_counts.shape[0],\n",
    "                                                                            (advise_counts.index.str[-1] == 's').sum()/advise_counts.shape[0]]})\n",
    "\n",
    "ax = df2.plot.bar(x='lab', y = 'Count', figsize = (8,5), rot=0, legend = False)\n",
    "ax.set_xlabel(\"\")"
   ]
  },
  {
   "cell_type": "markdown",
   "id": "0d4d641c",
   "metadata": {},
   "source": [
    "## Checking e1"
   ]
  },
  {
   "cell_type": "code",
   "execution_count": 59,
   "id": "e76f4e19",
   "metadata": {},
   "outputs": [
    {
     "data": {
      "text/plain": [
       "Text(0.5, 0, '')"
      ]
     },
     "execution_count": 59,
     "metadata": {},
     "output_type": "execute_result"
    },
    {
     "data": {
      "image/png": "[encoded data removed]",
      "text/plain": [
       "<Figure size 576x360 with 1 Axes>"
      ]
     },
     "metadata": {
      "needs_background": "light"
     },
     "output_type": "display_data"
    }
   ],
   "source": [
    "# e1 is uppercase\n",
    "df1 = pd.DataFrame({'lab' : ['int', 'effect', 'mechanism', 'advise'], 'Count' : [int_counts_e1.index.str.isupper().sum()/int_counts_e1.shape[0],\n",
    "                                                                            effect_counts_e1.index.str.isupper().sum()/effect_counts_e1.shape[0],\n",
    "                                                                            mechanism_counts_e1.index.str.isupper().sum()/mechanism_counts_e1.shape[0],\n",
    "                                                                            advise_counts_e1.index.str.isupper().sum()/advise_counts_e1.shape[0]]})\n",
    "\n",
    "ax = df1.plot.bar(x='lab', y = 'Count', figsize = (8,5), rot=0, legend = False)\n",
    "ax.set_xlabel(\"\")"
   ]
  },
  {
   "cell_type": "code",
   "execution_count": null,
   "id": "66d5785f",
   "metadata": {},
   "outputs": [],
   "source": []
  },
  {
   "cell_type": "markdown",
   "id": "b5609fc1",
   "metadata": {},
   "source": [
    "## Checking e2"
   ]
  },
  {
   "cell_type": "code",
   "execution_count": 60,
   "id": "267aec34",
   "metadata": {},
   "outputs": [
    {
     "data": {
      "text/plain": [
       "Text(0.5, 0, '')"
      ]
     },
     "execution_count": 60,
     "metadata": {},
     "output_type": "execute_result"
    },
    {
     "data": {
      "image/png": "[encoded data removed]",
      "text/plain": [
       "<Figure size 576x360 with 1 Axes>"
      ]
     },
     "metadata": {
      "needs_background": "light"
     },
     "output_type": "display_data"
    }
   ],
   "source": [
    "# e2 is uppercase\n",
    "df1 = pd.DataFrame({'lab' : ['int', 'effect', 'mechanism', 'advise'], 'Count' : [int_counts_e2.index.str.isupper().sum()/int_counts_e2.shape[0],\n",
    "                                                                            effect_counts_e2.index.str.isupper().sum()/effect_counts_e2.shape[0],\n",
    "                                                                            mechanism_counts_e2.index.str.isupper().sum()/mechanism_counts_e2.shape[0],\n",
    "                                                                            advise_counts_e2.index.str.isupper().sum()/advise_counts_e2.shape[0]]})\n",
    "\n",
    "ax = df1.plot.bar(x='lab', y = 'Count', figsize = (8,5), rot=0, legend = False)\n",
    "ax.set_xlabel(\"\")"
   ]
  }
 ],
 "metadata": {
  "kernelspec": {
   "display_name": "Python 3",
   "language": "python",
   "name": "python3"
  },
  "language_info": {
   "codemirror_mode": {
    "name": "ipython",
    "version": 3
   },
   "file_extension": ".py",
   "mimetype": "text/x-python",
   "name": "python",
   "nbconvert_exporter": "python",
   "pygments_lexer": "ipython3",
   "version": "3.8.5"
  }
 },
 "nbformat": 4,
 "nbformat_minor": 5
}
