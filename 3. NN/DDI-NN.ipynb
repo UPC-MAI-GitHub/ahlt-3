{
 "cells": [
  {
   "cell_type": "markdown",
   "metadata": {},
   "source": [
    "## Neural Network DDI"
   ]
  },
  {
   "cell_type": "code",
   "execution_count": 1,
   "metadata": {},
   "outputs": [],
   "source": [
    "import numpy as np\n",
    "from os import listdir\n",
    "from xml.dom.minidom import parse\n",
    "import matplotlib.pyplot as plt\n",
    "from nltk.tokenize import word_tokenize\n",
    "from nltk.stem import WordNetLemmatizer\n",
    "\n",
    "from tensorflow.keras.optimizers import Adam\n",
    "from tensorflow.keras.preprocessing.text import Tokenizer\n",
    "from tensorflow.keras.utils import to_categorical\n",
    "from tensorflow.keras.preprocessing.sequence import pad_sequences\n",
    "from keras.models import Model, Input\n",
    "from keras.layers import LSTM, Embedding, Dense, TimeDistributed, Dropout, Bidirectional\n",
    "#from keras_contrib.layers import CRF\n",
    "\n",
    "%matplotlib inline"
   ]
  },
  {
   "cell_type": "markdown",
   "metadata": {},
   "source": [
    "## Functions Learner"
   ]
  },
  {
   "cell_type": "markdown",
   "metadata": {},
   "source": [
    "`load_data()`- Use XML parsing and tokenization functions from previous exercises. Adding a PoS tagger or lemmatizer may be useful. \\\n",
    "Masking the target drugs as e.g. `<DRUG1>`, `<DRUG2>`, and the rest as `<DRUG_OTHER>` will help the algorithm generalize and avoid it focusing in the drug names, which are not relevant for the DDI task (and also make it easier for it to spot the target entities)."
   ]
  },
  {
   "cell_type": "code",
   "execution_count": 4,
   "metadata": {},
   "outputs": [],
   "source": [
    "def load_data(datadir):\n",
    "    '''\n",
    "    Task: Load XML files in given directory, tokenize each sentence, and extract\n",
    "    learning examples (tokenized sentence + entity pair).\n",
    "    \n",
    "    Input: \n",
    "        datadir: A directory containing XML files\n",
    "        \n",
    "    Output: A list of classification cases. Each case is a list containing sentenceid, entity1_id, entity2_id,\n",
    "            ground truth relation label, and a list of sentence tokens (each token containing any needed information:\n",
    "            word, lemma, PoS, offsets, etc.\n",
    "    '''\n",
    "    dataset = []\n",
    "    wordnet_lemmatizer = WordNetLemmatizer()\n",
    "\n",
    "    for f in listdir(datadir):\n",
    "        \n",
    "        tree = parse(datadir + \"/\" + f)\n",
    "        sentences = tree.getElementsByTagName(\"sentence\")\n",
    "\n",
    "        for s in sentences: \n",
    "            sid = s.attributes[\"id\"].value   \n",
    "            stext = s.attributes[\"text\"].value\n",
    "            stext = stext.replace(\"-\",\" \")\n",
    "            \n",
    "            ents = {}\n",
    "            entities = s.getElementsByTagName(\"entity\")\n",
    "            for e in entities:\n",
    "                e_id = e.attributes[\"id\"].value\n",
    "                offset = e.attributes[\"charOffset\"].value\n",
    "                name = e.attributes[\"text\"].value\n",
    "                ents[e_id] = name\n",
    "\n",
    "            pairs = s.getElementsByTagName(\"pair\")\n",
    "            for p in pairs:\n",
    "                pair_sent = stext\n",
    "                e1_id = p.attributes['e1'].value\n",
    "                e2_id = p.attributes['e2'].value\n",
    "                if p.attributes['ddi'].value == 'true':\n",
    "                    ddi = p.attributes['type'].value\n",
    "                else:\n",
    "                    ddi = 'null'\n",
    "                \n",
    "                aux = [sid, e1_id, e2_id, ddi]\n",
    "                for key, item in ents.items():\n",
    "                    if key == e1_id:\n",
    "                        drug_1 = item\n",
    "                        pair_sent = pair_sent.replace(drug_1, 'DRUG1')\n",
    "                    elif key == e2_id:\n",
    "                        drug_2 = item\n",
    "                        pair_sent = pair_sent.replace(drug_2, 'DRUG2')\n",
    "                    else:\n",
    "                        other_drug = item\n",
    "                        pair_sent = pair_sent.replace(other_drug, 'DRUGOTHER')\n",
    "        \n",
    "                #punct = [\".\",\",\",\";\",\":\",\"?\",\"!\", \"'\"] # TODO: Remove all kind of puntuation in sentence\n",
    "                tokens = word_tokenize(pair_sent)\n",
    "                aux2 = []\n",
    "                for t in tokens:\n",
    "                    t_l = t.lower()\n",
    "                    lemma = wordnet_lemmatizer.lemmatize(t_l)\n",
    "                    tk = (t, lemma) # TODO: Add PoS Tag and maybe use stemmer instead of lemmatizer\n",
    "                    aux2.append(tk)\n",
    "                aux.append(aux2)\n",
    "                dataset.append(aux)\n",
    "    \n",
    "    return dataset"
   ]
  },
  {
   "cell_type": "code",
   "execution_count": 5,
   "metadata": {},
   "outputs": [
    {
     "name": "stdout",
     "output_type": "stream",
     "text": [
      "['DDI-DrugBank.d234.s2', 'DDI-DrugBank.d234.s2.e0', 'DDI-DrugBank.d234.s2.e1', 'effect', [('Particular', 'particular'), ('caution', 'caution'), ('is', 'is'), ('necessary', 'necessary'), ('when', 'when'), ('using', 'using'), ('DRUG1', 'drug1'), ('in', 'in'), ('cases', 'case'), ('of', 'of'), ('mixed', 'mixed'), ('drug', 'drug'), ('overdosage', 'overdosage'), ('since', 'since'), ('the', 'the'), ('toxic', 'toxic'), ('effects', 'effect'), ('(', '('), ('such', 'such'), ('as', 'a'), ('convulsions', 'convulsion'), ('and', 'and'), ('cardiac', 'cardiac'), ('dysrhythmias', 'dysrhythmias'), (')', ')'), ('of', 'of'), ('other', 'other'), ('drugs', 'drug'), ('taken', 'taken'), ('in', 'in'), ('overdose', 'overdose'), ('(', '('), ('especially', 'especially'), ('DRUG2', 'drug2'), (')', ')'), ('may', 'may'), ('emerge', 'emerge'), ('with', 'with'), ('the', 'the'), ('reversal', 'reversal'), ('of', 'of'), ('the', 'the'), ('DRUGOTHER', 'drugother'), ('effect', 'effect'), ('by', 'by'), ('DRUGOTHER', 'drugother'), ('.', '.')]]\n"
     ]
    }
   ],
   "source": [
    "train_path = '/Users/mponsclo/Desktop/labAHLT/data/train'\n",
    "dataset = load_data(train_path)\n",
    "print(dataset[65])"
   ]
  },
  {
   "cell_type": "code",
   "execution_count": 8,
   "metadata": {},
   "outputs": [],
   "source": [
    "def create_index(dataset, max_length):\n",
    "    '''\n",
    "    Task: Create index dictionaries both for input (words) and output (labels) from given dataset\n",
    "    Input: \n",
    "        dataset: dataset produced by load_data.\n",
    "        max_length: maximum length of a sentence (longer sentences will be cut, shorter ones will be padded).\n",
    "        \n",
    "    Output: A dictionary where each key is an index name (e.g. \"words\", \"labels\"), and the value is a \n",
    "            dictionary mapping each word/label to a number. An entry with the value for maxlen is also stored\n",
    "    Example: \n",
    "        >>> create_indx(traindata)\n",
    "        {'words': {'<PAD>':0, '<UNK>':1, '11-day':2, 'murine':3, 'criteria':4,\n",
    "                   'stroke':5, ... ,'levodopa':8511, 'terfenadine': 8512}\n",
    "         'labels': {' null ':0, 'mechanism ':1, 'advise ':2, 'effect ':3, 'int ':4}\n",
    "         'maxlen': 100 }\n",
    "    '''\n",
    "    index_words = {'<PAD>':0, '<UNK>':1}\n",
    "    i = 2\n",
    "    \n",
    "    index_labels = {}\n",
    "    j = 0\n",
    "\n",
    "    # We can create other indexes (lemmas, PoS, etc)  \n",
    "    \n",
    "    for s in dataset:\n",
    "        words = s[4]\n",
    "        label = s[3]\n",
    "        if label not in index_labels:\n",
    "            index_labels[label] = j\n",
    "            j += 1\n",
    "        for tup in words:\n",
    "            w = tup[0]\n",
    "            if w not in index_words:\n",
    "                index_words[w] = i\n",
    "                i += 1\n",
    "    idx = {'words': index_words, 'labels':index_labels, 'maxlen':max_length}     \n",
    "    \n",
    "    return idx\n",
    "    \n",
    "# Add '<PAD>': 0 and '<UNK>':1 codes to 'words' index. The coding of the rest of the words/labels is arbitrary.\n",
    "# You may add to the dictionary entries with indexes for other elements you want to use (lemmas, PoS, etc)."
   ]
  },
  {
   "cell_type": "code",
   "execution_count": 9,
   "metadata": {},
   "outputs": [
    {
     "name": "stdout",
     "output_type": "stream",
     "text": [
      "{'<PAD>': 0, '<UNK>': 1, 'Milk': 2, ',': 3, 'milk': 4, 'products': 5, 'and': 6, 'DRUG1': 7, 'rich': 8, 'foods': 9, 'or': 10, 'drugs': 11, 'may': 12, 'impair': 13, 'the': 14, 'absorption': 15, 'of': 16, 'DRUG2': 17, '.': 18, 'Although': 19, 'studies': 20, 'designed': 21, 'to': 22, 'examine': 23, 'drug': 24, 'interactions': 25, 'have': 26, 'not': 27, 'been': 28, 'done': 29, 'it': 30, 'was': 31, 'noted': 32, 'that': 33, 'treatment': 34, 'relapses': 35, 'for': 36, 'periods': 37, 'up': 38, '28': 39, 'days': 40, 'has': 41, 'administered': 42, 'patients': 43, '(': 44, 'N=180': 45, ')': 46, 'receiving': 47, 'DRUGOTHER': 48, 'administration': 49, 'three': 50, 'cancer': 51, 'over': 52, 'a': 53, 'dose': 54, 'range': 55, '0.025': 56, 'mg': 57, '2.2': 58, 'led': 59, 'dependent': 60, 'inhibition': 61, 'elimination.14': 62, 'The': 63, 'effect': 64, 'alternate': 65, 'day': 66, '0.25': 67, 'on': 68, 'metabolism': 69, 'in': 70, 'MS': 71, 'is': 72, 'unknown': 73, 'Differential': 74, 'regulation': 75, 'tyrosine': 76, 'phosphorylation': 77, 'tumor': 78, 'cells': 79, 'by': 80, 'homodimeric': 81, 'disintegrin': 82, 'monomeric': 83, 'disintegrins': 84, 'compared': 85, 'directly': 86, 'ability': 87, 'affect': 88, 'protein': 89, 'alone': 90, 'had': 91, 'no': 92, 'T24': 93, 'but': 94, 'dependently': 95, 'inhibits': 96, 'effects': 97, 'when': 98, 'both': 99, 'are': 100, 'added': 101, 'simultaneously': 102, 'found': 103, 'CAS': 104, 'can': 105, 'completely': 106, 'block': 107, 'induced': 108, 'this': 109, 'MDA': 110, 'MB': 111, '435': 112, 'concurrent': 113, 'increases': 114, 'substantially': 115, 'incidence': 116, 'rashes': 117, 'as': 118, 'It': 119, 'known': 120, 'whether': 121, 'potentiation': 122, 'due': 123, 'hyperuricemia': 124, 'present': 125, 'these': 126, 'In': 127, 'controlled': 128, 'clinical': 129, 'trials': 130, '22': 131, 'received': 132, 'concomitant': 133, 'However': 134, 'sample': 135, 'size': 136, 'too': 137, 'small': 138, 'allow': 139, 'any': 140, 'conclusions': 141, 'be': 142, 'drawn': 143, 'regarding': 144, 'risk': 145, 'with': 146, 'use': 147, 'common': 148, 'other': 149, 'broad': 150, 'spectrum': 151, 'antibiotics': 152, 'reduce': 153, 'efficacy': 154, 'oral': 155, 'mode': 156, 'toxic': 157, 'action': 158, 'pesticide': 159, ':': 160, '1,3': 161, 'difluoroacetone': 162, 'erythro': 163, 'fluorocitrate': 164, 'biochemical': 165, 'toxicology': 166, 'metabolite': 167, 'major': 168, 'ingredient': 169, 'difluoro': 170, '2': 171, 'propanol': 172, 'investigated': 173, 'vivo': 174, 'vitro': 175, 'Rat': 176, 'kidney': 177, 'homogenates': 178, 'supplemented': 179, 'coenzyme': 180, 'A': 181, 'ATP': 182, 'oxaloacetate': 183, 'Mg2+': 184, 'converted': 185, 'Administration': 186, '100': 187, 'kg': 188, '1': 189, 'body': 190, 'weight': 191, 'rats': 192, 'resulted': 193, 'synthesis': 194, 'which': 195, 'preceded': 196, 'an': 197, 'elevation': 198, 'fluoride': 199, 'levels': 200, 'followed': 201, 'citrate': 202, 'accumulation': 203, 'Animals': 204, 'dosed': 205, 'did': 206, 'display': 207, '3': 208, 'hour': 209, 'lag': 210, 'phase': 211, 'either': 212, 'characteristic': 213, 'animals': 214, 'We': 215, 'demonstrate': 216, 'conversion': 217, 'NAD+': 218, 'oxidation': 219, 'rate': 220, 'limiting': 221, 'step': 222, 'product': 223, 'from': 224, 'Prior': 225, '4': 226, 'methylpyrazole': 227, '90': 228, 'shown': 229, 'prevent': 230, 'eliminate': 231, 'elevations': 232, 'seen': 233, 'intoxicated': 234, 'hours': 235, 'prior': 236, 'ineffective': 237, 'preventing': 238, 'diminish': 239, 'conclude': 240, 'prophylactic': 241, 'antidotal': 242, 'properties': 243, 'treated': 244, 'derive': 245, 'its': 246, 'capacity': 247, 'inhibit': 248, 'responsible': 249, 'converting': 250, 'committed': 251, 'pathway': 252, 'Interaction': 253, 'than': 254, 'specifically': 255, 'studied': 256, ';': 257, 'however': 258, 'deleterious': 259, 'were': 260, 'after': 261, 'inhalational': 262, 'muscle': 263, 'relaxant': 264, 'antagonists': 265, 'conjunction': 266, 'sedation': 267, 'anesthesia': 268, 'Particular': 269, 'caution': 270, 'necessary': 271, 'using': 272, 'cases': 273, 'mixed': 274, 'overdosage': 275, 'since': 276, 'such': 277, 'convulsions': 278, 'cardiac': 279, 'dysrhythmias': 280, 'taken': 281, 'overdose': 282, 'especially': 283, 'emerge': 284, 'reversal': 285, 'exerts': 286, 'slight': 287, 'intrinsic': 288, 'anticonvulsant': 289, 'abrupt': 290, 'suppression': 291, 'protective': 292, 'agonist': 293, 'give': 294, 'rise': 295, 'epileptic': 296, 'blocks': 297, 'central': 298, 'competitive': 299, 'interaction': 300, 'at': 301, 'receptor': 302, 'level': 303, 'nonbenzodiazepine': 304, 'agonists': 305, 'benzodiazepine': 306, 'receptors': 307, 'triazolopyridazines': 308, 'others': 309, 'also': 310, 'blocked': 311, 'pharmacokinetics': 312, 'unaltered': 313, 'presence': 314, 'vice': 315, 'versa': 316, 'There': 317, 'pharmacokinetic': 318, 'between': 319, 'Use': 320, 'Ambulatory': 321, 'Patients': 322, 'wear': 323, 'off': 324, 'before': 325, 'long': 326, 'acting': 327, 'cleared': 328, 'An': 329, 'adequate': 330, 'period': 331, 'observation': 332, 'must': 333, 'provided': 334, 'patient': 335, 'whom': 336, 'benzodiazepines': 337, 'large': 338, 'doses': 339, 'short': 340, '10': 341, 'used': 342, 'Because': 343, 'increased': 344, 'adverse': 345, 'reactions': 346, 'who': 347, 'taking': 348, 'regular': 349, 'basis': 350, 'particularly': 351, 'important': 352, 'physicians': 353, 'query': 354, 'their': 355, 'guardians': 356, 'carefully': 357, 'about': 358, 'part': 359, 'history': 360, 'procedure': 361, 'planned': 362, 'actions': 363, 'intrathecal': 364, 'blocking': 365, 'tail': 366, 'flick': 367, 'intraventricular': 368, 'beta': 369, 'endorphin': 370, 'blockade': 371, 'spinal': 372, 'endorphinergic': 373, 'system': 374, 'production': 375, 'then': 376, 'Intraventricular': 377, 'injection': 378, 'produced': 379, 'response': 380, 'heat': 381, 'stimulus': 382, 'Intrathecal': 383, '0.4': 384, '40': 385, 'micrograms': 386, 'caused': 387, 'related': 388, 'high': 389, '16': 390, 'On': 391, 'hand': 392, '12': 393, '120': 394, 'only': 395, 'very': 396, 'weak': 397, '1.2': 398, 'equally': 399, 'antagonized': 400, 'manner': 401, 'results': 402, 'indicate': 403, 'sensitive': 404, 'involved': 405, 'suggest': 406, 'elicit': 407, 'pharmacological': 408, 'via': 409, 'activation': 410, 'different': 411, 'descending': 412, 'pain': 413, 'inhibitory': 414, 'systems': 415, 'epsilon': 416, 'mu': 417, 'respectively': 418, 'proposed': 419, 'two': 420, 'crossover': 421, 'pharmacology': 422, 'healthy': 423, 'male': 424, 'n=12': 425, 'each': 426, 'study': 427, 'nd': 428, 'female': 429, 'volunteers': 430, '7.5': 431, '1.5': 432, 'times': 433, 'daily': 434, 'once': 435, 'coadministered': 436, '500': 437, 'every': 438, '8': 439, '200': 440, 'separate': 441, 'parallel': 442, 'group': 443, '5': 444, '250': 445, 'n=18': 446, '20': 447, '7': 448, '23': 449, 'pretreatment': 450, '600': 451, '14': 452, 'under': 453, 'steady': 454, 'state': 455, 'conditions': 456, 'normal': 457, 'plasma': 458, 'concentrations': 459, 'C': 460, 'max': 461, 'AUC': 462, '0': 463, '24': 464, 'hrs': 465, 'hydroxyDRUG1': 466, 'observed': 467, 'there': 468, 'clinically': 469, 'relevant': 470, 'changes': 471, 'safety': 472, 'profile': 473, 'assessed': 474, 'electrocardiographic': 475, 'parameters': 476, 'including': 477, 'corrected': 478, 'QT': 479, 'interval': 480, 'laboratory': 481, 'tests': 482, 'vital': 483, 'signs': 484, 'events': 485, 'hydroxyDRUGOTHER': 486, 'Table': 487, 'Changes': 488, 'Hydroxydesloratadine': 489, 'Pharmacokinetics': 490, 'Healthy': 491, 'Male': 492, 'Female': 493, 'Volunteers': 494, 'Treatment': 495, 'weekly': 496, 'weeks': 497, 'subjects': 498, 'associated': 499, 'P450': 500, '1A2': 501, '25': 502, '%': 503, 'increase': 504, 'serum': 505, 'should': 506, 'monitored': 507, 'appropriate': 508, 'adjustments': 509, 'considered': 510, 'given': 511, 'chronic': 512, 'hepatitis': 513, 'combination': 514, 'distribution': 515, 'clearance': 516, 'Nucleoside': 517, 'Analogues': 518, 'Co': 519, 'recommended': 520, 'antagonize': 521, 'antiviral': 522, 'activity': 523, 'against': 524, 'HIV': 525, 'With': 526, 'genotoxic': 527, 'mutagenic': 528, 'Pregnancy': 529, 'Category': 530, 'X': 531, 'see': 532, 'CONTRAINDICATIONS': 533, 'Significant': 534, 'teratogenic': 535, 'and/or': 536, 'embryocidal': 537, 'demonstrated': 538, 'all': 539, 'animal': 540, 'species': 541, 'exposed': 542, 'Nursing': 543, 'Mothers': 544, 'components': 545, 'excreted': 546, 'human': 547, 'orally': 548, 'ingested': 549, 'breast': 550, 'nursing': 551, 'infant': 552, 'evaluated': 553, 'potential': 554, 'infants': 555, 'decision': 556, 'made': 557, 'discontinue': 558, 'Pediatric': 559, 'effectiveness': 560, 'below': 561, 'age': 562, '18': 563, 'years': 564, 'established': 565, 'contains': 566, 'Clinical': 567, 'include': 568, 'sufficient': 569, 'numbers': 570, 'aged': 571, '65': 572, 'determine': 573, 'they': 574, 'respond': 575, 'differently': 576, 'younger': 577, 'Adverse': 578, 'DRUG1s': 579, 'CNS': 580, 'systemic': 581, 'eg': 582, 'flu': 583, 'like': 584, 'more': 585, 'severe': 586, 'elderly': 587, 'exercised': 588, 'population': 589, 'therapy': 590, 'greater': 591, 'impaired': 592, 'renal': 593, 'function': 594, 'creatinine': 595, '50': 596, 'mL/min': 597, 'report': 598, 'toxicity': 599, 'reported': 600, 'believed': 601, 'previously': 602, 'unrecognized': 603, 'molecular': 604, 'Furthermore': 605, 'induction': 606, 'P': 607, '450IIE1': 608, 'liver': 609, 'turn': 610, 'proportion': 611, 'being': 612, 'metabolites': 613, 'slow': 614, 'determined': 615, 'symptoms': 616, 'closely': 617, 'dosage': 618, 'adjustment': 619, 'Potential': 620, 'exist': 621, 'To': 622, 'avoid': 623, 'intoxication': 624, 'Therophylline': 625, 'recent': 626, 'concomitan': 627, 'cause': 628, 'elevated': 629, 'some': 630, 'instances': 631, 'decrease': 632, 'elimination': 633, 'Since': 634, 'therapeutic': 635, 'narrow': 636, 'case': 637, 'possible': 638, 'co': 639, 'Plasma': 640, 'concentration': 641, 'enhances': 642, 'antinociceptive': 643, 'mice': 644, 'purpose': 645, 'evaluate': 646, 'psychostimulant': 647, 'antinociception': 648, 'locomotor': 649, 'inhibitor': 650, 'acute': 651, 'application': 652, 'saline': 653, '+': 654, 'mg/kg': 655, '15': 656, 'g/kg': 657, 'intraperitoneally': 658, '30': 659, 'min': 660, 'hot': 661, 'plate': 662, 'holed': 663, 'open': 664, 'field': 665, 'test': 666, 'enhanced': 667, 'prolonged': 668, 'duration': 669, 'At': 670, 'same': 671, 'time': 672, 'counteracted': 673, 'concluded': 674, 'combined': 675, 'beneficial': 676, 'without': 677, 'causing': 678, 'limits': 679, 'humans': 680, 'Including': 681, 'Oral': 682, 'Injectable': 683, 'Transdermal': 684, 'Implantable': 685, 'Ortho': 686, 'Novum': 687, 'average': 688, 'decreases': 689, '31': 690, 'Therefore': 691, 'injectable': 692, 'transdermal': 693, 'implantable': 694, 'forms': 695, 'reliable': 696, 'Specific': 697, 'following': 698, 'During': 699, 'first': 700, 'trough': 701, 'fold': 702, 'Steady': 703, 'higher': 704, 'absence': 705, 'contraindicated': 706, 'decreased': 707, 'CYP3A4': 708, 'substrate': 709, 'approximately': 710, 'man': 711, 'markedly': 712, 'Caution': 713, 'if': 714, 'together': 715, 'aminotransferases': 716, 'alternative': 717, 'expected': 718, 'predominantly': 719, 'metabolized': 720, 'CYP2C9': 721, '125': 722, 'b.i.d': 723, 'potent': 724, 'No': 725, 'Other': 726, 'active': 727, 'hydroxy': 728, 'acid': 729, 'significant': 730, 'cholesterol': 731, 'initiated': 732, 'needs': 733, '6': 734, 'S': 735, 'warfarin': 736, 'R': 737, '29': 738, '38': 739, 'experience': 740, 'pulmonary': 741, 'arterial': 742, 'hypertension': 743, 'show': 744, 'INR': 745, 'baseline': 746, 'vs.': 747, 'end': 748, 'need': 749, 'change': 750, 'during': 751, 'similar': 752, 'among': 753, 'placebo': 754, 'Few': 755, 'data': 756, 'collected': 757, 'alternatively': 758, 'primarily': 759, 'CYP2B6': 760, 'isoenzyme': 761, 'exists': 762, 'e.g.': 763, 'does': 764, 'appear': 765, 'cytochrome': 766, 'isoenzymes': 767, 'young': 768, 'Following': 769, '150': 770, 'sustained': 771, 'release': 772, 'tablets': 773, '800': 774, 'hydroxyDRUG2': 775, 'unaffected': 776, '32': 777, 'Cmax': 778, 'moieties': 779, 'While': 780, 'systematically': 781, 'certain': 782, 'induce': 783, 'Drugs': 784, 'Metabolized': 785, 'Cytochrome': 786, 'P450IID6': 787, 'CYP2D6': 788, 'Many': 789, 'most': 790, 'SSRIs': 791, 'many': 792, 'blockers': 793, 'inhibitors': 794, 'ages': 795, '19': 796, '35': 797, 'extensive': 798, 'metabolizers': 799, 'twice': 800, 'single': 801, 't1/2': 802, 'approached': 803, 'lower': 804, 'medication': 805, 'Studies': 806, 'Limited': 807, 'experiences': 808, 'concurrently': 809, 'Tablets': 810, 'undertaken': 811, 'initial': 812, 'gradual': 813, 'Lower': 814, 'Seizure': 815, 'Threshold': 816, 'Concurrent': 817, 'agents': 818, 'etc': 819, 'seizure': 820, 'threshold': 821, 'extreme': 822, 'post': 823, 'marketing': 824, 'rare': 825, 'reports': 826, 'neuropsychiatric': 827, 'reduced': 828, 'tolerance': 829, 'drinking': 830, 'consumption': 831, 'minimized': 832, 'avoided': 833, 'href=': 834, 'bupropz_od.htm': 835, '#': 836, 'CI': 837, 'Population': 838, 'analyses': 839, 'revealed': 840, 'influence': 841, 'majority': 842, 'RA': 843, 'one': 844, 'medications': 845, 'serious': 846, 'infections': 847, 'additional': 848, 'DRUGOTHERs': 849, 'insufficient': 850, 'assess': 851, 'therefore': 852, 'Animal': 853, 'recently': 854, 'b': 855, 'Preliminary': 856, 'output': 857, 'usually': 858, 'wedge': 859, 'pressure': 860, 'evidence': 861, 'Inhibitors': 862, 'metabolizing': 863, 'enzyme': 864, 'significantly': 865, 'poor': 866, 'CLINICAL': 867, 'PHARMACOLOGY': 868, 'Variability': 869, 'Metabolism': 870, 'Drug': 871, 'Interactions': 872, 'For': 873, 'fluctuate': 874, 'deleted': 875, 'regimen': 876, 'Serious': 877, 'anticholinergic': 878, 'dry': 879, 'mouth': 880, 'urinary': 881, 'retention': 882, 'blurred': 883, 'vision': 884, 'addition': 885, 'already': 886, 'well': 887, 'undergoing': 888, 'occur': 889, 'cime': 890, 'tidine': 891, 'discontinued': 892, 'compromised': 893, 'stable': 894, 'norfluoxe': 895, 'tine': 896, 'half': 897, 'lives': 898, 'strategies': 899, 'produce': 900, 'stimulating': 901, 'depressed': 902, 'Close': 903, 'supervision': 904, 'careful': 905, 'required': 906, 'Such': 907, 'individuals': 908, 'referred': 909, 'tricyclic': 910, 'thus': 911, 'make': 912, 'metab': 913, 'olizers': 914, 'resemble': 915, 'regard': 916, 'leading': 917, 'Concomitant': 918, 'require': 919, 'prescribed': 920, 'CAUTION': 921, 'SHOULD': 922, 'BE': 923, 'EXERCISED': 924, 'WHEN': 925, 'ARE': 926, 'GIVEN': 927, 'IN': 928, 'CONJUNCTION': 929, 'WITH': 930, 'HMG': 931, 'CoA': 932, 'reductase': 933, 'unless': 934, 'benefit': 935, 'further': 936, 'alterations': 937, 'lipid': 938, 'likely': 939, 'outweigh': 940, 'bind': 941, 'take': 942, 'least': 943, 'impeding': 944, 'nephrotoxicity': 945, 'rises': 946, 'because': 947, 'excretion': 948, 'primary': 949, 'route': 950, 'will': 951, 'lead': 952, 'deterioration': 953, 'benefits': 954, 'risks': 955, 'potentially': 956, 'nephrotoxic': 957, 'lowest': 958, 'effective': 959, 'employed': 960, 'microsomes': 961, 'CYP': 962, 'isoforms': 963, 'CYP2E1': 964, 'CYP1A2': 965, 'equivalent': 966, '145mg': 967, 'mean': 968, 'values': 969, '36': 970, '69': 971, '321': 972, '54': 973, '128': 974, 'iso': 975, '55': 976, '314': 977, '39': 978, '261': 979, 'adults': 980, '145': 981, '17': 982, '67': 983, '44': 984, 'males': 985, 'affected': 986, 'exceed': 987, 'nefazadone': 988, 'concomitantly': 989, 'window': 990, 'frequency': 991, 'severity': 992, 'constipation': 993, 'orthostatic': 994, 'hypotension.DRUGOTHER': 995, 'microsomal': 996, 'life': 997, 'rat': 998, 'model': 999, 'hypotension.DRUG2': 1000, 'DRUG2s': 1001, 'hypotension.DRUG1': 1002, 'Data': 1003, 'randomized': 1004, 'trial': 1005, 'plus': 1006, 'minus': 1007, 'ovarian': 1008, 'indicated': 1009, 'neurotoxicity': 1010, 'adversely': 1011, 'suggesting': 1012, 'DRUGOTHER.1': 1013, 'DRUG2.1': 1014, 'Special': 1015, 'consideration': 1016, 'could': 1017, 'potentiate': 1018, 'hypotension': 1019, 'evaluating': 1020, 'antiepilepsy': 1021, 'induces': 1022, 'metabolic': 1023, 'enzymes': 1024, 'ge': 1025, 'nerally': 1026, 'classified': 1027, 'inducers': 1028, 'non': 1029, 'inducing': 1030, 'Effects': 1031, 'Antiepilepsy': 1032, 'epilepsy': 1033, 'epoxide': 1034, 'causes': 1035, 'formal': 1036, 'performed': 1037, 'examining': 1038, 'regimens': 1039, 'containing': 1040, 'limited': 1041, 'number': 1042, 'systematic': 1043, '60': 1044, 'chronically': 1045, 'binding': 1046, '96.3': 1047, '94.8': 1048, 'free': 1049, 'mg/day': 1050, 'differences': 1051, '0.125': 1052, 'multiple': 1053, 'pharmacodynamic': 1054, 'triazo': 1055, 'lam': 1056, 'additive': 1057, 'depress': 1058, 'nervous': 1059, 'cautiously': 1060, 'Multiple': 1061, 'monotherapy': 1062, 'alter': 1063, 'women': 1064, 'childbearing': 1065, 'This': 1066, 'indicates': 1067, 'hepatic': 1068, 'Highly': 1069, 'Protein': 1070, 'Bound': 1071, 'showed': 1072, '96': 1073, 'bound': 1074, 'interact': 1075, 'highly': 1076, 'compounds': 1077, 'Affect': 1078, 'isozymes': 1079, 'Given': 1080, 'CYP2A6': 1081, 'CYP2C19': 1082, 'so': 1083, 'unlikely': 1084, 'somnolence': 1085, 'drowsiness': 1086, 'Mean': 1087, '3A4': 1088, 'i.e.': 1089, 'ingestion': 1090, 'mL': 1091, 'exposure': 1092, 'desethylDRUGOTHER': 1093, 'desethylDRUG2': 1094, 'desethylDRUG1': 1095, 'accelerate': 1096, 'mechanism': 1097, 'requirements': 1098, 'monitor': 1099, 'administering': 1100, 'coumarin': 1101, 'type': 1102, 'Elevated': 1103, 'side': 1104, 'monitoring': 1105, 'adjusted': 1106, 'interfere': 1107, 'resulting': 1108, 'low': 1109, 'urine': 1110, 'Also': 1111, 'chewable/buffered': 1112, 'pediatric': 1113, 'powder': 1114, 'solution': 1115, 'result': 1116, 'enhance': 1117, 'derivatives': 1118, 'Seizures': 1119, 'another': 1120, 'nonsteroidal': 1121, 'anti': 1122, 'inflammatory': 1123, 'Physicians': 1124, 'information': 1125, 'awareness': 1126, 'Injection': 1127, 'intensify': 1128, 'antimuscarinic': 1129, 'wax': 1130, 'matrix': 1131, 'gastrointestinal': 1132, 'lesions': 1133, 'slower': 1134, 'transit': 1135, 'alcohol': 1136, 'dehydrogenase': 1137, 'moderate': 1138, 'Similarly': 1139, 'Reciprocal': 1140, 'though': 1141, 'cmax': 1142, '34': 1143, 'available': 1144, 'arise': 1145, 'tubular': 1146, 'secretion': 1147, 'organic': 1148, 'cationic': 1149, 'transporter': 1150, 'Accordingly': 1151, 'As': 1152, 'lactams': 1153, 'inhibited': 1154, 'those': 1155, 'intravascular': 1156, 'volume': 1157, 'depletion': 1158, 'occasionally': 1159, 'excessive': 1160, 'reduction': 1161, 'blood': 1162, 'initiation': 1163, 'possibility': 1164, 'hypotensive': 1165, 'discontinuing': 1166, 'increasing': 1167, 'salt': 1168, 'intake': 1169, 'Supplements': 1170, 'Sparing': 1171, 'Diuretics': 1172, 'attenuate': 1173, 'potassium': 1174, 'loss': 1175, 'Potassium': 1176, 'sparing': 1177, 'diuretics': 1178, 'supplements': 1179, 'hyperkalemia': 1180, 'Increased': 1181, 'coadministration': 1182, 'DRUGOTHERat': 1183, 'DRUG2at': 1184, 'DRUG1at': 1185, 'bioavailability': 1186, 'altered': 1187, 'unbound': 1188, 'degree': 1189, 'anticoagulant': 1190, 'measured': 1191, 'prothrombin': 1192, 'changed': 1193, 'Drug/Laboratory': 1194, 'Test': 1195, 'false': 1196, 'measurement': 1197, 'Digi': 1198, 'Tab': 1199, 'RIA': 1200, 'Kit': 1201, 'theoretically': 1202, 'pharmacodynamics': 1203, 'Eproxindine': 1204, 'depression': 1205, 'Hypotension': 1206, 'Diuretic': 1207, 'Therapy': 1208, 'diuretic': 1209, 'instituted': 1210, 'If': 1211, 'continue': 1212, 'initiate': 1213, 'provide': 1214, 'close': 1215, 'medical': 1216, 'until': 1217, 'stabilized': 1218, 'When': 1219, 'antihypertensive': 1220, 'Non': 1221, 'steroidal': 1222, 'Anti': 1223, 'Agents': 1224, 'Reports': 1225, 'mild': 1226, 'where': 1227, 'although': 1228, 'difference': 1229, 'occurred': 1230, 'Increasing': 1231, 'Serum': 1232, 'attenuates': 1233, 'thiazide': 1234, 'substitutes': 1235, 'sodium': 1236, 'reversible': 1237, 'upon': 1238, 'discontinuation': 1239, 'frequently': 1240, 'general': 1241, 'sedative': 1242, 'hypnotics': 1243, 'erythema': 1244, 'histamine': 1245, 'flushing': 1246, 'anaphylactoid': 1247, 'sequential': 1248, 'topical': 1249, 'neurotoxic': 1250, 'requires': 1251, 'pH': 1252, '7.0': 1253, 'chemically': 1254, 'modify': 1255, 'histidine': 1256, 'residues': 1257, 'Modification': 1258, 'abolished': 1259, 'cytotoxic': 1260, 'toxin': 1261, 'Zn': 1262, 'Sepharose': 1263, 'gel': 1264, '[': 1265, ']': 1266, 'labelling': 1267, 'molecules': 1268, 'reversed': 1269, 'Exposed': 1270, 'histidines': 1271, 'chelation': 1272, 'exploited': 1273, 'development': 1274, 'novel': 1275, 'purification': 1276, 'protocol': 1277, 'chelating': 1278, 'chromatography': 1279, 'May': 1280, 'wthionamide': 1281, 'Trecator': 1282, 'SC': 1283, 'Active': 1284, 'potentiated': 1285, 'impairing': 1286, '0.75': 1287, 'balance': 1288, 'testing': 1289, 'reaction': 1290, 'digit': 1291, 'symbol': 1292, 'substitution': 1293, 'DSST': 1294, 'copying': 1295, 'variability': 1296, 'component': 1297, 'divided': 1298, 'attention': 1299, '2.5': 1300, 'Coadministration': 1301, '75': 1302, 'alertness': 1303, 'psychomotor': 1304, 'performance': 1305, 'Additionally': 1306, 'reflecting': 1307, 'role': 1308, 's': 1309, 'ER': 1310, 'extended': 1311, 'maximal': 1312, 'area': 1313, 'curve': 1314, 'That': 1315, 'Induce': 1316, 'ordinarily': 1317, 'minor': 1318, 'inducer': 1319, 'q24h': 1320, '80': 1321, 'Inhibit': 1322, 'sum': 1323, 'formed': 1324, 'oxo': 1325, 'glucuronide': 1326, 'account': 1327, '9': 1328, 'recovery': 1329, 'strong': 1330, 'selective': 1331, 'aldehyde': 1332, 'oxidase': 1333, 'Both': 1334, 'Aldehyde': 1335, 'Oxidase': 1336, 'secondary': 1337, '85': 1338, 'Narrow': 1339, 'Therapeutic': 1340, 'Index': 1341, '0.375': 1342, '13': 1343, 'R+': 1344, 'enantiomers': 1345, 'Alter': 1346, 'Renal': 1347, 'Excretion': 1348, 'consequently': 1349, 'apparent': 1350, 'unchanged': 1351, 'accounts': 1352, 'less': 1353, 'These': 1354, 'inhaled': 1355, 'BID': 1356, '1.7': 1357, '5.4': 1358, '240': 1359, 'QD': 1360, '1200': 1361, 'TID': 1362, 'ranging': 1363, '1.4': 1364, '1.6': 1365, '2.0': 1366, '2.9': 1367, 'Congestive': 1368, 'Heart': 1369, 'Failure': 1370, 'Post': 1371, 'Myocardial': 1372, 'Infarction': 1373, 'EPHESUS': 1374, '3020': 1375, '91': 1376, 'DRUGOTHER/DRUGOTHER': 1377, 'DRUG2/DRUGOTHER': 1378, 'DRUGOTHER/DRUG2': 1379, 'DRUG1/DRUG2': 1380, 'Rates': 1381, 'maximum': 1382, '5.5': 1383, 'mEq/L': 1384, 'regardless': 1385, 'Hypertension': 1386, 'slightly': 1387, '0.09': 1388, '0.13': 1389, 'diabetics': 1390, 'microalbuminuria': 1391, 'conducted': 1392, 'Nonsteroidal': 1393, 'Inflammatory': 1394, 'antihypertensives': 1395, 'desired': 1396, 'obtained': 1397, 'adrenal': 1398, 'depleting': 1399, 'hypokalemia': 1400, 'enlargement': 1401, 'congestive': 1402, 'heart': 1403, 'failure': 1404, 'weakness': 1405, 'myasthenia': 1406, 'gravis': 1407, 'withdrawn': 1408, 'initiating': 1409, 'conflicting': 1410, 'glucose': 1411, 'arrhythmias': 1412, 'lessened': 1413, 'physiologic': 1414, 'requiring': 1415, 'thereby': 1416, 'Hepatic': 1417, 'Enzyme': 1418, 'Inducers': 1419, 'Substrates': 1420, 'insufficiency': 1421, 'withdrawal': 1422, 'hypoprothrombinemia': 1423, 'control': 1424, 'epidermal': 1425, 'necrolysis': 1426, 'exhibit': 1427, 'diminished': 1428, 'toxoids': 1429, 'live': 1430, 'antibody': 1431, 'replication': 1432, 'organisms': 1433, 'contained': 1434, 'Routine': 1435, 'deferred': 1436, 'Prothrombin': 1437, 'suitable': 1438, 'anticoagulation': 1439, 'render': 1440, 'p27': 1441, 'Kip1': 1442, 'cytotoxicity': 1443, 'Src': 1444, 'Abl': 1445, 'kinases': 1446, 'sensitivity': 1447, 'HEY': 1448, 'xenografts': 1449, 'roles': 1450, 'Bcl': 1451, 'Cdk1': 1452, 'apoptosis': 1453, 'terminal': 1454, 'deoxynucleotidyl': 1455, 'transferase': 1456, 'mediated': 1457, 'dUTP': 1458, 'nick': 1459, 'labeling': 1460, 'TUNEL': 1461, 'assay': 1462, 'siRNA': 1463, 'knockdown': 1464, 'gene': 1465, 'expression': 1466, 'transfection': 1467, 'vectors': 1468, 'flow': 1469, 'cytometry': 1470, 'fewer': 1471, 'colonies': 1472, 'agent': 1473, 'xenograft': 1474, 'bearing': 1475, 'growth': 1476, 'per': 1477, 'mouse': 1478, 'vs': 1479, '0.28': 1480, '0.81': 1481, 'cm3': 1482, '=': 1483, '0.53': 1484, '95': 1485, 'confidence': 1486, '0.44': 1487, '0.62': 1488, '.014': 1489, 'negative': 1490, 'sub': 1491, 'G1': 1492, 'fraction': 1493, '42.5': 1494, '20.1': 1495, '22.4': 1496, '24.7': 1497, '.017': 1498, 'forced': 1499, 'negatively': 1500, 'regulating': 1501, 'Inhibition': 1502, 'family': 1503, 'siRNAs': 1504, 'through': 1505, 'Enhanced': 1506, 'describes': 1507, 'accelerated': 1508, 'clinicians': 1509, 'aware': 1510, 'reexacerbation': 1511, 'symptomatology': 1512, 'lowered': 1513, 'diabetic': 1514, 'Effect': 1515, 'steroid': 1516, 'hormone': 1517, 'lethality': 1518, 'examined': 1519, 'exogenous': 1520, 'nonlethal': 1521, 'Escherichia': 1522, 'coli': 1523, 'deaths': 1524, 'lethal': 1525, 'sex': 1526, 'estrogen': 1527, 'while': 1528, 'androgen': 1529, 'dropped': 1530, 'Exogenous': 1531, 'appeared': 1532, 'percentage': 1533, 'relationships': 1534, 'immune': 1535, 'course': 1536, 'septic': 1537, 'shock': 1538, 'complex': 1539, 'fashion': 1540, 'Felodipine': 1541, 'grapefruit': 1542, 'juice': 1543, 'several': 1544, 'specific': 1545, 'Itraconazole': 1546, 'formulation': 1547, 'prolongation': 1548, 'Erythromycin': 1549, 'Grapefruit': 1550, 'Cimetidine': 1551, '450': 1552, 'Beta': 1553, 'Blocking': 1554, 'tolerated': 1555, 'Digoxin': 1556, 'considerably': 1557, 'term': 1558, 'Tacrolimus': 1559, 'competitively': 1560, 'displaces': 1561, 'sites': 1562, 'fasting': 1563, 'hyperuricemic': 1564, 'occasional': 1565, 'continuous': 1566, 'schedule': 1567, 'approximate': 1568, 'hepatotoxicity': 1569, 'dogs': 1570, '52': 1571, 'mg/kg/day': 1572, 'DRUG1/DRUGOTHER': 1573, 'DRUGOTHER/DRUG1': 1574, 'nonsteroial': 1575, 'possibly': 1576, 'prostacyclin': 1577, 'fatal': 1578, 'hemorrhage': 1579, 'little': 1580, 'lowering': 1581, 'sulfide': 1582, 'third': 1583, 'ingesting': 1584, 'unusually': 1585, 'maintenance': 1586, 'order': 1587, 'Withdrawal': 1588, 'requirement': 1589, 'catabolism': 1590, 'our': 1591, 'length': 1592, 'antagonistic': 1593, 'investigates': 1594, 'cyclooxygenase': 1595, 'sensitize': 1596, 'origins': 1597, 'cell': 1598, 'cycle': 1599, 'DNA': 1600, 'damage': 1601, 'five': 1602, 'lines': 1603, 'HeLa': 1604, 'HCT116': 1605, 'HepG2': 1606, 'MCF7': 1607, 'U251': 1608, 'FU': 1609, 'incubation': 1610, 'schedules': 1611, 'analyzed': 1612, 'antagonism': 1613, 'four': 1614, 'except': 1615, 'combinations': 1616, 'confirmed': 1617, 'chemosensitizer': 1618, 'cancers': 1619, 'Careful': 1620, 'periodic': 1621, 'determinations': 1622, 'elevate': 1623, 'e.g': 1624, 'connection': 1625, 'vasospasm': 1626, 'cerebral': 1627, 'ischemia': 1628, 'extremities': 1629, 'Examples': 1630, 'protease': 1631, 'Less': 1632, 'Type': 1633, 'diabetes': 1634, 'meals': 1635, 'morning': 1636, 'lunch': 1637, 'displacement': 1638, 'extent': 1639, 'Certain': 1640, 'adrenergic': 1641, 'hypoglycemic': 1642, 'exert': 1643, 'ocular': 1644, 'vasodilator': 1645, 'AIMS/HYPOTHESIS': 1646, 'vasodilation': 1647, 'Haemodynamic': 1648, 'basal': 1649, 'CONCLUSIONS/INTERPRETATION': 1650, 'circulation': 1651, 'degrees': 1652, 'Similar': 1653, 'would': 1654, 'substrates': 1655, 'extensively': 1656, 'isozyme': 1657, 'index': 1658, 'ventricular': 1659, 'sudden': 1660, 'death': 1661, 'Have': 1662, 'Clinically': 1663, 'Important': 1664, 'apart': 1665, 'peak': 1666, 'coincide': 1667, 'impairment': 1668, 'mental': 1669, 'motor': 1670, 'skills': 1671, 'database': 1672, 'injury': 1673, 'manifested': 1674, 'ALT': 1675, 'total': 1676, 'bilirubin': 1677, 'obstruction': 1678, '51': 1679, 'mEq': 1680, 'affects': 1681, 'appreciably': 1682, 'nor': 1683, 'commonly': 1684, '400': 1685, 'N=8': 1686, 'maintained': 1687, 'months': 1688, '11': 1689, 'Likewise': 1690, 'N=17': 1691, 'neither': 1692, 'Estimates': 1693, '300': 1694, 'N=18': 1695, 'capsules': 1696, 'appears': 1697, 'amount': 1698, 'absorbed': 1699, '21': 1700, 'literature': 1701, 'article': 1702, 'capsule': 1703, 'N=12': 1704, 'parameter': 1705, 'QID': 1706, 'fell': 1707, 'Thus': 1708, 'endogenous': 1709, 'marker': 1710, 'importance': 1711, 'Based': 1712, 'profiles': 1713, 'acetate': 1714, 'mcg': 1715, 'N=16': 1716, 'blocker': 1717, 'comparable': 1718, 'undergo': 1719, 'Tests': 1720, 'positive': 1721, 'readings': 1722, 'Ames': 1723, 'N': 1724, 'Multistix': 1725, 'SG': 1726, 'dipstick': 1727, 'sulfosalicylic': 1728, 'precipitation': 1729, 'minimize': 1730, 'exhibits': 1731, 'monoamine': 1732, 'content': 1733, 'wine': 1734, 'yogurt': 1735, 'ripe': 1736, 'cheese': 1737, 'bananas': 1738, 'cross': 1739, 'resistance': 1740, 'radiotherapy': 1741, 'MAO': 1742, 'B': 1743, 'n=29': 1744, 'More': 1745, 'Parkinsons': 1746, 'disease': 1747, 'bile': 1748, 'biliary': 1749, 'glucuronidation': 1750, 'intestinal': 1751, 'glucuronidase': 1752, 'rifamipicin': 1753, 'DRUGOTHER/dopa': 1754, 'decarboxylase': 1755, 'DRUG2/dopa': 1756, 'DRUG1/dopa': 1757, 'frequent': 1758, 'neutrophil': 1759, 'counts': 1760, 'fruit': 1761, 'juices': 1762, 'ionized': 1763, 'molecule': 1764, 'Alkalinizing': 1765, 'Gastrointestinal': 1766, 'alkalinizing': 1767, 'Urinary': 1768, 'decreasing': 1769, 'd': 1770, 'amphetamine': 1771, 'striking': 1772, 'brain': 1773, 'counteract': 1774, 'dopamine': 1775, 'norepinephrine': 1776, 'reuptake': 1777, 'inhibiting': 1778, 'stimulant': 1779, 'treat': 1780, 'poisoning': 1781, 'delay': 1782, 'stimulatory': 1783, 'analgesic': 1784, 'stimulation': 1785, '42': 1786, 'Results': 1787, 'pharmacologically': 1788, 'monohydroxy': 1789, 'CYP4A9': 1790, 'CYP4A11': 1791, 'exception': 1792, 'CYP3A4/5': 1793, '3A4/5': 1794, 'significance': 1795, '2C19': 1796, 'Increases': 1797, '47': 1798, 'predominant': 1799, 'UDP': 1800, 'glucuronyl': 1801, 'mainly': 1802, 'eliminated': 1803, 'conjugation': 1804, 'subgroup': 1805, '3A': 1806, 'CYP3A5': 1807, 'Influence': 1808, 'Concentration': 1809, 'Confidence': 1810, 'Interval': 1811, 'nc': 1812, 'denotes': 1813, 'Pediatrics': 1814, 'above': 1815, 'adjunctive': 1816, 'Strong': 1817, 'i.e': 1818, 'Hormonal': 1819, 'hormonal': 1820, 'EE': 1821, 'LNG': 1822, 'After': 1823, 'repeated': 1824, '33': 1825, '27': 1826, 'wshow': 1827, 'hypoparathyroid': 1828, 'hypercalcemia': 1829, 'estrogenic': 1830, 'H2': 1831, 'Receptor': 1832, 'Antagonists': 1833, 'intravenously': 1834, 'meal': 1835, 'evidenced': 1836, 'lactam': 1837, '49': 1838, '122': 1839, '53': 1840, 'atropinization': 1841, 'mydriasis': 1842, 'tachycardia': 1843, 'dryness': 1844, 'nose': 1845, 'earlier': 1846, 'might': 1847, 'precautions': 1848, 'kept': 1849, 'mind': 1850, 'anticholinesterase': 1851, 'do': 1852, 'bear': 1853, 'spontaneous': 1854, 'motility': 1855, 'chick': 1856, 'embryos': 1857, 'successive': 1858, 'egg': 1859, 'e.w': 1860, 'old': 1861, 'comparison': 1862, 'catecholamine': 1863, 'marked': 1864, 'bradycardia': 1865, 'vertigo': 1866, 'syncope': 1867, 'postural': 1868, 'proven': 1869, 'schizophrenia': 1870, 'psychoses': 1871, 'superior': 1872, 'overall': 1873, 'improvements': 1874, 'psychopathology': 1875, 'rating': 1876, 'scales': 1877, 'depressive': 1878, 'psychotic': 1879, 'year': 1880, 'relapse': 1881, 'rehospitalisation': 1882, 'double': 1883, 'blind': 1884, 'comparative': 1885, 'week': 1886, 'proved': 1887, 'contrast': 1888, 'preliminary': 1889, 'suggested': 1890, 'anxiety/depressive': 1891, 'p': 1892, '<': 1893, '0.05': 1894, 'consistent': 1895, 'measures': 1896, 'Improvements': 1897, 'cognitive': 1898, 'early': 1899, 'enhancing': 1900, 'schizoaffective': 1901, 'disorder': 1902, 'Several': 1903, 'aggression': 1904, 'agitation': 1905, 'strongly': 1906, 'support': 1907, 'extrapyramidal': 1908, 'agranulocytosis': 1909, 'hyperprolactinaemia': 1910, '>': 1911, '3.5': 1912, 'bodyweight': 1913, 'gain': 1914, 'appetite': 1915, 'Pharmacoeconomic': 1916, 'even': 1917, 'direct': 1918, 'costs': 1919, 'Compared': 1920, 'despite': 1921, 'acquisition': 1922, 'cost': 1923, 'improves': 1924, 'quality': 1925, 'broadly': 1926, 'CONCLUSIONS': 1927, 'antipsychotic': 1928, 'episode': 1929, 'resistant': 1930, 'superiority': 1931, 'choice': 1932, 'line': 1933, 'option': 1934, 'management': 1935, 'Repeating': 1936, 'detect': 1937, 'interferes': 1938, 'contraceptive': 1939, 'microdosed': 1940, 'minipill': 1941, 'preparations': 1942, 'Microdosed': 1943, 'implants': 1944, 'injectables': 1945, 'methods': 1946, 'contraception': 1947, 'Consequently': 1948, 'intracranial': 1949, 'hypervitaminosis': 1950, 'Investigations': 1951, 'into': 1952, 'thrombocytopenia': 1953, 'indication': 1954, 'cessation': 1955, 'aPTT': 1956, 'Pharmacokinetic': 1957, '162.5': 1958, '26': 1959, 'g/kg/min': 1960, '1000': 1961, 'subsequent': 1962, 'PT': 1963, 'International': 1964, 'Normalized': 1965, 'Ratio': 1966, 'bleeding': 1967, 'mm': 1968, 'Hg': 1969, 'GI': 1970, 'ulceration': 1971, 'complications': 1972, 'endoscopy': 1973, 'OA': 1974, 'cumulative': 1975, 'endoscopic': 1976, 'gastroduodenal': 1977, 'ulcers': 1978, '81': 1979, 'enteric': 1980, 'coated': 1981, '2400': 1982, 'platelet': 1983, 'ex': 1984, 'aggregation': 1985, 'TXB2': 1986, 'generation': 1987, 'clotting': 1988, 'lack': 1989, 'substitute': 1990, 'cardiovascular': 1991, 'prophylaxis': 1992, 'Prospective': 1993, 'AUC0': 1994, '120hr': 1995, '0.5': 1996, 'observations': 1997, 'natriuretic': 1998, '12.5': 1999, '24hr': 2000, 'rheumatoid': 2001, 'arthritis': 2002, 'mg/week': 2003, 'postdose': 2004, '94': 2005, 'subsequently': 2006, '88': 2007, 'measurable': 2008, 'limit': 2009, 'ng/mL': 2010, 'Standard': 2011, 'continued': 2012, 'starting': 2013, 'osteoarthritis': 2014, 'Adequate': 2015, 'Anticoagulant': 2016, 'few': 2017, 'changing': 2018, 'association': 2019, 'augment': 2020, 'mixture': 2021, 'stereoisomers': 2022, 'safely': 2023, 'facilitated': 2024, 'tracheal': 2025, 'intubation': 2026, 'neuromuscular': 2027, 'Evidence': 2028, 'achieve': 2029, '1.25': 2030, 'M.C': 2031, 'salts': 2032, 'local': 2033, 'cholinesterase': 2034, 'irreversibly': 2035, 'Resistance': 2036, 'nondepolarizing': 2037, 'shorter': 2038, 'durations': 2039, 'anticipated': 2040, 'infusion': 2041, 'Some': 2042, 'birth': 2043, 'pills': 2044, 'medicines': 2045, 'angina': 2046, 'seizures': 2047, 'Do': 2048, 'Congenital': 2049, 'Acquired': 2050, 'Prolongation': 2051, '76': 2052, 'prolonging': 2053, 'D2': 2054, 'CYP3A': 2055, 'Nonetheless': 2056, 'individual': 2057, 'titration': 2058, 'started': 2059, 'stopped': 2060, 'ensure': 2061, 'gram': 2062, 'delayed': 2063, 'minutes': 2064, 'gastric': 2065, 'determinant': 2066, 'esters': 2067, 'potentiates': 2068, 'organophosphate': 2069, 'catalyzed': 2070, 'biotransformation': 2071, 'OBJECTIVE': 2072, 'Our': 2073, 'objective': 2074, 'confirm': 2075, 'carboxyDRUG1': 2076, 'means': 2077, 'HPLC': 2078, 'carboxyDRUGOTHER': 2079, 'RESULTS': 2080, 'statistically': 2081, 'median': 2082, '845': 2083, 'mL/h': 2084, '688': 2085, 'mg/d': 2086, 'groups': 2087, 'ie': 2088, '901': 2089, '318': 2090, '723': 2091, '457': 2092, 'behavioral': 2093, 'allylnormetazocine': 2094, 'pigeons': 2095, 'squirrel': 2096, 'monkeys': 2097, 'responding': 2098, 'fixed': 2099, 'ratio': 2100, 'FI': 2101, 'FR': 2102, 'food': 2103, 'presentation': 2104, 'Intermediate': 2105, 'NANM': 2106, 'transient': 2107, 'whereas': 2108, 'equipotent': 2109, 'intermediate': 2110, 'stereoisomer': 2111, '70': 2112, 'conclusive': 2113, 'took': 2114, 'variable': 2115, 'Combination': 2116, 'depresses': 2117, 'necessitate': 2118, 'raising': 2119, 'breakthrough': 2120, 'asthma': 2121, 'abnormalities': 2122, 'angiotensin': 2123, 'temporarily': 2124, 'Nephrotoxic': 2125, 'intravenous': 2126, 'alpha': 2127, 'NOT': 2128, 'kidneys': 2129, 'compete': 2130, 'renally': 2131, 'interrupted': 2132, 'ACE': 2133, 'aldosterone': 2134, 'capable': 2135, 'DRUGOTHER/DRUGOTHERat': 2136, 'excluded': 2137, 'DRUG2/DRUG2at': 2138, 'DRUG1/DRUG1at': 2139, 'Food': 2140, 'relative': 2141, 'fasted': 2142, '43': 2143, 'probably': 2144, 'insignificant': 2145, 'examples': 2146, 'substances': 2147, 'susceptibility': 2148, 'hypoglycemia': 2149, 'weaken': 2150, 'sympatholytic': 2151, 'medicinal': 2152, 'absent': 2153, 'n=24': 2154, 'mixing': 2155, 'immediately': 2156, 'attenuation': 2157, 'syringe': 2158, 'compatibility': 2159, 'crystalline': 2160, 'source': 2161, 'manufacturers': 2162, 'external': 2163, 'subcutaneous': 2164, 'pumps': 2165, 'diluent': 2166, 'producing': 2167, 'depressant': 2168, 'DRUGOTHER/ergoDRUGOTHER': 2169, 'accelerating': 2170, 'DRUG2/ergoDRUG2': 2171, 'DRUG1/ergoDRUG1': 2172, 'calcium': 2173, 'care': 2174, 'precipitate': 2175, 'synthetic': 2176, 'catabolic': 2177, 'relationship': 2178, 'functional': 2179, 'promote': 2180, 'create': 2181, 'Uncontrolled': 2182, 'hypermagnesemia': 2183, 'dialysis': 2184, 'ANTABUSE': 2185, 'beyond': 2186, 'accordingly': 2187, 'vasodilating': 2188, 'Marked': 2189, 'symptomatic': 2190, 'Antimicrobial': 2191, 'investigate': 2192, 'antimicrobial': 2193, 'kinds': 2194, 'fractional': 2195, 'FICI': 2196, 'checkerboard': 2197, 'strain': 2198, 'synergism': 2199, 'Synergism': 2200, 'Bacillus': 2201, 'subtilis': 2202, 'Klebsiella': 2203, 'oxytoca': 2204, 'principal': 2205, 'detoxification': 2206, '1/3': 2207, '1/4': 2208, 'usual': 2209, 'leukopenia': 2210, 'glucocorticoid': 2211, 'mammary': 2212, 'virus': 2213, 'n': 2214, 'dodecyl': 2215, 'gallate': 2216, '66': 2217, 'microM': 2218, 'far': 2219, 'crude': 2220, 'inositol': 2221, '1,4,5': 2222, 'trisphosphate': 2223, 'responses': 2224, 'bone': 2225, 'marrow': 2226, 'megakaryocytes': 2227, 'patch': 2228, 'clamp': 2229, 'whole': 2230, 'recording': 2231, 'technique': 2232, 'fura': 2233, 'microfluorometry': 2234, 'Administering': 2235, 'Ca': 2236, '2+': 2237, 'current': 2238, 'Pretreatment': 2239, 'extracellular': 2240, 'isolated': 2241, 'pancreatic': 2242, 'acinar': 2243, 'we': 2244, 'useful': 2245, 'tool': 2246, 'tested': 2247, 'therapeutically': 2248, 'displaced': 2249, 'fresh': 2250, 'kinetics': 2251, 'intracellular': 2252, 'Interfere': 2253, 'Hemostasis': 2254, 'Epidemiological': 2255, 'cohort': 2256, 'design': 2257, 'serotonin': 2258, 'occurrence': 2259, 'upper': 2260, 'racemic': 2261, 'mmol/day': 2262, 'Nevertheless': 2263, 'accordance': 2264, 'standard': 2265, 'practice': 2266, 'serotonergic': 2267, 'QTc': 2268, 'msec': 2269, 'Racemic': 2270, 'postmarketing': 2271, 'describing': 2272, 'hyperreflexia': 2273, 'incoordination': 2274, 'esDRUGOTHER': 2275, 'warranted': 2276, 'advised': 2277, 'esDRUG2': 2278, 'esDRUG1': 2279, 'Combined': 2280, 'titrated': 2281, 'modest': 2282, '82': 2283, 'isomer': 2284, 'accelerates': 2285, 'replacement': 2286, 'needed': 2287, 'diminishes': 2288, 'allograft': 2289, 'recipients': 2290, 'identified': 2291, 'Systemic': 2292, '269': 2293, '73': 2294, '354': 2295, '102': 2296, 'ml/min': 2297, '0.022': 2298, '479': 2299, '190': 2300, '265': 2301, '0.013': 2302, 'matched': 2303, 'latter': 2304, 'displayed': 2305, 'clearances': 2306, 'larger': 2307, 'cohorts': 2308, 'nonmatched': 2309, '58': 2310, 'implies': 2311, 'pass': 2312, 'activities': 2313, 'indicating': 2314, 'generally': 2315, 'stronger': 2316, 'respect': 2317, 'magnesium': 2318, 'peritoneal': 2319, 'cavity': 2320, 'incompatibility': 2321, 'minimum': 2322, 'MIC': 2323, 'DRUGOTHER/flucoxacillin': 2324, 'DRUG2/flucoxacillin': 2325, 'DRUG1/flucoxacillin': 2326, 'augmented': 2327, 'inotropic': 2328, 'woman': 2329, 'ectopic': 2330, 'pregnancies': 2331, 'interesting': 2332, 'having': 2333, 'tubal': 2334, 'occasions': 2335, 'place': 2336, '0.70': 2337, 'scores': 2338, 'behave': 2339, 'similarly': 2340, 'useof': 2341, 'dosing': 2342, 'next': 2343, 'Antagonism': 2344, 'losses': 2345, 'fluid': 2346, 'electrolytes': 2347, 'contraction': 2348, 'myocardium': 2349, 'water': 2350, 'respiratory': 2351, 'proceed': 2352, 'apnea': 2353, 'Steroidal': 2354, 'responsiveness': 2355, 'diminution': 2356, 'preclude': 2357, 'pressor': 2358, 'Efficacy': 2359, 'alkalizing': 2360, 'hypoprothrombinemic': 2361, 'six': 2362, 'involving': 2363, 'PR': 2364, 'recognized': 2365, 'gm': 2366, 'judgment': 2367, 'physician': 2368, 'recommend': 2369, 'amounts': 2370, 'relaxants': 2371, 'longer': 2372, 'balanced': 2373, 'circulatory': 2374, 'USP': 2375, 'synergistic': 2376, 'coronary': 2377, 'artery': 2378, 'within': 2379, '..': 2380, 'safe': 2381, 'problem': 2382, 'vasoconstrictive': 2383, 'property': 2384, 'epinephrine': 2385, 'provoke': 2386, 'vasoconstriction': 2387, 'predisposing': 2388, 'ischemic': 2389, 'e.': 2390, 'g.': 2391, 'member': 2392, 'alkaloids': 2393, 'peripheral': 2394, 'Vasospastic': 2395, 'Weakness': 2396, 'rarely': 2397, 'HT1': 2398, 'g': 2399, 'Dual': 2400, 'guinea': 2401, 'pig': 2402, 'vas': 2403, 'deferens': 2404, 'C129H223N3O54': 2405, 'marine': 2406, 'coelenterates': 2407, 'Palythoa': 2408, 'tuberculosa': 2409, 'rapid': 2410, 'phasic': 2411, 'M': 2412, 'failed': 2413, 'applied': 2414, 'second': 2415, 'contractile': 2416, 'Exposure': 2417, 'nerves': 2418, 'presumably': 2419, 'smooth': 2420, 'Toxicologic': 2421, 'toxicokinetic': 2422, 'toxicologic': 2423, 'Two': 2424, 'percent': 2425, 'developed': 2426, 'neutropenia': 2427, 'ANC': 2428, 'x': 2429, '109/L': 2430, 'thrombopenia': 2431, 'purpura': 2432, 'prolong': 2433, 'corresponding': 2434, 'displace': 2435, 'complete': 2436, 'brand': 2437, 'TPMT': 2438, 'Taking': 2439, 'you': 2440, 'Tissue': 2441, 'culture': 2442, 'abolish': 2443, 'malignant': 2444, 'cells.14': 2445, 'persists': 2446, 'asparagine': 2447, 'suppressed': 2448, 'seem': 2449, 'dictate': 2450, '1.0': 2451, 'herbal': 2452, 'St': 2453, 'month': 2454, 'therapies': 2455, 'lowers': 2456, 'situ': 2457, 'ligated': 2458, 'duodenal': 2459, 'loop': 2460, 'By': 2461, 'rapidly': 2462, 'essentially': 2463, 'lumen': 2464, 'mM': 2465, 'declining': 2466, 'mucosal': 2467, 'remains': 2468, 'constant': 2469, 'transfer': 2470, 'declines': 2471, 'transferred': 2472, 'linear': 2473, 'logarithmic': 2474, 'share': 2475, 'transport': 2476, 'duodenum': 2477, 'rachitic': 2478, 'chicks': 2479, 'elevating': 2480, 'serosal': 2481, 'Gris': 2482, 'PEG': 2483, 'Atromid': 2484, 'St.': 2485, 'Johns': 2486, 'wort': 2487, 'Theo': 2488, 'Dur': 2489, 'margin': 2490, 'example': 2491, 'Literature': 2492, 'stomach': 2493, 'acidity': 2494, 'greatly': 2495, 'disintegrating': 2496, 'tablet': 2497, 'tract': 2498, 'based': 2499, 'involvement': 2500, 'notably': 2501, 'Pharmacodynamic': 2502, 'phenothiazines': 2503, 'thioxanthene': 2504, 'Antiacid': 2505, 'Indanavir': 2506, 'Phenobarbitol': 2507, 'Ritanovir': 2508, '72': 2509, 'supplement': 2510, 'Wort': 2511, 'users': 2512, 'experiencing': 2513, 'shortly': 2514, 'minimal': 2515, 'ca': 2516, 'findings': 2517, 'summarized': 2518, 'table': 2519, 'hydrochloride': 2520, 'glycoprotein': 2521, '41': 2522, 'maximize': 2523, 'myopathy': 2524, 'class': 2525, 'suspension': 2526, 'LDL': 2527, 'selecting': 2528, 'hormones': 2529, 'Before': 2530, 'tell': 2531, 'your': 2532, 'doctor': 2533, 'magnesium/choline': 2534, 'choline': 2535, 'bismuth': 2536, 'subDRUGOTHER': 2537, 'Pepto': 2538, 'Bismol': 2539, 'subDRUG2': 2540, 'subDRUG1': 2541, 'KT': 2542, 'sulfa': 2543, 'pill': 2544, 'occurrences': 2545, 'ventilation': 2546, 'developing': 2547, 'methemoglobinemia': 2548, 'pharmacist': 2549, 'prescription': 2550, 'nonprescription': 2551, 'desmethylDRUGOTHER': 2552, 'desmethylDRUG2': 2553, 'desmethylDRUG1': 2554, 'profound': 2555, 'lasting': 2556, 'Laboratory': 2557, 'screening': 2558, 'Induction': 2559, '1,25': 2560, 'Dihydroxycholecalciferol': 2561, 'D3': 2562, 'experiments': 2563, 'here': 2564, 'hydroxytamoxifen': 2565, 'MCF': 2566, 'morphological': 2567, 'markers': 2568, 'identify': 2569, 'chromatin': 2570, 'nuclear': 2571, 'condensation': 2572, 'emphasize': 2573, 'vitamin': 2574, 'D': 2575, 'signalling': 2576, 'disruption': 2577, \"'DRUG2\": 2578, \"'\": 2579, 'newly': 2580, 'introduced': 2581, \"'DRUGOTHER\": 2582, \"'DRUG1\": 2583, 'indeed': 2584, 'DSM': 2585, 'IV': 2586, 'diagnosed': 2587, 'bipolar': 2588, 'bactericidal': 2589, 'Benedicts': 2590, 'Fehlings': 2591, 'Clinitest': 2592, 'Clinistix': 2593, 'Glucose': 2594, 'Enzymatic': 2595, 'Strip': 2596, 'pectoris': 2597, 'Sublingual': 2598, 'attacks': 2599, 'discernible': 2600, 'altering': 2601, 'pharmacologic': 2602, 'arrhythmic': 2603, 'depressants': 2604, 'arrhythmics': 2605, 'exaggerate': 2606, 'AV': 2607, 'nodal': 2608, 'conduction': 2609, 'infected': 2610, 'currently': 2611, 'DCG': 2612, 'L': 2613, 'CCG': 2614, 'locomotion': 2615, 'measuring': 2616, 'stereotyped': 2617, 'behavior': 2618, 'Then': 2619, 'metabotropic': 2620, 'glutamate': 2621, 'mGluR': 2622, 'hyperlocomotion': 2623, 'mechanisms': 2624, 'Northern': 2625, 'blot': 2626, 'analysis': 2627, 'RNA': 2628, 'prefrontal': 2629, 'cortical': 2630, 'tissues': 2631, 'carried': 2632, 'out': 2633, 'emptying': 2634, 'deoxy': 2635, 'Five': 2636, 'variables': 2637, 'maintain': 2638, 'Known': 2639, 'new': 2640, '``': 2641, 'insulin': 2642, 'sensitizers': 2643, \"''\": 2644, 'adolescent': 2645, 'consciousness': 2646, 'alert': 2647, 'reactivity': 2648, 'screen': 2649, 'potentiating': 2650, 'consider': 2651, 'pregnancy': 2652, 'fetal': 2653, 'health': 2654, 'providers': 2655, 'encouraged': 2656, 'enroll': 2657, 'become': 2658, 'pregnant': 2659, 'Biogen': 2660, 'Registry': 2661, 'calling': 2662, '866': 2663, '263': 2664, '8483': 2665, 'Study': 2666, 'colorectal': 2667, 'DRUG1/5': 2668, 'FU/DRUGOTHER': 2669, 'bolus': 2670, 'IFL': 2671, 'FU/DRUG2': 2672, 'DRUGOTHER/5': 2673, 'FU/DRUG1': 2674, 'Due': 2675, 'inter': 2676, 'sampling': 2677, 'uncertain': 2678, 'antagonist': 2679, 'methyl': 2680, 'thiazol': 2681, 'yl': 2682, 'ethynyl': 2683, 'pyridine': 2684, 'reduces': 2685, 'dopaminergic': 2686, 'noradrenergic': 2687, 'neuronal': 2688, 'rendered': 2689, 'parkinsonian': 2690, 'phenyl': 2691, '1,2,3,6': 2692, 'tetrahydropyridine': 2693, 'Weekly': 2694, 'intramuscular': 2695, 'injections': 2696, '0.2': 2697, 'vehicle': 2698, 'experimental': 2699, 'tetrahydropyridine/3': 2700, 'versus': 2701, 'tetrahydropyridine/vehicle': 2702, 'none': 2703, 'behavioural': 2704, 'positron': 2705, 'emission': 2706, 'tomography': 2707, 'imaging': 2708, 'mortem': 2709, 'stereological': 2710, 'midbrain': 2711, 'neurons': 2712, 'striatal': 2713, 'intensity': 2714, 'measurements': 2715, 'hydroxylase': 2716, 'immunoreactivity': 2717, 'locus': 2718, 'coeruleus': 2719, 'adjoining': 2720, 'A5': 2721, 'A7': 2722, 'noradrenaline': 2723, 'almost': 2724, 'coeruleus/A5/A7': 2725, 'towards': 2726, 'primates': 2727, 'antidiuretic': 2728, 'acidic': 2729, 'basic': 2730, 'thyroid': 2731, 'enterohepatic': 2732, 'discontinuance': 2733, 'pose': 2734, 'hazard': 2735, 'filtrated': 2736, 'binds': 2737, 'acids': 2738, 'fat': 2739, 'digestion': 2740, 'E': 2741, 'K': 2742, 'supplementation': 2743, 'miscible': 2744, 'parenteral': 2745, 'soluble': 2746, 'vitamins': 2747, 'SINCE': 2748, 'MAY': 2749, 'BIND': 2750, 'OTHER': 2751, 'DRUGS': 2752, 'CONCURRENTLY': 2753, 'IT': 2754, 'IS': 2755, 'RECOMMENDED': 2756, 'THAT': 2757, 'PATIENTS': 2758, 'TAKE': 2759, 'AT': 2760, 'LEAST': 2761, 'HOUR': 2762, 'BEFORE': 2763, 'OR': 2764, 'TO': 2765, 'HOURS': 2766, 'AFTER': 2767, 'AS': 2768, 'GREAT': 2769, 'AN': 2770, 'INTERVAL': 2771, 'POSSIBLE': 2772, 'AVOID': 2773, 'IMPEDING': 2774, 'THEIR': 2775, 'ABSORPTION': 2776, 'warrant': 2777, '~36': 2778, '~28': 2779, 'coadministering': 2780, 'photosensitivity': 2781, 'actinic': 2782, 'keratoses': 2783, 'Topical': 2784, 'Solution': 2785, 'Isoenzymes': 2786, 'Epoxide': 2787, 'Hydrolase': 2788, 'carbamazepine': 2789, '10,11': 2790, 'trans': 2791, 'diol': 2792, 'hydrolase': 2793, 'begins': 2794, 'reasonable': 2795, 'expect': 2796, 'Decreased': 2797, 'Levels': 2798, 'Presence': 2799, 'Enzymes': 2800, 'category': 2801, 'Pharmacological/Pharmacodynamic': 2802, 'malarial': 2803, 'sometimes': 2804, 'hyperthermia': 2805, 'rigidity': 2806, 'myoclonus': 2807, 'autonomic': 2808, 'instability': 2809, 'fluctuations': 2810, 'status': 2811, 'progressing': 2812, 'delirium': 2813, 'coma': 2814, 'stopping': 2815, 'allowed': 2816, 'P450IIIA4': 2817, 'IIIA4': 2818, 'parent': 2819, 'torsades': 2820, 'de': 2821, 'pointes': 2822, 'definitively': 2823, 'substantial': 2824, 'Potentially': 2825, 'elc': 2826, 'qd': 2827, 'q.d': 2828, 'T1/2': 2829, 'pronounced': 2830, 'halved': 2831, 'advisable': 2832, 'likelihood': 2833, 'supporting': 2834, 'conclusion': 2835, 'inadvisable': 2836, 'administer': 2837, 'derived': 2838, 'R=': 2839, 'measure': 2840, 'Moreover': 2841, 'l50': 2842, 'bid': 2843, '375': 2844, '442': 2845, 'smoking': 2846, 'tid': 2847, '98': 2848, 'indices': 2849, 'competition': 2850, 'bar': 2851, 'press': 2852, 'genetically': 2853, 'strains': 2854, 'pointer': 2855, 'facilitates': 2856, 'goal': 2857, 'directed': 2858, 'disrupts': 2859, 'Conversion': 2860, 'phosphatase': 2861, 'abundance': 2862, 'wide': 2863, 'phosphatases': 2864, 'enough': 2865, 'submaximal': 2866, 'occurring': 2867, 'listed': 2868, 'chboramphenicol': 2869, 'abuse': 2870, 'vaiproic': 2871, 'unpredictable': 2872, 'true': 2873, 'susceptible': 2874, 'whose': 2875, 'Care': 2876, 'immunoanalytical': 2877, 'homocysteine': 2878, 'progestogen': 2879, 'work': 2880, 'determination': 2881, 'Gel': 2882, 'photic': 2883, 'evoked': 2884, 'representations': 2885, 'neural': 2886, 'pathways': 2887, 'activated': 2888, 'help': 2889, 'trace': 2890, 'potentials': 2891, 'recorded': 2892, 'IP': 2893, '0.6': 2894, '15.0': 2895, 'P1': 2896, 'N1': 2897, 'attenuating': 2898, \"'s\": 2899, 'P2': 2900, 'P3': 2901, 'enhancement': 2902, 'herbs': 2903, 'garlic': 2904, 'Allium': 2905, 'sativum': 2906, 'Stimulation': 2907, 'analog': 2908, 'octapeptide': 2909, 'cholecystokinin': 2910, '3H': 2911, 'spiroperidol': 2912, 'white': 2913, 'affinity': 2914, 'subcortical': 2915, 'structures': 2916, 'frontal': 2917, 'cortex': 2918, 'forebrain': 2919, 'displacing': 2920, 'replaced': 2921, 'assumed': 2922, 'dopamine2': 2923, 'serotonin2': 2924, 'underlies': 2925, 'simultaneous': 2926, 'indigestion': 2927, 'remedies': 2928, 'theoretical': 2929, 'ergot': 2930, 'dihydroDRUG1': 2931, 'dihydroDRUGOTHER': 2932, 'HT1B/1D': 2933, 'Agonists': 2934, 'exposures': 2935, 'rabbit': 2936, 'slices': 2937, 'assure': 2938, 'n=6': 2939, 'antiepileptic': 2940, 'quantities': 2941, 'systemically': 2942, 'enter': 2943, 'CSF': 2944, 'methyltetrahydro': 2945, 'folate': 2946, 'remain': 2947, 'orders': 2948, 'magnitude': 2949, 'intrathecally': 2950, 'fluorouracil': 2951, 'intervals': 2952, 'Human': 2953, 'potently': 2954, 'eight': 2955, 'ECG': 2956, 'Dosage': 2957, 'ruled': 2958, 'averaged': 2959, '302': 2960, '142': 2961, 'S.D': 2962, '251': 2963, '68': 2964, 'routinely': 2965, 'GP': 2966, 'IIb/IIIa': 2967, 'Compounds': 2968, 'includes': 2969, 'formally': 2970, 'Quantitative': 2971, 'approach': 2972, 'incisive': 2973, 'problems': 2974, 'encountered': 2975, 'longterm': 2976, 'illustrated': 2977, 'typical': 2978, 'estimated': 2979, 'Ontario': 2980, 'mortality': 2981, 'alcoholics': 2982, 'addicts': 2983, 'absolute': 2984, 'interest': 2985, 'Additive': 2986, 'cholinergic': 2987, 'hyperpolarized': 2988, 'delta': 2989, 'kappa': 2990, 'opioids': 2991, 'provides': 2992, 'considerable': 2993, 'Those': 2994, 'variety': 2995, 'escalating': 2996, 'last': 2997, 'acetyltransferase': 2998, 'consequences': 2999, 'Another': 3000, 'aggravating': 3001, 'incompatible': 3002, 'solutions': 3003, 'disturbances': 3004, 'contributing': 3005, 'Sj': 3006, 'grens': 3007, 'artificial': 3008, 'tears': 3009, 'DRUG2e': 3010, 'canine': 3011, 'DRUGOTHERe': 3012, 'DRUG1e': 3013, 'anionic': 3014, 'Possible': 3015, 'extrarenal': 3016, 'finding': 3017, 'releases': 3018, 'catecholamines': 3019, 'essential': 3020, 'suggests': 3021, 'oxi': 3022, 'dase': 3023, 'Absorption': 3024, 'bowel': 3025, 'delivery': 3026, 'intestines': 3027, 'timing': 3028, 'Concomitantly': 3029, 'great': 3030, 'Addition': 3031, 'deletion': 3032, 'net': 3033, 'variation': 3034, 'ultimate': 3035, 'prothrom': 3036, 'bin': 3037, '*': 3038, 'diet': 3039, 'unreliable': 3040, 'reportedly': 3041, 'dietary': 3042, 'deficiencies': 3043, 'affecting': 3044, 'elements': 3045, 'hepatotoxic': 3046, 'inhalation': 3047, 'weather': 3048, 'platelets': 3049, 'tendency': 3050, 'thrombus': 3051, 'formation': 3052, 'antiplatelet': 3053, 'weighed': 3054, 'Interferences': 3055, 'color': 3056, 'alkaline': 3057, 'red': 3058, 'orange': 3059, 'spectrophotometrically': 3060, 'divalent': 3061, 'trivalent': 3062, 'cations': 3063, 'Numerous': 3064, 'naltrexol': 3065, 'opioid': 3066, 'analgesics': 3067, 'All': 3068, 'arrhythmia': 3069, 'vascular': 3070, 'neuron': 3071, 'included': 3072, 'HACA': 3073, 'titers': 3074, 'allergic': 3075, 'hypersensitivity': 3076, 'diagnostic': 3077, 'mycophenolate': 3078, 'C12hr': 3079, '0.1': 3080, '10th': 3081, 'AST': 3082, 'receive': 3083, 'regression': 3084, 'meaningful': 3085, 'reductions': 3086, 'absorbent': 3087, 'diarrhea': 3088, 'micrograms/mL': 3089, 'Jaff': 3090, 'Europe': 3091, 'suffering': 3092, '1,000': 3093, 'Lack': 3094, 'disposition': 3095, 'later': 3096, 'Days': 3097, 'times/day': 3098, 'Subjects': 3099, 'placebo/day': 3100, 'impact': 3101, 'tmax': 3102, 'phosphorylated': 3103, '110': 3104, 'produces': 3105, 'DRUGOTHER.When': 3106, 'hallucinations': 3107, 'irrational': 3108, 'DRUG2.When': 3109, 'DRUG1.When': 3110, 'Phase': 3111, 'I': 3112, 'CCI': 3113, '779': 3114, 'relapsed': 3115, 'myeloma': 3116, 'preclinical': 3117, 'mTOR': 3118, 'synergy': 3119, 'represents': 3120, 'MM': 3121, 'See': 3122, 'dramatically': 3123, '16.6': 3124, '49.1': 3125, 'microg/mL': 3126, 'fluvoxamine': 3127, 'ataxia': 3128, 'genotypes': 3129, 'phenytoin': 3130, 'homozygous': 3131, 'wild': 3132, 'alleles': 3133, '1/': 3134, 'condition': 3135, 'worse': 3136, 'working': 3137, 'properly': 3138, 'worsen': 3139, 'collapse': 3140, 'Prolonged': 3141, 'compatible': 3142, 'exchange': 3143, 'Wyeth': 3144, 'Ayerst': 3145, 'Laboratories': 3146, 'intraperitoneal': 3147, 'experienced': 3148, 'persist': 3149, 'borne': 3150, 'anorexia': 3151, 'tachypnea': 3152, 'lethargy': 3153, 'mono': 3154, 'oxidases': 3155, 'monooxygenase': 3156, 'Intravenous': 3157, 'effectively': 3158, 'cardioactive': 3159, 'fibrillation': 3160, 'smaller': 3161, 'V': 3162, 'node': 3163, 'ADL': 3164, '2698': 3165, '3,4': 3166, 'dimethyl': 3167, 'hydroxyphenyl': 3168, 'piperidine': 3169, 'prevents': 3170, 'analgesia': 3171, 'selectively': 3172, 'reversing': 3173, 'lactulose': 3174, 'hydrogen': 3175, 'breath': 3176, '103': 3177, '.005': 3178, 'prevented': 3179, '.004': 3180, 'Postoperatively': 3181, '45': 3182, 'randomly': 3183, 'assigned': 3184, '0.15': 3185, 'pupil': 3186, 'constriction': 3187, 'differed': 3188, '.002': 3189, 'anitagonism': 3190, 'comparisons': 3191, 'historical': 3192, 'A.C.': 3193, 'Cmin': 3194, '48': 3195, 'historicalcontrol': 3196, 'andCmin': 3197, 'triglycerides': 3198, 'SGOT': 3199, 'SGPT': 3200, 'Appropriate': 3201, 'hyperlipidemia': 3202, 'comprehensive': 3203, 'concerning': 3204, 'refer': 3205, 'prescribing': 3206, 'accentuate': 3207, 'electrolyte': 3208, 'Experience': 3209, '1400': 3210, 'exacerbation': 3211, 'Long': 3212, 'Acting': 3213, 'antianginal': 3214, 'Immediate': 3215, 'Release': 3216, 'Capsules': 3217, 'adjusting': 3218, 'digitalization': 3219, 'Extended': 3220, '74': 3221, 'cautious': 3222, '3.6': 3223, 't.i.d': 3224, 'psychiatric': 3225, 'consequence': 3226, 'renin': 3227, 'PRA': 3228, 'Most': 3229, 'attributed': 3230, 'prostaglandin': 3231, 'Blunting': 3232, 'adrenoceptor': 3233, 'antiinflammatory': 3234, 'Example': 3235, 'competing': 3236, 'aluminum': 3237, 'much': 3238, 'chance': 3239, 'Using': 3240, 'medicine': 3241, 'irregular': 3242, 'heartbeat': 3243, 'Acute': 3244, 'subjective': 3245, 'stress': 3246, 'OBJECTIVES': 3247, 'METHODS': 3248, 'session': 3249, 'subject': 3250, 'physiological': 3251, 'rodent': 3252, 'cortisol': 3253, 'add': 3254, 'des': 3255, 'ciclesonide': 3256, 'remained': 3257, 'intranasal': 3258, 'inhaler': 3259, 'wait': 3260, 'allows': 3261, 'air': 3262, 'passages': 3263, 'restriction': 3264, 'precipitous': 3265, '6.25': 3266, 'Having': 3267, 'Vasodilator': 3268, 'Activity': 3269, 'Causing': 3270, 'Renin': 3271, 'activate': 3272, 'Affecting': 3273, 'Sympathetic': 3274, 'sympathetic': 3275, 'documented': 3276, 'Of': 3277, 'Endogenous': 3278, 'Prostaglandin': 3279, 'Synthesis': 3280, 'hypertensive': 3281, 'partially': 3282, 'published': 3283, '2002': 3284, '1984': 3285, 'Drs': 3286, 'Rimmer': 3287, 'Richens': 3288, 'University': 3289, 'Wales': 3290, 'states': 3291, 'anion': 3292, 'extends': 3293, 'Jaffe': 3294, 'ED50': 3295, 'onset': 3296, 'lengthened': 3297, 'shortened': 3298, 'PK': 3299, '1mg': 3300, '900': 3301, 'demonstrates': 3302, 'sharing': 3303, 'inotropes': 3304, 'exacerbated': 3305, 'breakdown': 3306, 'diffusion': 3307, 'antibacterial': 3308, 'extend': 3309, 'augments': 3310, 'depolarising': 3311, 'ganglionic': 3312, 'anaesthetised': 3313, 'precipitated': 3314, 'reason': 3315, 'restricted': 3316, 'adenosine': 3317, 'phenylDRUG2': 3318, 'cyclopentyl': 3319, 'dipropylxanthine': 3320, 'light/dark': 3321, 'phenylDRUGOTHER': 3322, 'phenylDRUG1': 3323, 'anxiogenic': 3324, 'A2': 3325, 'N6': 3326, 'cyclopentyladenosine': 3327, 'A1': 3328, 'spent': 3329, 'light': 3330, 'zone': 3331, 'hydrolysis': 3332, 'esterases': 3333, 'CYP450': 3334, 'Single': 3335, '625': 3336, 'influenced': 3337, 'n=77': 3338, 'n=72': 3339, 'n=75': 3340, 'n=21': 3341, 'n=79': 3342, 'n=70': 3343, 'n=177': 3344, 'n=35': 3345, 'n=15': 3346, 'appreciated': 3347, 'Noncardioselective': 3348, 'porpranolol': 3349, 'exacerbate': 3350, 'rebound': 3351, 'cardioselective': 3352, 'substituted': 3353, 'Ten': 3354, 'parentheses': 3355, '115': 3356, 'cough': 3357, 'cold': 3358, 'Poor': 3359, '2D6': 3360, '1C': 3361, 'antiarrhythrnics': 3362, 'propatenone': 3363, 'seriraline': 3364, 'vary': 3365, 'depend': 3366, 'switching': 3367, 'desirable': 3368, 'whenever': 3369, 'going': 3370, 'Conversely': 3371, 'Combinations': 3372, 'discrimination': 3373, 'psychotomimetic': 3374, 'lever': 3375, 'signalled': 3376, 'unsignalled': 3377, 'differential': 3378, 'reinforcement': 3379, 'rates': 3380, 'DRL': 3381, 'procedures': 3382, 'distinctive': 3383, 'task': 3384, 'training': 3385, 'interresponse': 3386, 'behaviors': 3387, 'future': 3388, 'focus': 3389, 'investigation': 3390, 'Twelve': 3391, 'volunteer': 3392, 'H': 3393, 'adult': 3394, 'liquid': 3395, 'q12h': 3396, 'assays': 3397, 'Coombs': 3398, 'g/mL': 3399, 'threatening': 3400, 'Previous': 3401, 'failures': 3402, 'authors': 3403, 'p.o': 3404, '48.59': 3405, '+/': 3406, '8.52': 3407, '49.9': 3408, '9.93': 3409, '7.73': 3410, '2.6': 3411, '6.6': 3412, '1.1': 3413, 'channel': 3414, 'carbohydrate': 3415, 'splitting': 3416, 'bioavailabillty': 3417, 'bioequivalent': 3418, 'glaucoma': 3419, 'John': 3420, 'metabolizer': 3421, 'phenotype': 3422, 'QRS': 3423, 'RR': 3424, 'slowly': 3425, 'compassionate': 3426, 'program': 3427, 'improved': 3428, 'ectopy': 3429, 'leave': 3430, 'hydroxide': 3431, 'point': 3432, 'returned': 3433, 'pre': 3434, 'seven': 3435, 'Usage': 3436, 'lysine': 3437, 'Improved': 3438, 'parathyroid': 3439, 'stage': 3440, 'hy': 3441, 'parathyroidism': 3442, 'fibrosis': 3443, 'Medical': 3444, 'reducing': 3445, 'PTH': 3446, 'ascertain': 3447, 'Reduction': 3448, 'Hypertensive': 3449, 'crises': 3450, 'within14': 3451, 'PTCA/PCI': 3452, 'expanders': 3453, 'Among': 3454, '494': 3455, 'antibodies': 3456, 'emergent': 3457, 'Thirty': 3458, 'Fischer': 3459, '344': 3460, 'equal': 3461, '8.0': 3462, '17.0': 3463, 'mg/kg/ml': 3464, 'v/v': 3465, 'prepared': 3466, 'stock': 3467, 'environmental': 3468, 'biological': 3469, 'respiration': 3470, 'permeability': 3471, 'Candida': 3472, 'albicans': 3473, 'hematopoiesis': 3474, 'restored': 3475, 'Mild': 3476, 'sought': 3477, 'hospitalization': 3478, '430,455': 3479, 'contributed': 3480, '407,370': 3481, 'person': 3482, 'odds': 3483, '1.73': 3484, '2.38': 3485, '1.63': 3486, '1.11': 3487, '1.64': 3488, '1.27': 3489, '2.12': 3490, '1.47': 3491, '1.02': 3492, '2.11': 3493, '1.75': 3494, '1.30': 3495, '2.35': 3496, 'package': 3497, 'insert': 3498, 'progestin': 3499, 'contraceptives': 3500, 'US': 3501, 'review': 3502, '0.075': 3503, '0.35': 3504, 'applicable': 3505, 'Ophthalmic': 3506, 'blunt': 3507, 'pulse': 3508, 'ophthalmic': 3509, 'retard': 3510, 'start': 3511, 'according': 3512, 'accompanied': 3513, 'organ': 3514, 'transplant': 3515, 'immuno': 3516, 'suppressant': 3517, 'resins': 3518, 'mucosa': 3519, 'metabolize': 3520, 'throughout': 3521, 'Enhancement': 3522, 'humoral': 3523, 'inactivated': 3524, 'Newcastle': 3525, 'ginseng': 3526, 'stem': 3527, 'leaf': 3528, 'saponins': 3529, 'chickens': 3530, 'ND': 3531, 'AI': 3532, 'vaccines': 3533, 'experiment': 3534, 'BW': 3535, 'intramuscularly': 3536, 'injected': 3537, 'inoculated': 3538, 'vaccination': 3539, 'Considering': 3540, 'promising': 3541, 'adjuvant': 3542, 'improve': 3543, 'immunization': 3544, 'poultry': 3545, 'pacemaker': 3546, 'mg/m2': 3547, 'infusions': 3548, 'myelosuppression': 3549, 'sequence': 3550, 'DRUG1ol': 3551, 'DRUGOTHERol': 3552, 'Hypersensitivity': 3553, 'Reactions': 3554, 'Cremophor': 3555, 'EL': 3556, 'concentrate': 3557, 'premedicated': 3558, 'diphen': 3559, 'hydramine': 3560, 'dyspnea': 3561, 'angioedema': 3562, 'generalized': 3563, 'urticaria': 3564, 'immediate': 3565, 'aggressive': 3566, 'proteins': 3567, '56.9': 3568, 'tubularly': 3569, 'secreted': 3570, 'qid': 3571, '79': 3572, 'interrupt': 3573, 'adrenocorticoids': 3574, 'cortisone': 3575, 'centrally': 3576, 'Coumarin': 3577, 'Derivative': 3578, 'Anticoagulants': 3579, 'derivative': 3580, 'anticoagulants': 3581, 'Severe': 3582, 'predictable': 3583, 'hypokalemic': 3584, 'acutely': 3585, 'worsened': 3586, 'exceeded': 3587, 'beta2': 3588, '873': 3589, 'entry': 3590, '528': 3591, 'bronchospasm': 3592, 'COPD': 3593, 'mask': 3594, 'residual': 3595, 'combine': 3596, 'dangerous': 3597, 'competes': 3598, 'oxidized': 3599, 'irbesartan': 3600, '2C9': 3601, 'substrates/inhibitors': 3602, 'negligible': 3603, 'Between': 3604, 'And': 3605, '3000': 3606, 'refractory': 3607, '1500': 3608, 'Dose': 3609, 'recommended.DRUG1': 3610, 'recommended.DRUGOTHER': 3611, '0.03': 3612, 'luteinizing': 3613, 'progesterone': 3614, 'hypo': 3615, 'prothrombinemic': 3616, 'Under': 3617, 'relevance': 3618, 'Is': 3619, 'causal': 3620, 'CyP450': 3621, 'classes': 3622, 'cystic': 3623, 'norDRUG2': 3624, 'norDRUGOTHER': 3625, 'norDRUG1': 3626, 'reverse': 3627, 'obstetric': 3628, 'oxytocic': 3629, 'persistent': 3630, 'cerebrovascular': 3631, 'accidents': 3632, 'rt': 3633, 'PA': 3634, 'Catecholamine': 3635, 'unexpected': 3636, 'Broad': 3637, 'Spectrum': 3638, 'Antibiotics': 3639, 'sterilize': 3640, 'contribution': 3641, 'microflora': 3642, 'chains': 3643, 'methylthiotetrazole': 3644, 'methylthiadiazole': 3645, 'deficiency': 3646, 'erythromycin': 3647, 'ERMBT': 3648, '1,200': 3649, 'washout': 3650, 'Cohort': 3651, 'Serial': 3652, 'samples': 3653, 'O': 3654, 'desacetyl': 3655, 'ss': 3656, '2.93': 3657, 'desacetylDRUG2': 3658, '13.3': 3659, 'desacetylDRUGOTHER': 3660, 'desacetylDRUG1': 3661, '187': 3662, '156': 3663, 'poorly': 3664, 'undetectable': 3665, 'attenuated': 3666, 'tended': 3667, '648': 3668, 'coat': 3669, 'core': 3670, 'tightly': 3671, 'firmly': 3672, 'Intron': 3673, 'Drug/LaboratoryTest': 3674, 'bioassay': 3675, '99.5': 3676, '99.3': 3677, 'reach': 3678, 'to10': 3679, 'm': 3680, '99.2': 3681, '97.5': 3682, 'representing': 3683, 'twofold': 3684, 'andtolbutamide': 3685, 'TORADOLORAL': 3686, 'TORADOLIV/IM': 3687, '5000': 3688, 'U': 3689, 'template': 3690, '6.4': 3691, '3.2': 3692, '11.4': 3693, '6.0': 3694, '3.4': 3695, '5.1': 3696, '8.5': 3697, 'extremely': 3698, 'IV/IM': 3699, 'normovolemic': 3700, 'ORAL': 3701, 'threefold': 3702, '17.8': 3703, 'g/h/mL': 3704, '15.1': 3705, 'depleted': 3706, 'Sporadic': 3707, 'Hallucinations': 3708, 'postoperative': 3709, 'mix': 3710, 'NYHA': 3711, 'II': 3712, 'III': 3713, 'Reversible': 3714, 'allergy': 3715, 'sinus': 3716, 'ED95': 3717, 'intubating': 3718, 'faster': 3719, 'Infusion': 3720, 'varying': 3721, 'MAC': 3722, 'Minimum': 3723, 'Alveolar': 3724, 'Fifteen': 3725, 'volatile': 3726, 'surgical': 3727, 'categories': 3728, 'indirect': 3729, 'Commonly': 3730, 'Initial': 3731, 'syndrome': 3732, 'Spontaneous': 3733, 'dysfunction': 3734, 'hyperpyrexia': 3735, 'stupor': 3736, 'muscular': 3737, 'temperature': 3738, 'One': 3739, 'crisis': 3740, 'horses': 3741, 'Evoked': 3742, 'hind': 3743, 'limb': 3744, 'digital': 3745, 'extensor': 3746, 'tension': 3747, 'hoof': 3748, 'twitch': 3749, 'h': 3750, 'again': 3751, 'DRUG2/kg': 3752, 'bwt': 3753, 'i.v': 3754, 'Recovery': 3755, '7.7': 3756, '0.7': 3757, '11.5': 3758, '2.7': 3759, 'fade': 3760, '13.8': 3761, '0.8': 3762, '13.7': 3763, '87': 3764, 'DFCR': 3765, 'DFUR': 3766, 'Altered': 3767, 'coagulation': 3768, 'regularly': 3769, 'Deaths': 3770, 'enterocolitis': 3771, 'dehydration': 3772, 'leukopenic': 3773, 'undesirable': 3774, 'successfully': 3775, 'ototoxic': 3776, 'anecdotal': 3777, 'misuse': 3778, 'misused': 3779, 'self': 3780, 'crushed': 3781, 'act': 3782, 'advice': 3783, 'warned': 3784, 'danger': 3785, 'posed': 3786, 'hydroDRUG1': 3787, 'chemotherapy': 3788, 'surgery': 3789, 'routes': 3790, 'hydroDRUGOTHER': 3791, 'Blood': 3792, 'nonselective': 3793, 'various': 3794, 'Clearance': 3795, 'antitumor': 3796, 'murine': 3797, 'models': 3798, 'approx': 3799, 'amplifies': 3800, 'massively': 3801, 'Avoid': 3802, 'Consider': 3803, 'confusional': 3804, 'Exert': 3805, 'particular': 3806, 'combining': 3807, 'Particularly': 3808, 'develop': 3809, 'fever': 3810, 'obstipation': 3811, 'ileus': 3812, 'vasoactive': 3813, '2C8': 3814, '2E1': 3815, 'Methoxycoronaridine': 3816, 'MC': 3817, 'antiaddictive': 3818, 'Like': 3819, 'unlike': 3820, 'nondrug': 3821, 'reinforcer': 3822, 'ameliorate': 3823, 'nucleus': 3824, 'accumbens': 3825, 'accumbal': 3826, 'stereotypic': 3827, 'stimulants': 3828, 'affinities': 3829, 'nicotinic': 3830, 'NMDA': 3831, 'sigma': 3832, 'channels': 3833, 'HT': 3834, 'sequestered': 3835, 'narrower': 3836, 'contain': 3837, 'gonadotropin': 3838, 'transiently': 3839, 'minimally': 3840, 'blunted': 3841, 'prolactin': 3842, 'Lotensin': 3843, 'parts': 3844, 'STUDY': 3845, 'men': 3846, 'CONCLUSION': 3847, 'dosages': 3848, 'doubled': 3849, 'le': 3850, 'iPTH': 3851, 'initiates': 3852, 'discontinues': 3853, 'Suppression': 3854, 'metastasis': 3855, 'adenocarcinomas': 3856, 'wistar': 3857, 'BACKGROUND': 3858, 'Wistar': 3859, 'From': 3860, 'beginning': 3861, '7.4': 3862, 'microg/kg': 3863, 'fo': 3864, 'carcinogenesis': 3865, 'location': 3866, 'histologic': 3867, 'depth': 3868, 'apoptotic': 3869, 'vascularity': 3870, 'lymphatic': 3871, 'invasion': 3872, 'isolates': 3873, 'Staphylococcus': 3874, 'aureus': 3875, 'aimed': 3876, 'MRSA': 3877, 'interpreted': 3878, 'criteria': 3879, 'Supraventricular': 3880, 'cardiotoxicity': 3881, 'mcg/': 3882, 'Suspension': 3883, 'Alternatives': 3884, 'PCP': 3885, 'structurally': 3886, 'Supplements/DRUG2': 3887, 'Products': 3888, 'multivalent': 3889, '3500': 3890, 'enrolled': 3891, 'osteoporosis': 3892, 'Prevention': 3893, 'peptic': 3894, 'monthly': 3895, 'DRUG1/DRUG2s': 3896, 'DRUG1/DRUGOTHERs': 3897, 'DRUGOTHER/DRUG1s': 3898, '62': 3899, '2946': 3900, '28.9': 3901, '30.7': 3902, '1602': 3903, '21.7': 3904, '22.0': 3905, 'irritation': 3906, 'themselves': 3907, 'Via': 3908, 'hydroxylation': 3909, 'Demonstrated': 3910, 'Significance': 3911, 'Basis': 3912, 'Involving': 3913, '46': 3914, 'Available': 3915, 'Levo': 3916, 'Dromoran': 3917, 'manufacturer': 3918, 'FDA': 3919, 'nonopioid': 3920, 'tolerant': 3921, 'placental': 3922, 'vessels': 3923, '2.3': 3924, 'nonclinical': 3925, 'Expected': 3926, 'assessments': 3927, '2/3': 3928, 'Pre': 3929, 'upward': 3930, 'iatrogenic': 3931, '99mTc': 3932, 'methylene': 3933, 'diphosphonate': 3934, 'MDP': 3935, 'abnormal': 3936, 'uptake': 3937, 'scintigraphy': 3938, 'TDM': 3939, 'employing': 3940, 'presented': 3941, 'serial': 3942, 'alteration': 3943, 'Neuropathy': 3944, 'neuropathy': 3945, 'ADVERSE': 3946, 'REACTIONS': 3947, 'CLcr=15': 3948, 'Chewable/Dispersible': 3949, 'Buffered': 3950, 'Powder': 3951, 'Whose': 3952, 'Can': 3953, 'Be': 3954, 'Affected': 3955, 'Level': 3956, 'Acidity': 3957, 'Stomach': 3958, '111': 3959, '114': 3960, '37': 3961, 'marketed': 3962, 'chewable/dispersible': 3963, 'optimal': 3964, 'consulting': 3965, '84': 3966, 'Hyperpyrexia': 3967, 'Paralytic': 3968, 'delaying': 3969, 'Discontinuation': 3970, 'Transient': 3971, 'Pharmacologic': 3972, 'Controlled': 3973, 'uncontrolled': 3974, 'domestic': 3975, 'predict': 3976, 'left': 3977, '60mg': 3978, 'contractility': 3979, 'conductivity': 3980, 'automaticity': 3981, 'dilation': 3982, 'sodation': 3983, 'ten': 3984, 'Behavioral': 3985, 'bred': 3986, 'Mice': 3987, '20th': 3988, 'divergently': 3989, 'selected': 3990, 'LST': 3991, 'SST': 3992, 'RBC': 3993, 'sensitization': 3994, 'Drug/': 3995, 'endocrine': 3996, 'clinician': 3997, 'proof': 3998, 'Talk': 3999, 'Wait': 4000, 'Tell': 4001, 'intraconazole': 4002, 'sleeping': 4003, '3900': 4004, 'sheep': 4005, 'types': 4006, 'conscious': 4007, 'downward': 4008, 'bacteriostatic': 4009, 'prospective': 4010, 'c': 4011, '8.1': 4012, '7.2': 4013, '369': 4014, '367': 4015, 'existing': 4016, 'empiric': 4017, 'maintaining': 4018, 'characterized': 4019, 'dysesthesia': 4020, 'dihydroDRUG2': 4021, 'intensified': 4022, 'Refer': 4023, 'Repeated': 4024, 'treatments': 4025, 'DRUG1/kg': 4026, 'antiprothrombinemic': 4027, 'bishydroxy': 4028, 'wethers': 4029, 'ewes': 4030, 'erythrocyte': 4031, 'acetylcholinesterase': 4032, 'AChE': 4033, 'DRUG2/kg/day': 4034, 'voltage': 4035, 'subtypes': 4036, 'omega': 4037, 'conotoxin': 4038, 'GVIA': 4039, 'agatoxin': 4040, 'IVA': 4041, 'bovine': 4042, 'chromaffin': 4043, 'coupled': 4044, 'DRUGOTHER/omega': 4045, 'GVIA/omega': 4046, 'VIA': 4047, 'presumptive': 4048, 'Q': 4049, 'DRUG2/omega': 4050, 'DRUG1/omega': 4051, 'cellular': 4052, 'antistress': 4053, 'ototoxicity': 4054, 'COX': 4055, 'Samples': 4056, 'immunoreactive': 4057, 'infinity': 4058, 'geometric': 4059, 'ratios': 4060, 'DRUG1/placebo': 4061, '1.04': 4062, '0.94': 4063, '1.14': 4064, '1.09': 4065, '1.00': 4066, '0.91': 4067, '1.10': 4068, 'DRUGOTHER/placebo': 4069, 'harmonic': 4070, '45.7': 4071, '43.4': 4072, 'SD': 4073, '228.2': 4074, '30.8': 4075, '235.1': 4076, '39.1': 4077, 'micrograms/120': 4078, 'dyscrasia': 4079, 'myelotoxicity': 4080, 'Bone': 4081, 'Radiation': 4082, 'Neurotoxic': 4083, 'neurologic': 4084, 'Mitomycin': 4085, 'shortness': 4086, 'Killed': 4087, 'para': 4088, 'aminobenzoic': 4089, 'sunscreens': 4090, 'Especially': 4091, 'parenterally': 4092, 'natriuresis': 4093, 'hyperreninemia': 4094, 'blunts': 4095, 'necessitating': 4096, 'phe': 4097, 'nothiazines': 4098, 'sympathomimet': 4099, 'ics': 4100, 'NIDDM': 4101, 'gly': 4102, 'buride': 4103, 'pharmaco': 4104, 'dynamics': 4105, 'episodes': 4106, 'sedating': 4107, 'Orally': 4108, 'Disintegrating': 4109, 'olizing': 4110, 'document': 4111, 'Physiological': 4112, 'possessing': 4113, 'myelotoxic': 4114, 'cardiotoxic': 4115, 'cis': 4116, 'platinum': 4117, 'interferon': 4118, 'alfa': 4119, 'myocardial': 4120, 'infarction': 4121, 'myocarditis': 4122, 'hypokinesia': 4123, 'rhabdomyolysis': 4124, 'Exacerbation': 4125, 'autoimmune': 4126, 'disorders': 4127, 'crescentic': 4128, 'IgA': 4129, 'glomerulonephritis': 4130, 'oculo': 4131, 'bulbar': 4132, 'thyroiditis': 4133, 'bullous': 4134, 'pemphigoid': 4135, 'Stevens': 4136, 'Johnson': 4137, 'hyperbilirubinemia': 4138, 'confusion': 4139, 'Delayed': 4140, '12.6': 4141, '501': 4142, 'interleukin': 4143, 'atypical': 4144, 'degrading': 4145, 'retinal': 4146, 'transduction': 4147, 'intravitreal': 4148, 'adeno': 4149, 'cDNA': 4150, 'encoding': 4151, 'green': 4152, 'fluorescent': 4153, 'GFP': 4154, 'chicken': 4155, 'actin': 4156, 'promoter': 4157, 'delivered': 4158, 'ganglion': 4159, 'layer': 4160, 'outer': 4161, 'retina': 4162, 'Electroretinograms': 4163, 'survived': 4164, 'pheochromocytoma': 4165, 'convert': 4166, 'overload': 4167, 'ml': 4168, 'glycemia': 4169, 'neutralized': 4170, 'streptozotocin': 4171, 'estimation': 4172, 'Again': 4173, 'Selective': 4174, 'survival': 4175, 'Pseudomonas': 4176, 'aeruginosa': 4177, 'serotype': 4178, 'O11': 4179, 'infection': 4180, 'curves': 4181, 'pure': 4182, 'powders': 4183, 'survive': 4184, 'explain': 4185, 'shift': 4186, 'demethylated': 4187, 'anesthetic': 4188, '56': 4189, 'im': 4190, 'correlated': 4191, 'potency': 4192, 'ration': 4193, '3:1': 4194, 'Molecular': 4195, 'yeast': 4196, 'value': 4197, 'rationalized': 4198, 'i': 4199, 'lysing': 4200, 'ii': 4201, 'efficiently': 4202, 'membrane': 4203, 'sterol': 4204, 'ergosterol': 4205, 'repeat': 4206, 'DRUGOTHER/levonorgestrol': 4207, 'DRUG2/levonorgestrol': 4208, 'DRUG1/levonorgestrol': 4209, 'metal': 4210, 'methionine': 4211, 'protect': 4212, 'DOSAGE': 4213, 'AND': 4214, 'ADMINISTRATION': 4215, 'Adjustment': 4216, 'sections': 4217, 'Substances': 4218, 'neutropenic': 4219, '3.8': 4220, 'plasmaconcentration': 4221, 'triazolo': 4222, 'colon': 4223, 'migraine': 4224, 'vasospastic': 4225, 'HTv': 4226, 'concentrates': 4227, 'adequately': 4228, 'Simultaneous': 4229, 'antifibrinolytic': 4230, 'emergence': 4231, 'children': 4232, 'retrospectively': 4233, 'reviewed': 4234, 'records': 4235, 'oncology': 4236, 'TIVA': 4237, 'repeatedly': 4238, 'radiation': 4239, 'EA': 4240, 'recur': 4241, '123': 4242, 'anesthetics': 4243, 'sessions': 4244, 'prevention': 4245, 'tissue': 4246, 'H1': 4247, 'stimulate': 4248, 'proliferation': 4249, 'prostatic': 4250, 'epithelium': 4251, 'Prostatic': 4252, 'proliferates': 4253, 'defined': 4254, 'medium': 4255, 'consisting': 4256, 'RPMI1640': 4257, 'microgram/ml': 4258, 'ng/ml': 4259, '3.7': 4260, 'micrograms/ml': 4261, 'IU/ml': 4262, 'mitogenic': 4263, 'stimulated': 4264, 'Higher': 4265, 'regulate': 4266, 'prostate': 4267, 'modification': 4268, 'fractions': 4269, 'scale': 4270, 'dependence': 4271, 'organs': 4272, 'actively': 4273, 'concentrating': 4274, 'ClO': 4275, 'radioDRUG2': 4276, 'radioDRUGOTHER': 4277, 'radioDRUG1': 4278, 'accumulated': 4279, '195': 4280, '99m': 4281, 'TcO': 4282, 'sublingual': 4283, 'middle': 4284, 'Potentiation': 4285, 'supine': 4286, 'systolic/diastolic': 4287, '6/5': 4288, 'Alpha': 4289, 'standing': 4290, 'systolic': 4291, 'separated': 4292, 'Upon': 4293, 'High': 4294, 'protection': 4295, 'neutralizing': 4296, 'protects': 4297, 'permit': 4298, '9.9': 4299, 'g/m2': 4300, 'Comparison': 4301, '202.5': 4302, 'permits': 4303, 'interfering': 4304, 'transmission': 4305, 'curare': 4306, 'Excessive': 4307, 'resolution': 4308, 'Paget': 4309, 'Disease': 4310, 'resorptive': 4311, 'nasal': 4312, 'spray': 4313, 'quinolone': 4314, 'infectives': 4315, 'antigen': 4316, 'PSA': 4317, 'Month': 4318, 'Further': 4319, 'older': 4320, 'benign': 4321, 'hyperplasia': 4322, 'BPH': 4323, 'factors': 4324, 'watched': 4325, 'Initiating': 4326, 'intestine': 4327, 'elapse': 4328, 'tend': 4329, 'thyroxine': 4330, 'globulin': 4331, 'TBg': 4332, 'nonfunctioning': 4333, 'gland': 4334, 'functioning': 4335, 'antidepressant': 4336, 'numerous': 4337, 'Decreases': 4338, 'nephrosis': 4339, 'acromegaly': 4340, 'Longitudinal': 4341, 'assessment': 4342, 'novo': 4343, 'characterize': 4344, 'INN': 4345, 'transplantation': 4346, 'METHOD': 4347, 'multicenter': 4348, '101': 4349, '1:1:1': 4350, 'context': 4351, 'ANOVA': 4352, 'exhibited': 4353, 'temporal': 4354, 'patterns': 4355, '.13': 4356, '.82': 4357, '.76': 4358, 'nonabsorbable': 4359, 'drop': 4360, 'colonic': 4361, 'FOR': 4362, 'INJECTION': 4363, 'Women': 4364, 'structural': 4365, 'similarity': 4366, 'lasma': 4367, 'isoform': 4368, 'DRUG2metabolism': 4369, 'DRUG2interactions': 4370, 'DRUGOTHERinteractions': 4371, 'DRUG1interactions': 4372, 'DRUG1treatment': 4373, 'DRUG1plasma': 4374, 'DRUGOTHERplasma': 4375, 'aggravated': 4376, 'often': 4377, 'Here': 4378, '3,7': 4379, 'dihydroxyflavone': 4380, 'Enterococcus': 4381, 'faecalis': 4382, 'faecium': 4383, 'Little': 4384, 'congeners': 4385, 'coexisting': 4386, 'contents': 4387, 'alcoholic': 4388, 'beverages': 4389, 'SH/DA': 4390, 'SH/FA': 4391, 'submitted': 4392, 'hydroalcoholic': 4393, 'mDRUG1': 4394, 'proportions': 4395, 'distilled': 4396, 'fermented': 4397, 'mDRUGOTHER': 4398, 'hepatoxicity': 4399, 'prolongs': 4400, 'tenth': 4401, '1/10': 4402, 'Cardiac': 4403, 'mesenteric': 4404, 'suppress': 4405, 'DRUGOTHERrgic': 4406, 'DRUG2rgic': 4407, 'irritability': 4408, 'EXTREME': 4409, 'vasoconstricting': 4410, 'alternatives': 4411, 'oxidative': 4412, 'reactive': 4413, 'oxygen': 4414, 'ROS': 4415, 'implicated': 4416, 'pesticides': 4417, 'ip': 4418, 'ig': 4419, '4th': 4420, 'TBARS': 4421, 'radical': 4422, 'peroxidation': 4423, 'tuberculosis': 4424, 'Isoenzyme': 4425, 'System': 4426, 'Genentech': 4427, 'pseudomonal': 4428, 'CYP2C8': 4429, 'dissolving': 4430, 'doubling': 4431, 'Foods': 4432, 'Fortified': 4433, 'elemental': 4434, 'FeSO4': 4435, 'fortified': 4436, 'breakfast': 4437, 'cereals': 4438, 'formula': 4439, 'DRUG1/6': 4440, 'oz': 4441, 'DRUGOTHER/6': 4442, 'reddish': 4443, 'ketones': 4444, 'KRM': 4445, '1648': 4446, 'singly': 4447, 'Mycobacterium': 4448, 'ulcerans': 4449, '0.012': 4450, 'mg/l': 4451, 'smallest': 4452, 'minute': 4453, 'Nasal': 4454, 'Spray': 4455, 'cycling': 4456, 'Persons': 4457, 'invalidate': 4458, 'aminosalicylic': 4459, 'heavy': 4460, 'malabsorption': 4461, 'Note': 4462, 'dissolution': 4463, 'aerosol': 4464, 'particles': 4465, 'extract': 4466, 'lung': 4467, 'Aerosol': 4468, 'generated': 4469, 'dried': 4470, 'cascade': 4471, 'impactor': 4472, 'characterization': 4473, 'impinger': 4474, 'verified': 4475, 'equilibrium': 4476, 'solubilization': 4477, 'Analysis': 4478, 'ultracentrifugation': 4479, 'equilibration': 4480, 'aqueous': 4481, 'subtherapeutic': 4482, 'people': 4483, 'cigarettes': 4484, 'tobacco': 4485, 'personality': 4486, 'characteristics': 4487, 'user': 4488, 'impulsivity': 4489, 'sensation': 4490, 'seeking': 4491, 'underlying': 4492, 'Nonclinical': 4493, 'solubility': 4494, '1a': 4495, 'IM': 4496, 'event': 4497, 'General': 4498, 'sclerosis': 4499, 'inconclusive': 4500, 'chemical': 4501, 'resemblance': 4502, 'thereafter': 4503, 'appropriately': 4504, 'Rhabdomyolysis': 4505, 'H2antagonists': 4506, 'Tinnitus': 4507, 'hearing': 4508, 'Edema': 4509, 'bactercidal': 4510, 'T': 4511, '57': 4512, 'documenting': 4513, 'translocation': 4514, 'lesser': 4515, 'translocating': 4516, 'oleate': 4517, 'transferring': 4518, 'phosphohydrolase': 4519, 'commentaries': 4520, 'editorials': 4521, 'international': 4522, 'January': 4523, '1999': 4524, 'August': 4525, '2000': 4526, 'searches': 4527, 'MEDLINE': 4528, 'PREMEDLINE': 4529, 'Pharmaceutical': 4530, 'Abstracts': 4531, 'terms': 4532, 'erectile': 4533, 'prostatectomy': 4534, 'mellitus': 4535, 'metabolizes': 4536, 'hence': 4537, 'drugs.1,3': 4538, 'DRUGOTHER.4,5': 4539, 'Chemotherapy': 4540, 'Tumor': 4541, '388': 4542, 'leukemia': 4543, 'DRUG2.4,5': 4544, 'DRUG1.4,5': 4545, 'primate': 4546, 'administrations': 4547, 'metabolised': 4548, 'arrythmias': 4549, 'typically': 4550, 'pointe': 4551, 'infective': 4552, 'Please': 4553, 'note': 4554, 'cardiopulmonary': 4555, 'arrest': 4556, 'full': 4557, 'kind': 4558, 'contribute': 4559, 'travelers': 4560, 'comedication': 4561, 'checked': 4562, 'departure': 4563, 'conventional': 4564, 'micromol/l': 4565, 'relaxation': 4566, 'arteries': 4567, 'preconstricted': 4568, 'mmol/l': 4569, 'lean': 4570, 'obese': 4571, 'NAME': 4572, 'giving': 4573, 'superimposed': 4574, 'precontracted': 4575, 'endothelial': 4576, 'denudation': 4577, 'independent': 4578, 'endothelium': 4579, 'effected': 4580, 'NO': 4581, 'HC1': 4582, 'MI': 4583, 'otherwise': 4584, 'Anticoagulation': 4585, 'reinfarction': 4586, 'stroke': 4587, '3.9': 4588, '3.1': 4589, 'strongyloidiasis': 4590, 'cure': 4591, 'bad': 4592, 'Recommendations': 4593, 'diffusible': 4594, 'helminthic': 4595, 'hormonalmethods': 4596, 'usedas': 4597, 'sole': 4598, 'method': 4599, 'inwomen': 4600, 'DRUG2may': 4601, 'thesemedications': 4602, 'beadministered': 4603, 'becausedecreases': 4604, 'plasmaconcentrations': 4605, '533/133': 4606, 'isrecommended': 4607, 'forevidence': 4608, 'incombination': 4609, 'respectto': 4610, 'ofthe': 4611, 'needing': 4612, 'treatpatients': 4613, 'andusing': 4614, 'mayuse': 4615, 'instead': 4616, 'aBased': 4617, 'narcotic': 4618, 'Metabolizing': 4619, 'Transport': 4620, 'Systems': 4621, 'undergoes': 4622, 'Pgp': 4623, 'meaningfully': 4624, 'parental': 4625, 'continuously': 4626, 'fall': 4627, 'Profound': 4628, 'hemodynamic': 4629, 'Blockers': 4630, 'TC': 4631, 'nonetheless': 4632, 'prostaglandins': 4633, 'play': 4634, 'hemostasis': 4635, 'Ingestion': 4636, 'begin': 4637, 'necessitated': 4638, '10/interaction': 4639, 'penicillamine': 4640, 'Binding': 4641, 'Distinct': 4642, 'resistances': 4643, 'comparatively': 4644, 'disc': 4645, 'leprosy': 4646, 'still': 4647, 'carboxymethylcellulose': 4648, 'cysteine': 4649, 'CMC': 4650, 'Cys': 4651, 'conjugates': 4652, 'permeation': 4653, 'peptide': 4654, 'covalently': 4655, 'linked': 4656, 'carbodiimide': 4657, 'Unmodified': 4658, 'm/v': 4659, 'app': 4660, 'polymer/': 4661, '1.3': 4662, 'conjugated': 4663, 'Decreasing': 4664, 'exhibiting': 4665, '7.3': 4666, 'm/m': 4667, 'immobilised': 4668, 'Cys7.3': 4669, '1.8': 4670, 'Formulation': 4671, 'fluorescence': 4672, 'labelled': 4673, 'unconjugated': 4674, 'Conjugation': 4675, 'hydrophilic': 4676, 'maybe': 4677, 'peroral': 4678, 'applying': 4679, 'drying': 4680, 'Eliminated': 4681, 'Tubular': 4682, 'Secretion': 4683, 'DRUG': 4684, 'INTERACTIONS': 4685, 'drug/drug': 4686, 'Vaccinations': 4687, 'immunocompromised': 4688, 'haemorrhagic': 4689, 'Impaired': 4690, 'described': 4691, 'conditioned': 4692, 'graft': 4693, 'host': 4694, 'Isozymes': 4695, 'intense': 4696, 'difficulty': 4697, 'achieving': 4698, 'accentuated': 4699, 'premedications': 4700, 'myeloproliferative': 4701, 'DISCUSSION': 4702, 'hydroxymethylglutaryl': 4703, 'previous': 4704, 'TNF': 4705, 'TNFa': 4706, 'toxicities': 4707, 'besides': 4708, 'Crohn': 4709, 'MP/DRUGOTHER': 4710, 'aminosalicylates': 4711, 'MP/DRUG2': 4712, 'psoriatic': 4713, 'leads': 4714, 'enzymatic': 4715, 'thiouric': 4716, 'fourth': 4717, 'Subsequent': 4718, 'appearance': 4719, 'urate': 4720, 'xanthine': 4721, 'oxypurines': 4722, 'hypoxanthine': 4723, 'uric': 4724, 'date': 4725, 'attempt': 4726, 'establish': 4727, 'causation': 4728, 'conservatively': 4729, 'detected': 4730, 'skin': 4731, 'rash': 4732, 'neoplastic': 4733, 'lymphoma': 4734, 'tubule': 4735, 'Monitoring': 4736, 'Response': 4737, 'just': 4738, 'Day': 4739, 'syncope/presyncope': 4740, 'compensatory': 4741, 'Exaggerated': 4742, 'proprietary': 4743, 'drops': 4744, 'definite': 4745, 'myasthenic': 4746, 'definitely': 4747, 'Local': 4748, 'EC50': 4749, 'nonfailing': 4750, 'mumol/liter': 4751, 'Radioligand': 4752, 'carrier': 4753, 'density': 4754, 'defect': 4755, 'failing': 4756, 'mimicked': 4757, 'Compromised': 4758, 'growing': 4759, 'aerobic': 4760, 'bacteria': 4761, 'traditional': 4762, 'complicated': 4763, 'uncomplicated': 4764, 'prostatitis': 4765, 'Advantages': 4766, 'offered': 4767, 'multidrug': 4768, 'inactivation': 4769, 'perioperative': 4770, 'ureidopenicillins': 4771, 'depolarizing': 4772, 'Coagulation': 4773, 'thrombocyte': 4774, 'copper': 4775, 'Bio': 4776, 'Rad': 4777, 'Platelia': 4778, 'Aspergillus': 4779, 'EIA': 4780, 'circulating': 4781, 'QHS': 4782, 'motion': 4783, 'sickness': 4784, 'depletor': 4785, 'equivocally': 4786, 'points': 4787, 'considering': 4788, 'supraventricular': 4789, 'aim': 4790, 'paper': 4791, 'analogue': 4792, 'Ala2': 4793, 'metenkephalinamide': 4794, 'antinonciceptive': 4795, 'peptides': 4796, 'intracisternal': 4797, 'evidently': 4798, 'contrary': 4799, 'modulates': 4800, 'opposite': 4801, 'way': 4802, 'enkephalinergic': 4803, 'Medications': 4804, 'utilization': 4805, 'sugar': 4806, 'inflammation': 4807, 'Crohns': 4808, 'ulcerative': 4809, 'colitis': 4810, 'concern': 4811, 'supplemental': 4812, 'masking': 4813, 'B12': 4814, 'professional': 4815, 'know': 4816, 'Eye': 4817, 'preparation': 4818, 'gritty': 4819, 'substance': 4820, 'form': 4821, 'preservative': 4822, 'eye': 4823, 'prudent': 4824, 'dictates': 4825, 'Until': 4826, '16,16': 4827, 'dimethylprostaglandin': 4828, 'E2': 4829, 'cecectomized': 4830, 'resecting': 4831, 'cecum': 4832, 'vasculature': 4833, 'disturbing': 4834, 'ileocecal': 4835, 'junction': 4836, 'intraluminally': 4837, 's.c': 4838, 's.c.': 4839, '0.3': 4840, 'methyllevallorphan': 4841, 'partly': 4842, 'impairs': 4843, 'paralytic': 4844, 'disorientation': 4845, 'Approximately': 4846, 'unfractionated': 4847, '15,000': 4848, 'units/day': 4849, 'APTT': 4850, 'factor': 4851, 'VIII': 4852, 'IX': 4853, 'XI': 4854, 'estimates': 4855, 'formulations': 4856, 'complexes': 4857, 'Separating': 4858, 'minimizes': 4859, 'precede': 4860, 'follow': 4861, 'hundred': 4862, 'cups': 4863, 'American': 4864, 'coffee': 4865, 'achieved': 4866, 'interference': 4867, 'accompany': 4868, 'members': 4869, 'slows': 4870, 'lome': 4871, 'floxacin': 4872, 'enantiomer': 4873, 'HT3': 4874, '125mg': 4875, 'reflects': 4876, '1.34': 4877, 'completion': 4878, 'admini': 4879, 'stered': 4880, '4,8': 4881, 'back': 4882, '3.3': 4883, 'Day5': 4884, 'Day9': 4885, '230': 4886, '170': 4887, 'pharmacokinetics/pharmacodynamics': 4888, '350': 4889, 'mg/L': 4890, 'CYP450s': 4891, 'multidose': 4892, '4.55': 4893, '12.08': 4894, 'ng': 4895, 'hr/mL': 4896, '6.13': 4897, '1.13': 4898, 'target': 4899, 'edema': 4900, 'methylglutaryl': 4901, 'HMGCoA': 4902, 'approved': 4903, '1986': 4904, 'distinct': 4905, 'unique': 4906, 'biopharmaceutical': 4907, 'resin': 4908, 'embolism': 4909, 'puncture': 4910, 'symptom': 4911, 'prohibited': 4912, 'NINDS': 4913, 't': 4914, 'Stroke': 4915, 'Trial': 4916, 'frova_od.htm': 4917, 'treating': 4918, 'Being': 4919, 'lomefloxacin': 4920, 'Shimadzu': 4921, 'PDA': 4922, 'detector': 4923, 'reacts': 4924, 'media': 4925, 'multi': 4926, 'minerals': 4927, 'neutral': 4928, 'cream': 4929, 'Cream': 4930, 'biologic': 4931, 'hydroxylated': 4932, 'totally': 4933, 'albumin': 4934, 'possibilities': 4935, 'Chronic': 4936, 'sali': 4937, 'cylates': 4938, 'implications': 4939, 'uniformity': 4940, 'modifies': 4941, 'consequent': 4942, 'antiseptic': 4943, 'calculus': 4944, 'better': 4945, 'Depression': 4946, 'always': 4947, 'preventive': 4948, 'flushes': 4949, 'menopause': 4950, 'replace': 4951, 'hospitalized': 4952, 'tolerability': 4953, '86': 4954, 'departments': 4955, 'internal': 4956, 'cardiology': 4957, 'indications': 4958, 'n=43': 4959, 'corresponded': 4960, 'hospital': 4961, 'formulary': 4962, 'Rate': 4963, 'achievement': 4964, 'BP': 4965, '93': 4966, 'But': 4967, 'quicker': 4968, '5.8+/': 4969, '9.2+/': 4970, '2.5+/': 4971, '3.0+/': 4972, '0.9': 4973, 'concealed': 4974, 'inefficacy': 4975, 'appropriateness': 4976, 'inhospital': 4977, 'allowing': 4978, 'diminishing': 4979, 'C.P.A': 4980, 'incremental': 4981, 'adding': 4982, 'Carcinogenesis': 4983, 'Mutagenesis': 4984, 'Impairment': 4985, 'Fertility': 4986, '104': 4987, 'carcinogenicity': 4988, 'females': 4989, '~20': 4990, 'gavage': 4991, 'fertility': 4992, 'reproductive': 4993, '~7': 4994, 'rabbits': 4995, 'extra': 4996, 'thoracic': 4997, 'ribs': 4998, 'organogenesis': 4999, 'statin': 5000, 'A375': 5001, 'melanoma': 5002, 'alkyating': 5003, 'pro': 5004, 'oxidant': 5005, 'MTT': 5006, 'radiolabeled': 5007, 'thiol': 5008, 'strand': 5009, 'breaks': 5010, 'Comet': 5011, 'glutathione': 5012, 'tryptophan': 5013, 'MPTP': 5014, 'violations': 5015, 'C57BL/6': 5016, 'adamantyl': 5017, 'hexamethylenimine': 5018, 'o': 5019, 'neurotoxin': 5020, '1,2,3,4': 5021, 'i.': 5022, 'normalized': 5023, 'Nephrotoxicity': 5024, 'kill': 5025, 'bacilli': 5026, 'corticosteroid': 5027, 'CBG': 5028, 'SHBG': 5029, 'dental': 5030, 'humidity': 5031, 'depressants/anti': 5032, 'anxiety': 5033, 'overactive': 5034, 'aid': 5035, 'sleep': 5036, 'drowsy': 5037, 'occurs': 5038, 'epidural': 5039, 'SIDE': 5040, 'EFFECTS': 5041, '63': 5042, 'clotibrate': 5043, 'chloralose': 5044, 'anesthetized': 5045, 'swine': 5046, 'switched': 5047, 'thought': 5048, 'releaser': 5049, 'constellation': 5050, 'termed': 5051, 'AUCs': 5052, 'antiemetics': 5053, 'raise': 5054, 'special': 5055, 'Large': 5056, 'quart': 5057, '=1': 5058, 'g/day': 5059, 'myopathy/rhabdomyolysis': 5060, 'WARNINGS': 5061, 'Myopathy/Rhabdomyolysis': 5062, 'insure': 5063, 'hypercholesterolemia': 5064, 'hypercholesterolemic': 5065, 'noninsulin': 5066, 'addictive': 5067, 'habituating': 5068, 'habituation': 5069}\n"
     ]
    }
   ],
   "source": [
    "idx = create_index(dataset, 100)\n",
    "print(idx[\"words\"])\n",
    "#print(idx[\"labels\"])\n",
    "#print(idx['maxlen'])"
   ]
  },
  {
   "cell_type": "code",
   "execution_count": 10,
   "metadata": {},
   "outputs": [],
   "source": [
    "def encode_words(dataset, idx):\n",
    "    '''\n",
    "    Task: Encode the words in a sentence dataset formed by lists of tokens into lists of indexes\n",
    "          suitable for NN input.\n",
    "    Input: \n",
    "        dataset: A dataset produced by load_data.\n",
    "        idx: A dictionary produced by create_indexs, containing word and label indexes, as well\n",
    "             as the maximum sentence length.\n",
    "             \n",
    "    Output: The dataset encoded as a list of sentence, each of them is a list of word indices.\n",
    "            If the word is not in the index, <UNK> code is used. If the sentence is shorter than\n",
    "            max_len it is padded with <PAD> code.\n",
    "    Example: \n",
    "        >>> encode_words(traindata, idx)\n",
    "            [ [6882 1049 4911 ... 0 0 0 ]\n",
    "            [  2290 7548 8069 ... 0 0 0 ]\n",
    "               ...\n",
    "            [  2002 6582 7518 ... 0 0 0 ] ]\n",
    "    '''\n",
    "    max_length = idx['maxlen']\n",
    "    seq = []\n",
    "    for s in dataset:\n",
    "        words = s[4]\n",
    "        aux = []\n",
    "        for tup in words:\n",
    "            w = tup[0]\n",
    "            if w in idx['words']:\n",
    "                i = idx['words'][w]\n",
    "            else:\n",
    "                i = idx['words']['<UNK>']\n",
    "            aux.append(i)\n",
    "        seq.append(aux)\n",
    "        \n",
    "    seq_padded = pad_sequences(maxlen = max_length, sequences = seq, padding = 'post')\n",
    "    \n",
    "    return seq_padded\n",
    "        \n",
    "        \n",
    "def encode_labels(dataset, idx):\n",
    "    '''\n",
    "    Task: Encode the ground truth labels in a dataset of classification examples (sentence + entity pair).\n",
    "    Input:\n",
    "        dataset: A dataset produced by load_data.\n",
    "        idx: A dictionary produced by create_index, containing word and label indexes, as well as the maximum length.\n",
    "        \n",
    "    Output: The dataset encoded as a list DDI labels, one per classification example. \n",
    "    \n",
    "    Example :\n",
    "     >>> encode_labels ( traindata , idx )\n",
    "     [  [0] [0] [2] ... [4] [0] [0] [1] [0] ]\n",
    "     [[ [4] [6] [4] [4] [4] [4] ... [0] [0] ]\n",
    "     [  [4] [4] [8] [4] [6] [4] ... [0] [0] ]\n",
    "         ...\n",
    "     [  [4] [8] [9] [4] [4] [4] ... [0] [0] ]\n",
    "     ] \n",
    "    '''\n",
    "    \n",
    "    seq = []\n",
    "    for s in dataset:\n",
    "        labels = s[3]"
   ]
  },
  {
   "cell_type": "code",
   "execution_count": 11,
   "metadata": {},
   "outputs": [
    {
     "name": "stdout",
     "output_type": "stream",
     "text": [
      "[[   2    3    4 ...    0    0    0]\n",
      " [  19   20   21 ...    0    0    0]\n",
      " [  19   20   21 ...    0    0    0]\n",
      " ...\n",
      " [1280 1075  146 ...    0    0    0]\n",
      " [1280 1075  146 ...    0    0    0]\n",
      " [1280 1075  146 ...    0    0    0]]\n"
     ]
    }
   ],
   "source": [
    "X_train = encode_words(dataset, idx)\n",
    "print(X_train)"
   ]
  },
  {
   "cell_type": "code",
   "execution_count": null,
   "metadata": {},
   "outputs": [],
   "source": [
    "def build_network(idx):\n",
    "    '''\n",
    "    Task: Create network for the learner. \n",
    "    Input:\n",
    "        idx: index dictionary with word/labels codes, plus maximum sentence length.\n",
    "    Output: Returns a compiled Keras neural network with the specified layers\n",
    "    '''\n",
    "    \n",
    "    #sizes\n",
    "    n_words = len(idx['words'])\n",
    "    n_labels = len(idx['labels'])\n",
    "    max_len = idx['maxlen']\n",
    "    \n",
    "    # create network layers\n",
    "    inp = Input(shape=(max_len,))\n",
    "    ##addd layers\n",
    "    \n",
    "    # create and compile model\n",
    "    model = Model(inp, out)\n",
    "    model.compile() # set appropriate parameters (optimizer, loss, etc)\n",
    "    \n",
    "    return model"
   ]
  },
  {
   "cell_type": "code",
   "execution_count": null,
   "metadata": {},
   "outputs": [],
   "source": [
    "def save_model_and_indexes(model, idx, filename):\n",
    "    '''\n",
    "    Task: Save given model and indexs to disk\n",
    "    Input: \n",
    "        model: Keras model created by _build_network, and trained.\n",
    "        idx: A dictionary produced by create_indexs, containing word and label indexes, \n",
    "             as well as the maximum sentence length. \n",
    "        filename: Saves the mode into filename.nn and the indexes into filename.idx\n",
    "    '''\n",
    "    \n",
    "    # Use Keras.model.save and keras.models.load_model functions to save/load the model\n",
    "    # Use your preferred method (pickel, plain text, etc) to save/load the index dict."
   ]
  },
  {
   "cell_type": "markdown",
   "metadata": {},
   "source": [
    "## `Learner()`"
   ]
  },
  {
   "cell_type": "code",
   "execution_count": null,
   "metadata": {},
   "outputs": [],
   "source": [
    "def learner(traindir, validationdir, modelname):\n",
    "    '''\n",
    "    Learns a NN model using traindir as training data, and validationdir as validation data.\n",
    "    Saves learnt model in a file named modelname\n",
    "    '''\n",
    "    # load train and validation data in a suitable form\n",
    "    traindata = load_data(traindir)\n",
    "    valdata = load_data(validationdir)\n",
    "    \n",
    "    # create indexes from trainindg data \n",
    "    max_len = 100\n",
    "    idx = create_indexs(traindata, max_len)\n",
    "    \n",
    "    # build network \n",
    "    model = build_model(idx)\n",
    "    \n",
    "    # encode datasets\n",
    "    Xtrain = encode_words(traindata, idx)\n",
    "    Ytrain = encode_labels(traindata, idx)\n",
    "    Xval = encode_words(valdata, idx)\n",
    "    Yval = encode_labels(valdata, idx)\n",
    "    \n",
    "    # train model\n",
    "    model.fit(Xtrain, Ytrain, validation_data=(Xval, Yval))\n",
    "    \n",
    "    # save model and indexs, for later use in prediction\n",
    "    save_model_and_indexs(model, idx, modelname)"
   ]
  },
  {
   "cell_type": "markdown",
   "metadata": {},
   "source": [
    "***\n",
    "## Classifier Functions"
   ]
  },
  {
   "cell_type": "code",
   "execution_count": null,
   "metadata": {},
   "outputs": [],
   "source": [
    "def load_model_and_indexs(filename):\n",
    "    '''\n",
    "    Task: Load model and associate indexs from disk.\n",
    "    Input:\n",
    "        filename: filename to be loaded\n",
    "    Output: Loads a model from filename.nn and its indexes from filename.idx\n",
    "            Returns the loaded model and indexes. \n",
    "    '''\n",
    "    \n",
    "    # Use Keras.model.save and keras.models.load_model functions to save/load the model\n",
    "    # Use your preferred method (pickel, plain text, etc) to save/load the index dict."
   ]
  },
  {
   "cell_type": "code",
   "execution_count": null,
   "metadata": {},
   "outputs": [],
   "source": [
    "def output_interactions(dataset, preds): \n",
    "    '''\n",
    "    Task: Output detected DDIs in the format expected by the evaluator.\n",
    "    Input:\n",
    "        dataset: A dataset produced by load_data\n",
    "        preds: Fore each sentence in dataset, a label for its DDI type (or 'null' if no DDI detected)\n",
    "        \n",
    "    Output: prints the detected interactions to dtdout in the format required by the evaluator.\n",
    "    Example:\n",
    "        >>> output_interactions ( dataset , preds )\n",
    "            DDI - DrugBank . d398 .s0|DDI - DrugBank . d398 .s0.e0|DDI - DrugBank . d398 .s0.e1|effect\n",
    "            DDI - DrugBank . d398 .s0|DDI - DrugBank . d398 .s0.e0|DDI - DrugBank . d398 .s0.e2|effect\n",
    "            DDI - DrugBank . d211 .s2|DDI - DrugBank . d211 .s2.e0|DDI - DrugBank . d211 .s2.e5|mechanism\n",
    "            ...\n",
    "    '''"
   ]
  },
  {
   "cell_type": "markdown",
   "metadata": {},
   "source": [
    "## `Classifier()`"
   ]
  },
  {
   "cell_type": "code",
   "execution_count": null,
   "metadata": {},
   "outputs": [],
   "source": [
    "def predict(modelname, datadir, outfile):\n",
    "    '''\n",
    "    Loads a NN model from a file 'modelname' and uses it to extract drugs in datadir. Saves\n",
    "    results to 'outfile' in the appropriate format\n",
    "    '''\n",
    "    \n",
    "    # load model and associated encoding data\n",
    "    model, idx = load_model_and_indexs(modelname)\n",
    "    \n",
    "    # load data to annotate\n",
    "    testdata = load_data(datadir)\n",
    "    \n",
    "    # encode dataset\n",
    "    X = encode_words(testdata, idx)\n",
    "    \n",
    "    # tag sentences in dataset\n",
    "    Y = model.predict(X)\n",
    "    # get most likely tag for each word\n",
    "    Y = [[idx['labels'][np.argmax(y)] for y in s] for s in Y]\n",
    "    \n",
    "    # extract entities and dump them to output file\n",
    "    output_entities(testdata, Y, outfile)\n",
    "    \n",
    "    # evaluate using official evaluator\n",
    "    evaluation(datadir, outfile)"
   ]
  },
  {
   "cell_type": "markdown",
   "metadata": {},
   "source": [
    "***"
   ]
  },
  {
   "cell_type": "markdown",
   "metadata": {},
   "source": [
    "### Testing Functions"
   ]
  },
  {
   "cell_type": "code",
   "execution_count": 2,
   "metadata": {},
   "outputs": [],
   "source": [
    "#file = '../../labAHLT/data/train/Balsalazide_ddi.xml'\n",
    "file = '../../labAHLT/data/train/Idoxuridine_ddi.xml'\n",
    "dataset = []\n",
    "\n",
    "tree = parse(file)\n",
    "wordnet_lemmatizer = WordNetLemmatizer()\n",
    "\n",
    "sentences = tree.getElementsByTagName(\"sentence\")\n",
    "\n",
    "for s in sentences: \n",
    "    sid = s.attributes[\"id\"].value\n",
    "            \n",
    "    stext = s.attributes[\"text\"].value\n",
    "    stext = stext.replace(\"-\",\" \")\n",
    "            \n",
    "    ents = {}\n",
    "    entities = s.getElementsByTagName(\"entity\")\n",
    "    \n",
    "    for e in entities:\n",
    "        e_id = e.attributes[\"id\"].value\n",
    "        offset = e.attributes[\"charOffset\"].value\n",
    "        name = e.attributes[\"text\"].value\n",
    "        ents[e_id] = name\n",
    "\n",
    "    pairs = s.getElementsByTagName(\"pair\")\n",
    "    for p in pairs:\n",
    "        pair_sent = stext\n",
    "        e1_id = p.attributes['e1'].value\n",
    "        e2_id = p.attributes['e2'].value\n",
    "        \n",
    "        \n",
    "        if p.attributes['ddi'].value == 'true':\n",
    "            ddi = p.attributes['type'].value\n",
    "        else:\n",
    "            ddi = 'none'\n",
    "\n",
    "        aux = [sid, e1_id, e2_id, ddi]\n",
    "        for key, item in ents.items():\n",
    "            if key == e1_id:\n",
    "                drug_1 = item\n",
    "                pair_sent = pair_sent.replace(drug_1, 'DRUG1')\n",
    "            elif key == e2_id:\n",
    "                drug_2 = item\n",
    "                pair_sent = pair_sent.replace(drug_2, 'DRUG2')\n",
    "            else:\n",
    "                other_drug = item\n",
    "                pair_sent = pair_sent.replace(other_drug, 'DRUG_OTHER')\n",
    "        \n",
    "        #punct = [\".\",\",\",\";\",\":\",\"?\",\"!\"] # Remove stopwords\n",
    "        tokens = word_tokenize(pair_sent)\n",
    "        aux2 = []\n",
    "        for t in tokens:\n",
    "            lemma = wordnet_lemmatizer.lemmatize(t)\n",
    "            tk = (t, lemma) # TODO: Add PoS Tag and check lemmatizer\n",
    "            aux2.append(tk)\n",
    "        aux.append(aux2)\n",
    "        dataset.append(aux)"
   ]
  }
 ],
 "metadata": {
  "kernelspec": {
   "display_name": "MiriQ3",
   "language": "python",
   "name": "miriq3"
  },
  "language_info": {
   "codemirror_mode": {
    "name": "ipython",
    "version": 3
   },
   "file_extension": ".py",
   "mimetype": "text/x-python",
   "name": "python",
   "nbconvert_exporter": "python",
   "pygments_lexer": "ipython3",
   "version": "3.8.3"
  }
 },
 "nbformat": 4,
 "nbformat_minor": 4
}
